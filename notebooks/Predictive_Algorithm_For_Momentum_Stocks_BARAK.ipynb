{
  "nbformat": 4,
  "nbformat_minor": 0,
  "metadata": {
    "colab": {
      "name": "Predictive Algorithm For Momentum Stocks V6.ipynb",
      "provenance": [],
      "collapsed_sections": [],
      "toc_visible": true
    },
    "kernelspec": {
      "display_name": "Python 3",
      "name": "python3"
    },
    "language_info": {
      "name": "python"
    }
  },
  "cells": [
    {
      "cell_type": "markdown",
      "metadata": {
        "id": "Lcdw1d_koczQ"
      },
      "source": [
        "##------------Installs + Packages--------------"
      ]
    },
    {
      "cell_type": "markdown",
      "source": [
        "##Installs"
      ],
      "metadata": {
        "id": "uMTpgM1PA6IR"
      }
    },
    {
      "cell_type": "code",
      "source": [
        "# !pip install -r requirements.txt"
      ],
      "metadata": {
        "id": "tQnPLZ4nzPs2"
      },
      "execution_count": null,
      "outputs": []
    },
    {
      "cell_type": "code",
      "source": [
        "# !pip install wget"
      ],
      "metadata": {
        "id": "afI50pWx2hSa"
      },
      "execution_count": null,
      "outputs": []
    },
    {
      "cell_type": "code",
      "source": [
        "# wget '$url/libta-lib0_0.4.0-oneiric1_amd64.deb -qO libta.deb'"
      ],
      "metadata": {
        "id": "6sVMbYAY2kKl"
      },
      "execution_count": null,
      "outputs": []
    },
    {
      "cell_type": "code",
      "source": [
        "# !python file.py\n",
        "\n"
      ],
      "metadata": {
        "id": "r0m1x4cd15st"
      },
      "execution_count": null,
      "outputs": []
    },
    {
      "cell_type": "code",
      "source": [
        "# !pip install ta-lib"
      ],
      "metadata": {
        "id": "FhIdBlLQ0bZb"
      },
      "execution_count": null,
      "outputs": []
    },
    {
      "cell_type": "code",
      "source": [
        "# pip install yfinance\n",
        "# url = 'https://launchpad.net/~mario-mariomedina/+archive/ubuntu/talib/+files'\n",
        "# wget $url/libta-lib0_0.4.0-oneiric1_amd64.deb -qO libta.deb\n",
        "# wget $url/ta-lib0-dev_0.4.0-oneiric1_amd64.deb -qO ta.deb\n",
        "# dpkg -i libta.deb ta.deb\n",
        "# pip install ta-lib\n",
        "# pip install fear-greed-index\n",
        "# pip install finvizfinance\n",
        "# pip install finvizfinance.news\n",
        "# pip install finvizfinance.screener.overview\n",
        "# !pip install --upgrade pandas==1.3.4\n",
        "# import warnings\n",
        "# warnings.simplefilter(action='ignore')"
      ],
      "metadata": {
        "id": "JYZ8VZ4yygq0"
      },
      "execution_count": null,
      "outputs": []
    },
    {
      "cell_type": "code",
      "source": [
        "# url = 'https://launchpad.net/~mario-mariomedina/+archive/ubuntu/talib/+files'\n",
        "# !wget $url/libta-lib0_0.4.0-oneiric1_amd64.deb -qO libta.deb\n",
        "# !wget $url/ta-lib0-dev_0.4.0-oneiric1_amd64.deb -qO ta.deb\n",
        "# !dpkg -i libta.deb ta.deb"
      ],
      "metadata": {
        "id": "vYqpSb9K348Y"
      },
      "execution_count": null,
      "outputs": []
    },
    {
      "cell_type": "code",
      "source": [
        "!pip install finvizfinance"
      ],
      "metadata": {
        "colab": {
          "base_uri": "https://localhost:8080/"
        },
        "id": "OhrWMlB0tFPl",
        "outputId": "c5d1b6b2-8eb5-46ca-aeaa-674b3bbf4bd2"
      },
      "execution_count": null,
      "outputs": [
        {
          "output_type": "stream",
          "name": "stdout",
          "text": [
            "Requirement already satisfied: finvizfinance in /usr/local/lib/python3.7/dist-packages (0.12.2)\n",
            "Requirement already satisfied: requests in /usr/local/lib/python3.7/dist-packages (from finvizfinance) (2.27.1)\n",
            "Requirement already satisfied: datetime in /usr/local/lib/python3.7/dist-packages (from finvizfinance) (4.4)\n",
            "Requirement already satisfied: bs4 in /usr/local/lib/python3.7/dist-packages (from finvizfinance) (0.0.1)\n",
            "Requirement already satisfied: lxml in /usr/local/lib/python3.7/dist-packages (from finvizfinance) (4.8.0)\n",
            "Requirement already satisfied: pandas in /usr/local/lib/python3.7/dist-packages (from finvizfinance) (1.3.4)\n",
            "Requirement already satisfied: beautifulsoup4 in /usr/local/lib/python3.7/dist-packages (from bs4->finvizfinance) (4.6.3)\n",
            "Requirement already satisfied: zope.interface in /usr/local/lib/python3.7/dist-packages (from datetime->finvizfinance) (5.4.0)\n",
            "Requirement already satisfied: pytz in /usr/local/lib/python3.7/dist-packages (from datetime->finvizfinance) (2018.9)\n",
            "Requirement already satisfied: python-dateutil>=2.7.3 in /usr/local/lib/python3.7/dist-packages (from pandas->finvizfinance) (2.8.2)\n",
            "Requirement already satisfied: numpy>=1.17.3 in /usr/local/lib/python3.7/dist-packages (from pandas->finvizfinance) (1.21.5)\n",
            "Requirement already satisfied: six>=1.5 in /usr/local/lib/python3.7/dist-packages (from python-dateutil>=2.7.3->pandas->finvizfinance) (1.15.0)\n",
            "Requirement already satisfied: idna<4,>=2.5 in /usr/local/lib/python3.7/dist-packages (from requests->finvizfinance) (2.10)\n",
            "Requirement already satisfied: urllib3<1.27,>=1.21.1 in /usr/local/lib/python3.7/dist-packages (from requests->finvizfinance) (1.24.3)\n",
            "Requirement already satisfied: charset-normalizer~=2.0.0 in /usr/local/lib/python3.7/dist-packages (from requests->finvizfinance) (2.0.12)\n",
            "Requirement already satisfied: certifi>=2017.4.17 in /usr/local/lib/python3.7/dist-packages (from requests->finvizfinance) (2021.10.8)\n",
            "Requirement already satisfied: setuptools in /usr/local/lib/python3.7/dist-packages (from zope.interface->datetime->finvizfinance) (57.4.0)\n"
          ]
        }
      ]
    },
    {
      "cell_type": "code",
      "source": [
        "!pip install yfinance"
      ],
      "metadata": {
        "colab": {
          "base_uri": "https://localhost:8080/"
        },
        "id": "DXz4FOUHsr8M",
        "outputId": "93633845-b7b3-4b0e-ed76-75bc72aac6c0"
      },
      "execution_count": null,
      "outputs": [
        {
          "output_type": "stream",
          "name": "stdout",
          "text": [
            "Collecting yfinance\n",
            "  Downloading yfinance-0.1.70-py2.py3-none-any.whl (26 kB)\n",
            "Requirement already satisfied: pandas>=0.24.0 in /usr/local/lib/python3.7/dist-packages (from yfinance) (1.3.4)\n",
            "Requirement already satisfied: lxml>=4.5.1 in /usr/local/lib/python3.7/dist-packages (from yfinance) (4.8.0)\n",
            "Requirement already satisfied: requests>=2.26 in /usr/local/lib/python3.7/dist-packages (from yfinance) (2.27.1)\n",
            "Requirement already satisfied: numpy>=1.15 in /usr/local/lib/python3.7/dist-packages (from yfinance) (1.21.5)\n",
            "Requirement already satisfied: multitasking>=0.0.7 in /usr/local/lib/python3.7/dist-packages (from yfinance) (0.0.10)\n",
            "Requirement already satisfied: pytz>=2017.3 in /usr/local/lib/python3.7/dist-packages (from pandas>=0.24.0->yfinance) (2018.9)\n",
            "Requirement already satisfied: python-dateutil>=2.7.3 in /usr/local/lib/python3.7/dist-packages (from pandas>=0.24.0->yfinance) (2.8.2)\n",
            "Requirement already satisfied: six>=1.5 in /usr/local/lib/python3.7/dist-packages (from python-dateutil>=2.7.3->pandas>=0.24.0->yfinance) (1.15.0)\n",
            "Requirement already satisfied: urllib3<1.27,>=1.21.1 in /usr/local/lib/python3.7/dist-packages (from requests>=2.26->yfinance) (1.24.3)\n",
            "Requirement already satisfied: charset-normalizer~=2.0.0 in /usr/local/lib/python3.7/dist-packages (from requests>=2.26->yfinance) (2.0.12)\n",
            "Requirement already satisfied: certifi>=2017.4.17 in /usr/local/lib/python3.7/dist-packages (from requests>=2.26->yfinance) (2021.10.8)\n",
            "Requirement already satisfied: idna<4,>=2.5 in /usr/local/lib/python3.7/dist-packages (from requests>=2.26->yfinance) (2.10)\n",
            "Installing collected packages: yfinance\n",
            "Successfully installed yfinance-0.1.70\n"
          ]
        }
      ]
    },
    {
      "cell_type": "code",
      "metadata": {
        "id": "N9nH5UgkJ0AG",
        "colab": {
          "base_uri": "https://localhost:8080/",
          "height": 1000
        },
        "outputId": "4334783a-36c0-4c5b-e5af-2f71517d807a"
      },
      "source": [
        "!pip install yfinance\n",
        "url = 'https://launchpad.net/~mario-mariomedina/+archive/ubuntu/talib/+files'\n",
        "!wget $url/libta-lib0_0.4.0-oneiric1_amd64.deb -qO libta.deb\n",
        "!wget $url/ta-lib0-dev_0.4.0-oneiric1_amd64.deb -qO ta.deb\n",
        "!dpkg -i libta.deb ta.deb\n",
        "!pip install ta-lib\n",
        "!pip install fear-greed-index\n",
        "!pip install finvizfinance\n",
        "!pip install finvizfinance.news\n",
        "!pip install finvizfinance.screener.overview\n",
        "!pip install --upgrade pandas==1.3.4\n",
        "import warnings\n",
        "warnings.simplefilter(action='ignore')"
      ],
      "execution_count": null,
      "outputs": [
        {
          "output_type": "stream",
          "name": "stdout",
          "text": [
            "Collecting yfinance\n",
            "  Downloading yfinance-0.1.70-py2.py3-none-any.whl (26 kB)\n",
            "Requirement already satisfied: numpy>=1.15 in /usr/local/lib/python3.7/dist-packages (from yfinance) (1.21.5)\n",
            "Collecting lxml>=4.5.1\n",
            "  Downloading lxml-4.8.0-cp37-cp37m-manylinux_2_17_x86_64.manylinux2014_x86_64.manylinux_2_24_x86_64.whl (6.4 MB)\n",
            "\u001b[K     |████████████████████████████████| 6.4 MB 6.2 MB/s \n",
            "\u001b[?25hRequirement already satisfied: multitasking>=0.0.7 in /usr/local/lib/python3.7/dist-packages (from yfinance) (0.0.10)\n",
            "Collecting requests>=2.26\n",
            "  Downloading requests-2.27.1-py2.py3-none-any.whl (63 kB)\n",
            "\u001b[K     |████████████████████████████████| 63 kB 1.5 MB/s \n",
            "\u001b[?25hRequirement already satisfied: pandas>=0.24.0 in /usr/local/lib/python3.7/dist-packages (from yfinance) (1.3.5)\n",
            "Requirement already satisfied: python-dateutil>=2.7.3 in /usr/local/lib/python3.7/dist-packages (from pandas>=0.24.0->yfinance) (2.8.2)\n",
            "Requirement already satisfied: pytz>=2017.3 in /usr/local/lib/python3.7/dist-packages (from pandas>=0.24.0->yfinance) (2018.9)\n",
            "Requirement already satisfied: six>=1.5 in /usr/local/lib/python3.7/dist-packages (from python-dateutil>=2.7.3->pandas>=0.24.0->yfinance) (1.15.0)\n",
            "Requirement already satisfied: urllib3<1.27,>=1.21.1 in /usr/local/lib/python3.7/dist-packages (from requests>=2.26->yfinance) (1.24.3)\n",
            "Requirement already satisfied: idna<4,>=2.5 in /usr/local/lib/python3.7/dist-packages (from requests>=2.26->yfinance) (2.10)\n",
            "Requirement already satisfied: certifi>=2017.4.17 in /usr/local/lib/python3.7/dist-packages (from requests>=2.26->yfinance) (2021.10.8)\n",
            "Requirement already satisfied: charset-normalizer~=2.0.0 in /usr/local/lib/python3.7/dist-packages (from requests>=2.26->yfinance) (2.0.11)\n",
            "Installing collected packages: requests, lxml, yfinance\n",
            "  Attempting uninstall: requests\n",
            "    Found existing installation: requests 2.23.0\n",
            "    Uninstalling requests-2.23.0:\n",
            "      Successfully uninstalled requests-2.23.0\n",
            "  Attempting uninstall: lxml\n",
            "    Found existing installation: lxml 4.2.6\n",
            "    Uninstalling lxml-4.2.6:\n",
            "      Successfully uninstalled lxml-4.2.6\n",
            "\u001b[31mERROR: pip's dependency resolver does not currently take into account all the packages that are installed. This behaviour is the source of the following dependency conflicts.\n",
            "google-colab 1.0.0 requires requests~=2.23.0, but you have requests 2.27.1 which is incompatible.\n",
            "datascience 0.10.6 requires folium==0.2.1, but you have folium 0.8.3 which is incompatible.\u001b[0m\n",
            "Successfully installed lxml-4.8.0 requests-2.27.1 yfinance-0.1.70\n",
            "Selecting previously unselected package libta-lib0.\n",
            "(Reading database ... 155113 files and directories currently installed.)\n",
            "Preparing to unpack libta.deb ...\n",
            "Unpacking libta-lib0 (0.4.0-oneiric1) ...\n",
            "Selecting previously unselected package ta-lib0-dev.\n",
            "Preparing to unpack ta.deb ...\n",
            "Unpacking ta-lib0-dev (0.4.0-oneiric1) ...\n",
            "Setting up libta-lib0 (0.4.0-oneiric1) ...\n",
            "Setting up ta-lib0-dev (0.4.0-oneiric1) ...\n",
            "Processing triggers for man-db (2.8.3-2ubuntu0.1) ...\n",
            "Processing triggers for libc-bin (2.27-3ubuntu1.3) ...\n",
            "/sbin/ldconfig.real: /usr/local/lib/python3.7/dist-packages/ideep4py/lib/libmkldnn.so.0 is not a symbolic link\n",
            "\n",
            "Collecting ta-lib\n",
            "  Downloading TA-Lib-0.4.24.tar.gz (269 kB)\n",
            "\u001b[K     |████████████████████████████████| 269 kB 3.7 MB/s \n",
            "\u001b[?25hRequirement already satisfied: numpy in /usr/local/lib/python3.7/dist-packages (from ta-lib) (1.21.5)\n",
            "Building wheels for collected packages: ta-lib\n",
            "  Building wheel for ta-lib (setup.py) ... \u001b[?25l\u001b[?25hdone\n",
            "  Created wheel for ta-lib: filename=TA_Lib-0.4.24-cp37-cp37m-linux_x86_64.whl size=1465728 sha256=4405af4a3eae61979083f416b42ffe4728bad26f9198fd17f837619d842c404c\n",
            "  Stored in directory: /root/.cache/pip/wheels/02/b1/a5/aca31e8cdd0137d7a83bf72237056b8705663dd1f9b5eac11e\n",
            "Successfully built ta-lib\n",
            "Installing collected packages: ta-lib\n",
            "Successfully installed ta-lib-0.4.24\n",
            "Collecting fear-greed-index\n",
            "  Downloading fear_greed_index-0.1.4-py3-none-any.whl (6.6 kB)\n",
            "Collecting Sphinx<5.0.0,>=4.0.2\n",
            "  Downloading Sphinx-4.4.0-py3-none-any.whl (3.1 MB)\n",
            "\u001b[K     |████████████████████████████████| 3.1 MB 4.1 MB/s \n",
            "\u001b[?25hRequirement already satisfied: lxml<5.0.0,>=4.6.5 in /usr/local/lib/python3.7/dist-packages (from fear-greed-index) (4.8.0)\n",
            "Collecting matplotlib<4.0.0,>=3.3.4\n",
            "  Downloading matplotlib-3.5.1-cp37-cp37m-manylinux_2_5_x86_64.manylinux1_x86_64.whl (11.2 MB)\n",
            "\u001b[K     |████████████████████████████████| 11.2 MB 34.9 MB/s \n",
            "\u001b[?25hRequirement already satisfied: bs4<0.0.2,>=0.0.1 in /usr/local/lib/python3.7/dist-packages (from fear-greed-index) (0.0.1)\n",
            "Requirement already satisfied: requests<3.0.0,>=2.25.1 in /usr/local/lib/python3.7/dist-packages (from fear-greed-index) (2.27.1)\n",
            "Collecting sphinx-rtd-theme<0.6.0,>=0.5.2\n",
            "\u001b[33m  WARNING: Retrying (Retry(total=4, connect=None, read=None, redirect=None, status=None)) after connection broken by 'ReadTimeoutError(\"HTTPSConnectionPool(host='files.pythonhosted.org', port=443): Read timed out. (read timeout=15)\")': /packages/ac/24/2475e8f83519b54b2148d4a56eb1111f9cec630d088c3ffc214492c12107/sphinx_rtd_theme-0.5.2-py2.py3-none-any.whl\u001b[0m\n",
            "\u001b[33m  WARNING: Retrying (Retry(total=3, connect=None, read=None, redirect=None, status=None)) after connection broken by 'ReadTimeoutError(\"HTTPSConnectionPool(host='files.pythonhosted.org', port=443): Read timed out. (read timeout=15)\")': /packages/ac/24/2475e8f83519b54b2148d4a56eb1111f9cec630d088c3ffc214492c12107/sphinx_rtd_theme-0.5.2-py2.py3-none-any.whl\u001b[0m\n",
            "\u001b[33m  WARNING: Retrying (Retry(total=2, connect=None, read=None, redirect=None, status=None)) after connection broken by 'ReadTimeoutError(\"HTTPSConnectionPool(host='files.pythonhosted.org', port=443): Read timed out. (read timeout=15)\")': /packages/ac/24/2475e8f83519b54b2148d4a56eb1111f9cec630d088c3ffc214492c12107/sphinx_rtd_theme-0.5.2-py2.py3-none-any.whl\u001b[0m\n",
            "\u001b[33m  WARNING: Retrying (Retry(total=1, connect=None, read=None, redirect=None, status=None)) after connection broken by 'ReadTimeoutError(\"HTTPSConnectionPool(host='files.pythonhosted.org', port=443): Read timed out. (read timeout=15)\")': /packages/ac/24/2475e8f83519b54b2148d4a56eb1111f9cec630d088c3ffc214492c12107/sphinx_rtd_theme-0.5.2-py2.py3-none-any.whl\u001b[0m\n",
            "\u001b[33m  WARNING: Retrying (Retry(total=0, connect=None, read=None, redirect=None, status=None)) after connection broken by 'ReadTimeoutError(\"HTTPSConnectionPool(host='files.pythonhosted.org', port=443): Read timed out. (read timeout=15)\")': /packages/ac/24/2475e8f83519b54b2148d4a56eb1111f9cec630d088c3ffc214492c12107/sphinx_rtd_theme-0.5.2-py2.py3-none-any.whl\u001b[0m\n",
            "  Downloading sphinx_rtd_theme-0.5.2-py2.py3-none-any.whl (9.1 MB)\n",
            "\u001b[K     |████████████████████████████████| 9.1 MB 4.3 MB/s \n",
            "\u001b[?25hCollecting m2r2<0.3.0,>=0.2.7\n",
            "  Downloading m2r2-0.2.8-py3-none-any.whl (10 kB)\n",
            "Collecting Pillow<10.0.0,>=9.0.0\n",
            "  Downloading Pillow-9.0.1-cp37-cp37m-manylinux_2_17_x86_64.manylinux2014_x86_64.whl (4.3 MB)\n",
            "\u001b[K     |████████████████████████████████| 4.3 MB 35.3 MB/s \n",
            "\u001b[?25hRequirement already satisfied: beautifulsoup4 in /usr/local/lib/python3.7/dist-packages (from bs4<0.0.2,>=0.0.1->fear-greed-index) (4.6.3)\n",
            "Requirement already satisfied: docutils in /usr/local/lib/python3.7/dist-packages (from m2r2<0.3.0,>=0.2.7->fear-greed-index) (0.17.1)\n",
            "Requirement already satisfied: mistune in /usr/local/lib/python3.7/dist-packages (from m2r2<0.3.0,>=0.2.7->fear-greed-index) (0.8.4)\n",
            "Requirement already satisfied: python-dateutil>=2.7 in /usr/local/lib/python3.7/dist-packages (from matplotlib<4.0.0,>=3.3.4->fear-greed-index) (2.8.2)\n",
            "Requirement already satisfied: packaging>=20.0 in /usr/local/lib/python3.7/dist-packages (from matplotlib<4.0.0,>=3.3.4->fear-greed-index) (21.3)\n",
            "Requirement already satisfied: cycler>=0.10 in /usr/local/lib/python3.7/dist-packages (from matplotlib<4.0.0,>=3.3.4->fear-greed-index) (0.11.0)\n",
            "Collecting fonttools>=4.22.0\n",
            "  Downloading fonttools-4.29.1-py3-none-any.whl (895 kB)\n",
            "\u001b[K     |████████████████████████████████| 895 kB 50.4 MB/s \n",
            "\u001b[?25hRequirement already satisfied: pyparsing>=2.2.1 in /usr/local/lib/python3.7/dist-packages (from matplotlib<4.0.0,>=3.3.4->fear-greed-index) (3.0.7)\n",
            "Requirement already satisfied: kiwisolver>=1.0.1 in /usr/local/lib/python3.7/dist-packages (from matplotlib<4.0.0,>=3.3.4->fear-greed-index) (1.3.2)\n",
            "Requirement already satisfied: numpy>=1.17 in /usr/local/lib/python3.7/dist-packages (from matplotlib<4.0.0,>=3.3.4->fear-greed-index) (1.21.5)\n",
            "Requirement already satisfied: six>=1.5 in /usr/local/lib/python3.7/dist-packages (from python-dateutil>=2.7->matplotlib<4.0.0,>=3.3.4->fear-greed-index) (1.15.0)\n",
            "Requirement already satisfied: urllib3<1.27,>=1.21.1 in /usr/local/lib/python3.7/dist-packages (from requests<3.0.0,>=2.25.1->fear-greed-index) (1.24.3)\n",
            "Requirement already satisfied: certifi>=2017.4.17 in /usr/local/lib/python3.7/dist-packages (from requests<3.0.0,>=2.25.1->fear-greed-index) (2021.10.8)\n",
            "Requirement already satisfied: charset-normalizer~=2.0.0 in /usr/local/lib/python3.7/dist-packages (from requests<3.0.0,>=2.25.1->fear-greed-index) (2.0.11)\n",
            "Requirement already satisfied: idna<4,>=2.5 in /usr/local/lib/python3.7/dist-packages (from requests<3.0.0,>=2.25.1->fear-greed-index) (2.10)\n",
            "Requirement already satisfied: alabaster<0.8,>=0.7 in /usr/local/lib/python3.7/dist-packages (from Sphinx<5.0.0,>=4.0.2->fear-greed-index) (0.7.12)\n",
            "Requirement already satisfied: snowballstemmer>=1.1 in /usr/local/lib/python3.7/dist-packages (from Sphinx<5.0.0,>=4.0.2->fear-greed-index) (2.2.0)\n",
            "Collecting sphinxcontrib-devhelp\n",
            "  Downloading sphinxcontrib_devhelp-1.0.2-py2.py3-none-any.whl (84 kB)\n",
            "\u001b[K     |████████████████████████████████| 84 kB 2.8 MB/s \n",
            "\u001b[?25hCollecting sphinxcontrib-htmlhelp>=2.0.0\n",
            "  Downloading sphinxcontrib_htmlhelp-2.0.0-py2.py3-none-any.whl (100 kB)\n",
            "\u001b[K     |████████████████████████████████| 100 kB 9.9 MB/s \n",
            "\u001b[?25hRequirement already satisfied: sphinxcontrib-serializinghtml>=1.1.5 in /usr/local/lib/python3.7/dist-packages (from Sphinx<5.0.0,>=4.0.2->fear-greed-index) (1.1.5)\n",
            "Collecting sphinxcontrib-qthelp\n",
            "  Downloading sphinxcontrib_qthelp-1.0.3-py2.py3-none-any.whl (90 kB)\n",
            "\u001b[K     |████████████████████████████████| 90 kB 9.8 MB/s \n",
            "\u001b[?25hRequirement already satisfied: Jinja2>=2.3 in /usr/local/lib/python3.7/dist-packages (from Sphinx<5.0.0,>=4.0.2->fear-greed-index) (2.11.3)\n",
            "Requirement already satisfied: babel>=1.3 in /usr/local/lib/python3.7/dist-packages (from Sphinx<5.0.0,>=4.0.2->fear-greed-index) (2.9.1)\n",
            "Requirement already satisfied: imagesize in /usr/local/lib/python3.7/dist-packages (from Sphinx<5.0.0,>=4.0.2->fear-greed-index) (1.3.0)\n",
            "Collecting sphinxcontrib-jsmath\n",
            "  Downloading sphinxcontrib_jsmath-1.0.1-py2.py3-none-any.whl (5.1 kB)\n",
            "Requirement already satisfied: importlib-metadata>=4.4 in /usr/local/lib/python3.7/dist-packages (from Sphinx<5.0.0,>=4.0.2->fear-greed-index) (4.11.0)\n",
            "Collecting sphinxcontrib-applehelp\n",
            "  Downloading sphinxcontrib_applehelp-1.0.2-py2.py3-none-any.whl (121 kB)\n",
            "\u001b[K     |████████████████████████████████| 121 kB 44.2 MB/s \n",
            "\u001b[?25hRequirement already satisfied: Pygments>=2.0 in /usr/local/lib/python3.7/dist-packages (from Sphinx<5.0.0,>=4.0.2->fear-greed-index) (2.6.1)\n",
            "Requirement already satisfied: pytz>=2015.7 in /usr/local/lib/python3.7/dist-packages (from babel>=1.3->Sphinx<5.0.0,>=4.0.2->fear-greed-index) (2018.9)\n",
            "Requirement already satisfied: zipp>=0.5 in /usr/local/lib/python3.7/dist-packages (from importlib-metadata>=4.4->Sphinx<5.0.0,>=4.0.2->fear-greed-index) (3.7.0)\n",
            "Requirement already satisfied: typing-extensions>=3.6.4 in /usr/local/lib/python3.7/dist-packages (from importlib-metadata>=4.4->Sphinx<5.0.0,>=4.0.2->fear-greed-index) (3.10.0.2)\n",
            "Requirement already satisfied: MarkupSafe>=0.23 in /usr/local/lib/python3.7/dist-packages (from Jinja2>=2.3->Sphinx<5.0.0,>=4.0.2->fear-greed-index) (2.0.1)\n",
            "Collecting docutils\n",
            "  Downloading docutils-0.16-py2.py3-none-any.whl (548 kB)\n",
            "\u001b[K     |████████████████████████████████| 548 kB 46.9 MB/s \n",
            "\u001b[?25hInstalling collected packages: sphinxcontrib-qthelp, sphinxcontrib-jsmath, sphinxcontrib-htmlhelp, sphinxcontrib-devhelp, sphinxcontrib-applehelp, docutils, Sphinx, Pillow, fonttools, sphinx-rtd-theme, matplotlib, m2r2, fear-greed-index\n",
            "  Attempting uninstall: docutils\n",
            "    Found existing installation: docutils 0.17.1\n",
            "    Uninstalling docutils-0.17.1:\n",
            "      Successfully uninstalled docutils-0.17.1\n",
            "  Attempting uninstall: Sphinx\n",
            "    Found existing installation: Sphinx 1.8.6\n",
            "    Uninstalling Sphinx-1.8.6:\n",
            "      Successfully uninstalled Sphinx-1.8.6\n",
            "  Attempting uninstall: Pillow\n",
            "    Found existing installation: Pillow 7.1.2\n",
            "    Uninstalling Pillow-7.1.2:\n",
            "      Successfully uninstalled Pillow-7.1.2\n",
            "  Attempting uninstall: matplotlib\n",
            "    Found existing installation: matplotlib 3.2.2\n",
            "    Uninstalling matplotlib-3.2.2:\n",
            "      Successfully uninstalled matplotlib-3.2.2\n",
            "\u001b[31mERROR: pip's dependency resolver does not currently take into account all the packages that are installed. This behaviour is the source of the following dependency conflicts.\n",
            "datascience 0.10.6 requires folium==0.2.1, but you have folium 0.8.3 which is incompatible.\n",
            "albumentations 0.1.12 requires imgaug<0.2.7,>=0.2.5, but you have imgaug 0.2.9 which is incompatible.\u001b[0m\n",
            "Successfully installed Pillow-9.0.1 Sphinx-4.4.0 docutils-0.16 fear-greed-index-0.1.4 fonttools-4.29.1 m2r2-0.2.8 matplotlib-3.5.1 sphinx-rtd-theme-0.5.2 sphinxcontrib-applehelp-1.0.2 sphinxcontrib-devhelp-1.0.2 sphinxcontrib-htmlhelp-2.0.0 sphinxcontrib-jsmath-1.0.1 sphinxcontrib-qthelp-1.0.3\n"
          ]
        },
        {
          "output_type": "display_data",
          "data": {
            "application/vnd.colab-display-data+json": {
              "pip_warning": {
                "packages": [
                  "PIL",
                  "matplotlib",
                  "mpl_toolkits",
                  "sphinxcontrib"
                ]
              }
            }
          },
          "metadata": {}
        },
        {
          "output_type": "stream",
          "name": "stdout",
          "text": [
            "Collecting finvizfinance\n",
            "  Downloading finvizfinance-0.11.1-py3-none-any.whl (42 kB)\n",
            "\u001b[K     |████████████████████████████████| 42 kB 966 kB/s \n",
            "\u001b[?25hCollecting datetime\n",
            "  Downloading DateTime-4.4-py2.py3-none-any.whl (51 kB)\n",
            "\u001b[K     |████████████████████████████████| 51 kB 439 kB/s \n",
            "\u001b[?25hRequirement already satisfied: lxml in /usr/local/lib/python3.7/dist-packages (from finvizfinance) (4.8.0)\n",
            "Requirement already satisfied: bs4 in /usr/local/lib/python3.7/dist-packages (from finvizfinance) (0.0.1)\n",
            "Requirement already satisfied: requests in /usr/local/lib/python3.7/dist-packages (from finvizfinance) (2.27.1)\n",
            "Requirement already satisfied: pandas in /usr/local/lib/python3.7/dist-packages (from finvizfinance) (1.3.5)\n",
            "Requirement already satisfied: beautifulsoup4 in /usr/local/lib/python3.7/dist-packages (from bs4->finvizfinance) (4.6.3)\n",
            "Collecting zope.interface\n",
            "  Downloading zope.interface-5.4.0-cp37-cp37m-manylinux2010_x86_64.whl (251 kB)\n",
            "\u001b[K     |████████████████████████████████| 251 kB 9.2 MB/s \n",
            "\u001b[?25hRequirement already satisfied: pytz in /usr/local/lib/python3.7/dist-packages (from datetime->finvizfinance) (2018.9)\n",
            "Requirement already satisfied: python-dateutil>=2.7.3 in /usr/local/lib/python3.7/dist-packages (from pandas->finvizfinance) (2.8.2)\n",
            "Requirement already satisfied: numpy>=1.17.3 in /usr/local/lib/python3.7/dist-packages (from pandas->finvizfinance) (1.21.5)\n",
            "Requirement already satisfied: six>=1.5 in /usr/local/lib/python3.7/dist-packages (from python-dateutil>=2.7.3->pandas->finvizfinance) (1.15.0)\n",
            "Requirement already satisfied: urllib3<1.27,>=1.21.1 in /usr/local/lib/python3.7/dist-packages (from requests->finvizfinance) (1.24.3)\n",
            "Requirement already satisfied: idna<4,>=2.5 in /usr/local/lib/python3.7/dist-packages (from requests->finvizfinance) (2.10)\n",
            "Requirement already satisfied: certifi>=2017.4.17 in /usr/local/lib/python3.7/dist-packages (from requests->finvizfinance) (2021.10.8)\n",
            "Requirement already satisfied: charset-normalizer~=2.0.0 in /usr/local/lib/python3.7/dist-packages (from requests->finvizfinance) (2.0.11)\n",
            "Requirement already satisfied: setuptools in /usr/local/lib/python3.7/dist-packages (from zope.interface->datetime->finvizfinance) (57.4.0)\n",
            "Installing collected packages: zope.interface, datetime, finvizfinance\n",
            "Successfully installed datetime-4.4 finvizfinance-0.11.1 zope.interface-5.4.0\n",
            "\u001b[31mERROR: Could not find a version that satisfies the requirement finvizfinance.news (from versions: none)\u001b[0m\n",
            "\u001b[31mERROR: No matching distribution found for finvizfinance.news\u001b[0m\n",
            "\u001b[31mERROR: Could not find a version that satisfies the requirement finvizfinance.screener.overview (from versions: none)\u001b[0m\n",
            "\u001b[31mERROR: No matching distribution found for finvizfinance.screener.overview\u001b[0m\n",
            "Collecting pandas==1.3.4\n",
            "  Downloading pandas-1.3.4-cp37-cp37m-manylinux_2_17_x86_64.manylinux2014_x86_64.whl (11.3 MB)\n",
            "\u001b[K     |████████████████████████████████| 11.3 MB 3.8 MB/s \n",
            "\u001b[?25hRequirement already satisfied: numpy>=1.17.3 in /usr/local/lib/python3.7/dist-packages (from pandas==1.3.4) (1.21.5)\n",
            "Requirement already satisfied: python-dateutil>=2.7.3 in /usr/local/lib/python3.7/dist-packages (from pandas==1.3.4) (2.8.2)\n",
            "Requirement already satisfied: pytz>=2017.3 in /usr/local/lib/python3.7/dist-packages (from pandas==1.3.4) (2018.9)\n",
            "Requirement already satisfied: six>=1.5 in /usr/local/lib/python3.7/dist-packages (from python-dateutil>=2.7.3->pandas==1.3.4) (1.15.0)\n",
            "Installing collected packages: pandas\n",
            "  Attempting uninstall: pandas\n",
            "    Found existing installation: pandas 1.3.5\n",
            "    Uninstalling pandas-1.3.5:\n",
            "      Successfully uninstalled pandas-1.3.5\n",
            "\u001b[31mERROR: pip's dependency resolver does not currently take into account all the packages that are installed. This behaviour is the source of the following dependency conflicts.\n",
            "google-colab 1.0.0 requires requests~=2.23.0, but you have requests 2.27.1 which is incompatible.\u001b[0m\n",
            "Successfully installed pandas-1.3.4\n"
          ]
        },
        {
          "output_type": "display_data",
          "data": {
            "application/vnd.colab-display-data+json": {
              "pip_warning": {
                "packages": [
                  "pandas"
                ]
              }
            }
          },
          "metadata": {}
        }
      ]
    },
    {
      "cell_type": "code",
      "source": [
        "url = 'https://launchpad.net/~mario-mariomedina/+archive/ubuntu/talib/+files'\n",
        "!wget $url/libta-lib0_0.4.0-oneiric1_amd64.deb -qO libta.deb\n",
        "!wget $url/ta-lib0-dev_0.4.0-oneiric1_amd64.deb -qO ta.deb\n",
        "!dpkg -i libta.deb ta.deb\n",
        "!pip install ta-lib\n",
        "!pip install fear-greed-index\n",
        "!pip install finvizfinance\n",
        "!pip install finvizfinance.news\n",
        "!pip install finvizfinance.screener.overview\n",
        "!pip install --upgrade pandas==1.3.4\n",
        "import warnings\n",
        "warnings.simplefilter(action='ignore')"
      ],
      "metadata": {
        "colab": {
          "base_uri": "https://localhost:8080/",
          "height": 1000
        },
        "id": "--g5tSiWrtxv",
        "outputId": "f0ed186c-8e42-4f91-8c59-1cc2af238873"
      },
      "execution_count": null,
      "outputs": [
        {
          "output_type": "stream",
          "name": "stdout",
          "text": [
            "Selecting previously unselected package libta-lib0.\n",
            "(Reading database ... 155320 files and directories currently installed.)\n",
            "Preparing to unpack libta.deb ...\n",
            "Unpacking libta-lib0 (0.4.0-oneiric1) ...\n",
            "Selecting previously unselected package ta-lib0-dev.\n",
            "Preparing to unpack ta.deb ...\n",
            "Unpacking ta-lib0-dev (0.4.0-oneiric1) ...\n",
            "Setting up libta-lib0 (0.4.0-oneiric1) ...\n",
            "Setting up ta-lib0-dev (0.4.0-oneiric1) ...\n",
            "Processing triggers for man-db (2.8.3-2ubuntu0.1) ...\n",
            "Processing triggers for libc-bin (2.27-3ubuntu1.3) ...\n",
            "/sbin/ldconfig.real: /usr/local/lib/python3.7/dist-packages/ideep4py/lib/libmkldnn.so.0 is not a symbolic link\n",
            "\n",
            "Collecting ta-lib\n",
            "  Downloading TA-Lib-0.4.24.tar.gz (269 kB)\n",
            "\u001b[K     |████████████████████████████████| 269 kB 7.1 MB/s \n",
            "\u001b[?25hRequirement already satisfied: numpy in /usr/local/lib/python3.7/dist-packages (from ta-lib) (1.21.5)\n",
            "Building wheels for collected packages: ta-lib\n",
            "  Building wheel for ta-lib (setup.py) ... \u001b[?25l\u001b[?25hdone\n",
            "  Created wheel for ta-lib: filename=TA_Lib-0.4.24-cp37-cp37m-linux_x86_64.whl size=1465745 sha256=276b53f0abf8f71bc4ac151fc578b289af303ded5e4b211df3a84747a02b4ab7\n",
            "  Stored in directory: /root/.cache/pip/wheels/02/b1/a5/aca31e8cdd0137d7a83bf72237056b8705663dd1f9b5eac11e\n",
            "Successfully built ta-lib\n",
            "Installing collected packages: ta-lib\n",
            "Successfully installed ta-lib-0.4.24\n",
            "Collecting fear-greed-index\n",
            "  Downloading fear_greed_index-0.1.4-py3-none-any.whl (6.6 kB)\n",
            "Collecting sphinx-rtd-theme<0.6.0,>=0.5.2\n",
            "  Downloading sphinx_rtd_theme-0.5.2-py2.py3-none-any.whl (9.1 MB)\n",
            "\u001b[K     |████████████████████████████████| 9.1 MB 6.4 MB/s \n",
            "\u001b[?25hCollecting m2r2<0.3.0,>=0.2.7\n",
            "  Downloading m2r2-0.2.8-py3-none-any.whl (10 kB)\n",
            "Collecting requests<3.0.0,>=2.25.1\n",
            "  Downloading requests-2.27.1-py2.py3-none-any.whl (63 kB)\n",
            "\u001b[K     |████████████████████████████████| 63 kB 2.4 MB/s \n",
            "\u001b[?25hCollecting matplotlib<4.0.0,>=3.3.4\n",
            "  Downloading matplotlib-3.5.1-cp37-cp37m-manylinux_2_5_x86_64.manylinux1_x86_64.whl (11.2 MB)\n",
            "\u001b[K     |████████████████████████████████| 11.2 MB 45.6 MB/s \n",
            "\u001b[?25hCollecting Sphinx<5.0.0,>=4.0.2\n",
            "  Downloading Sphinx-4.4.0-py3-none-any.whl (3.1 MB)\n",
            "\u001b[K     |████████████████████████████████| 3.1 MB 42.6 MB/s \n",
            "\u001b[?25hRequirement already satisfied: bs4<0.0.2,>=0.0.1 in /usr/local/lib/python3.7/dist-packages (from fear-greed-index) (0.0.1)\n",
            "Collecting lxml<5.0.0,>=4.6.5\n",
            "  Downloading lxml-4.8.0-cp37-cp37m-manylinux_2_17_x86_64.manylinux2014_x86_64.manylinux_2_24_x86_64.whl (6.4 MB)\n",
            "\u001b[K     |████████████████████████████████| 6.4 MB 44.6 MB/s \n",
            "\u001b[?25hCollecting Pillow<10.0.0,>=9.0.0\n",
            "  Downloading Pillow-9.0.1-cp37-cp37m-manylinux_2_17_x86_64.manylinux2014_x86_64.whl (4.3 MB)\n",
            "\u001b[K     |████████████████████████████████| 4.3 MB 23.2 MB/s \n",
            "\u001b[?25hRequirement already satisfied: beautifulsoup4 in /usr/local/lib/python3.7/dist-packages (from bs4<0.0.2,>=0.0.1->fear-greed-index) (4.6.3)\n",
            "Requirement already satisfied: docutils in /usr/local/lib/python3.7/dist-packages (from m2r2<0.3.0,>=0.2.7->fear-greed-index) (0.17.1)\n",
            "Requirement already satisfied: mistune in /usr/local/lib/python3.7/dist-packages (from m2r2<0.3.0,>=0.2.7->fear-greed-index) (0.8.4)\n",
            "Requirement already satisfied: python-dateutil>=2.7 in /usr/local/lib/python3.7/dist-packages (from matplotlib<4.0.0,>=3.3.4->fear-greed-index) (2.8.2)\n",
            "Requirement already satisfied: cycler>=0.10 in /usr/local/lib/python3.7/dist-packages (from matplotlib<4.0.0,>=3.3.4->fear-greed-index) (0.11.0)\n",
            "Requirement already satisfied: packaging>=20.0 in /usr/local/lib/python3.7/dist-packages (from matplotlib<4.0.0,>=3.3.4->fear-greed-index) (21.3)\n",
            "Requirement already satisfied: pyparsing>=2.2.1 in /usr/local/lib/python3.7/dist-packages (from matplotlib<4.0.0,>=3.3.4->fear-greed-index) (3.0.7)\n",
            "Requirement already satisfied: numpy>=1.17 in /usr/local/lib/python3.7/dist-packages (from matplotlib<4.0.0,>=3.3.4->fear-greed-index) (1.21.5)\n",
            "Requirement already satisfied: kiwisolver>=1.0.1 in /usr/local/lib/python3.7/dist-packages (from matplotlib<4.0.0,>=3.3.4->fear-greed-index) (1.3.2)\n",
            "Collecting fonttools>=4.22.0\n",
            "  Downloading fonttools-4.29.1-py3-none-any.whl (895 kB)\n",
            "\u001b[K     |████████████████████████████████| 895 kB 28.9 MB/s \n",
            "\u001b[?25hRequirement already satisfied: six>=1.5 in /usr/local/lib/python3.7/dist-packages (from python-dateutil>=2.7->matplotlib<4.0.0,>=3.3.4->fear-greed-index) (1.15.0)\n",
            "Requirement already satisfied: certifi>=2017.4.17 in /usr/local/lib/python3.7/dist-packages (from requests<3.0.0,>=2.25.1->fear-greed-index) (2021.10.8)\n",
            "Requirement already satisfied: charset-normalizer~=2.0.0 in /usr/local/lib/python3.7/dist-packages (from requests<3.0.0,>=2.25.1->fear-greed-index) (2.0.12)\n",
            "Requirement already satisfied: urllib3<1.27,>=1.21.1 in /usr/local/lib/python3.7/dist-packages (from requests<3.0.0,>=2.25.1->fear-greed-index) (1.24.3)\n",
            "Requirement already satisfied: idna<4,>=2.5 in /usr/local/lib/python3.7/dist-packages (from requests<3.0.0,>=2.25.1->fear-greed-index) (2.10)\n",
            "Requirement already satisfied: Pygments>=2.0 in /usr/local/lib/python3.7/dist-packages (from Sphinx<5.0.0,>=4.0.2->fear-greed-index) (2.6.1)\n",
            "Collecting sphinxcontrib-devhelp\n",
            "  Downloading sphinxcontrib_devhelp-1.0.2-py2.py3-none-any.whl (84 kB)\n",
            "\u001b[K     |████████████████████████████████| 84 kB 4.7 MB/s \n",
            "\u001b[?25hRequirement already satisfied: sphinxcontrib-serializinghtml>=1.1.5 in /usr/local/lib/python3.7/dist-packages (from Sphinx<5.0.0,>=4.0.2->fear-greed-index) (1.1.5)\n",
            "Collecting sphinxcontrib-qthelp\n",
            "  Downloading sphinxcontrib_qthelp-1.0.3-py2.py3-none-any.whl (90 kB)\n",
            "\u001b[K     |████████████████████████████████| 90 kB 12.1 MB/s \n",
            "\u001b[?25hRequirement already satisfied: alabaster<0.8,>=0.7 in /usr/local/lib/python3.7/dist-packages (from Sphinx<5.0.0,>=4.0.2->fear-greed-index) (0.7.12)\n",
            "Requirement already satisfied: babel>=1.3 in /usr/local/lib/python3.7/dist-packages (from Sphinx<5.0.0,>=4.0.2->fear-greed-index) (2.9.1)\n",
            "Requirement already satisfied: importlib-metadata>=4.4 in /usr/local/lib/python3.7/dist-packages (from Sphinx<5.0.0,>=4.0.2->fear-greed-index) (4.11.2)\n",
            "Requirement already satisfied: Jinja2>=2.3 in /usr/local/lib/python3.7/dist-packages (from Sphinx<5.0.0,>=4.0.2->fear-greed-index) (2.11.3)\n",
            "Requirement already satisfied: snowballstemmer>=1.1 in /usr/local/lib/python3.7/dist-packages (from Sphinx<5.0.0,>=4.0.2->fear-greed-index) (2.2.0)\n",
            "Collecting sphinxcontrib-jsmath\n",
            "  Downloading sphinxcontrib_jsmath-1.0.1-py2.py3-none-any.whl (5.1 kB)\n",
            "Requirement already satisfied: imagesize in /usr/local/lib/python3.7/dist-packages (from Sphinx<5.0.0,>=4.0.2->fear-greed-index) (1.3.0)\n",
            "Collecting sphinxcontrib-htmlhelp>=2.0.0\n",
            "  Downloading sphinxcontrib_htmlhelp-2.0.0-py2.py3-none-any.whl (100 kB)\n",
            "\u001b[K     |████████████████████████████████| 100 kB 13.6 MB/s \n",
            "\u001b[?25hCollecting sphinxcontrib-applehelp\n",
            "  Downloading sphinxcontrib_applehelp-1.0.2-py2.py3-none-any.whl (121 kB)\n",
            "\u001b[K     |████████████████████████████████| 121 kB 77.4 MB/s \n",
            "\u001b[?25hRequirement already satisfied: pytz>=2015.7 in /usr/local/lib/python3.7/dist-packages (from babel>=1.3->Sphinx<5.0.0,>=4.0.2->fear-greed-index) (2018.9)\n",
            "Requirement already satisfied: zipp>=0.5 in /usr/local/lib/python3.7/dist-packages (from importlib-metadata>=4.4->Sphinx<5.0.0,>=4.0.2->fear-greed-index) (3.7.0)\n",
            "Requirement already satisfied: typing-extensions>=3.6.4 in /usr/local/lib/python3.7/dist-packages (from importlib-metadata>=4.4->Sphinx<5.0.0,>=4.0.2->fear-greed-index) (3.10.0.2)\n",
            "Requirement already satisfied: MarkupSafe>=0.23 in /usr/local/lib/python3.7/dist-packages (from Jinja2>=2.3->Sphinx<5.0.0,>=4.0.2->fear-greed-index) (2.0.1)\n",
            "Collecting docutils\n",
            "  Downloading docutils-0.16-py2.py3-none-any.whl (548 kB)\n",
            "\u001b[K     |████████████████████████████████| 548 kB 66.5 MB/s \n",
            "\u001b[?25hInstalling collected packages: sphinxcontrib-qthelp, sphinxcontrib-jsmath, sphinxcontrib-htmlhelp, sphinxcontrib-devhelp, sphinxcontrib-applehelp, requests, docutils, Sphinx, Pillow, fonttools, sphinx-rtd-theme, matplotlib, m2r2, lxml, fear-greed-index\n",
            "  Attempting uninstall: requests\n",
            "    Found existing installation: requests 2.23.0\n",
            "    Uninstalling requests-2.23.0:\n",
            "      Successfully uninstalled requests-2.23.0\n",
            "  Attempting uninstall: docutils\n",
            "    Found existing installation: docutils 0.17.1\n",
            "    Uninstalling docutils-0.17.1:\n",
            "      Successfully uninstalled docutils-0.17.1\n",
            "  Attempting uninstall: Sphinx\n",
            "    Found existing installation: Sphinx 1.8.6\n",
            "    Uninstalling Sphinx-1.8.6:\n",
            "      Successfully uninstalled Sphinx-1.8.6\n",
            "  Attempting uninstall: Pillow\n",
            "    Found existing installation: Pillow 7.1.2\n",
            "    Uninstalling Pillow-7.1.2:\n",
            "      Successfully uninstalled Pillow-7.1.2\n",
            "  Attempting uninstall: matplotlib\n",
            "    Found existing installation: matplotlib 3.2.2\n",
            "    Uninstalling matplotlib-3.2.2:\n",
            "      Successfully uninstalled matplotlib-3.2.2\n",
            "  Attempting uninstall: lxml\n",
            "    Found existing installation: lxml 4.2.6\n",
            "    Uninstalling lxml-4.2.6:\n",
            "      Successfully uninstalled lxml-4.2.6\n",
            "\u001b[31mERROR: pip's dependency resolver does not currently take into account all the packages that are installed. This behaviour is the source of the following dependency conflicts.\n",
            "google-colab 1.0.0 requires requests~=2.23.0, but you have requests 2.27.1 which is incompatible.\n",
            "datascience 0.10.6 requires folium==0.2.1, but you have folium 0.8.3 which is incompatible.\n",
            "albumentations 0.1.12 requires imgaug<0.2.7,>=0.2.5, but you have imgaug 0.2.9 which is incompatible.\u001b[0m\n",
            "Successfully installed Pillow-9.0.1 Sphinx-4.4.0 docutils-0.16 fear-greed-index-0.1.4 fonttools-4.29.1 lxml-4.8.0 m2r2-0.2.8 matplotlib-3.5.1 requests-2.27.1 sphinx-rtd-theme-0.5.2 sphinxcontrib-applehelp-1.0.2 sphinxcontrib-devhelp-1.0.2 sphinxcontrib-htmlhelp-2.0.0 sphinxcontrib-jsmath-1.0.1 sphinxcontrib-qthelp-1.0.3\n"
          ]
        },
        {
          "output_type": "display_data",
          "data": {
            "application/vnd.colab-display-data+json": {
              "pip_warning": {
                "packages": [
                  "PIL",
                  "matplotlib",
                  "mpl_toolkits",
                  "requests",
                  "sphinxcontrib"
                ]
              }
            }
          },
          "metadata": {}
        },
        {
          "output_type": "stream",
          "name": "stdout",
          "text": [
            "Collecting finvizfinance\n",
            "  Downloading finvizfinance-0.12.2-py3-none-any.whl (42 kB)\n",
            "\u001b[?25l\r\u001b[K     |███████▊                        | 10 kB 27.0 MB/s eta 0:00:01\r\u001b[K     |███████████████▍                | 20 kB 30.7 MB/s eta 0:00:01\r\u001b[K     |███████████████████████         | 30 kB 12.6 MB/s eta 0:00:01\r\u001b[K     |██████████████████████████████▊ | 40 kB 12.1 MB/s eta 0:00:01\r\u001b[K     |████████████████████████████████| 42 kB 1.1 MB/s \n",
            "\u001b[?25hRequirement already satisfied: lxml in /usr/local/lib/python3.7/dist-packages (from finvizfinance) (4.8.0)\n",
            "Requirement already satisfied: bs4 in /usr/local/lib/python3.7/dist-packages (from finvizfinance) (0.0.1)\n",
            "Requirement already satisfied: pandas in /usr/local/lib/python3.7/dist-packages (from finvizfinance) (1.3.5)\n",
            "Collecting datetime\n",
            "  Downloading DateTime-4.4-py2.py3-none-any.whl (51 kB)\n",
            "\u001b[K     |████████████████████████████████| 51 kB 614 kB/s \n",
            "\u001b[?25hRequirement already satisfied: requests in /usr/local/lib/python3.7/dist-packages (from finvizfinance) (2.27.1)\n",
            "Requirement already satisfied: beautifulsoup4 in /usr/local/lib/python3.7/dist-packages (from bs4->finvizfinance) (4.6.3)\n",
            "Requirement already satisfied: pytz in /usr/local/lib/python3.7/dist-packages (from datetime->finvizfinance) (2018.9)\n",
            "Collecting zope.interface\n",
            "  Downloading zope.interface-5.4.0-cp37-cp37m-manylinux2010_x86_64.whl (251 kB)\n",
            "\u001b[K     |████████████████████████████████| 251 kB 44.8 MB/s \n",
            "\u001b[?25hRequirement already satisfied: numpy>=1.17.3 in /usr/local/lib/python3.7/dist-packages (from pandas->finvizfinance) (1.21.5)\n",
            "Requirement already satisfied: python-dateutil>=2.7.3 in /usr/local/lib/python3.7/dist-packages (from pandas->finvizfinance) (2.8.2)\n",
            "Requirement already satisfied: six>=1.5 in /usr/local/lib/python3.7/dist-packages (from python-dateutil>=2.7.3->pandas->finvizfinance) (1.15.0)\n",
            "Requirement already satisfied: idna<4,>=2.5 in /usr/local/lib/python3.7/dist-packages (from requests->finvizfinance) (2.10)\n",
            "Requirement already satisfied: certifi>=2017.4.17 in /usr/local/lib/python3.7/dist-packages (from requests->finvizfinance) (2021.10.8)\n",
            "Requirement already satisfied: charset-normalizer~=2.0.0 in /usr/local/lib/python3.7/dist-packages (from requests->finvizfinance) (2.0.12)\n",
            "Requirement already satisfied: urllib3<1.27,>=1.21.1 in /usr/local/lib/python3.7/dist-packages (from requests->finvizfinance) (1.24.3)\n",
            "Requirement already satisfied: setuptools in /usr/local/lib/python3.7/dist-packages (from zope.interface->datetime->finvizfinance) (57.4.0)\n",
            "Installing collected packages: zope.interface, datetime, finvizfinance\n",
            "Successfully installed datetime-4.4 finvizfinance-0.12.2 zope.interface-5.4.0\n",
            "\u001b[31mERROR: Could not find a version that satisfies the requirement finvizfinance.news (from versions: none)\u001b[0m\n",
            "\u001b[31mERROR: No matching distribution found for finvizfinance.news\u001b[0m\n",
            "\u001b[31mERROR: Could not find a version that satisfies the requirement finvizfinance.screener.overview (from versions: none)\u001b[0m\n",
            "\u001b[31mERROR: No matching distribution found for finvizfinance.screener.overview\u001b[0m\n",
            "Collecting pandas==1.3.4\n",
            "  Downloading pandas-1.3.4-cp37-cp37m-manylinux_2_17_x86_64.manylinux2014_x86_64.whl (11.3 MB)\n",
            "\u001b[K     |████████████████████████████████| 11.3 MB 7.5 MB/s \n",
            "\u001b[?25hRequirement already satisfied: pytz>=2017.3 in /usr/local/lib/python3.7/dist-packages (from pandas==1.3.4) (2018.9)\n",
            "Requirement already satisfied: numpy>=1.17.3 in /usr/local/lib/python3.7/dist-packages (from pandas==1.3.4) (1.21.5)\n",
            "Requirement already satisfied: python-dateutil>=2.7.3 in /usr/local/lib/python3.7/dist-packages (from pandas==1.3.4) (2.8.2)\n",
            "Requirement already satisfied: six>=1.5 in /usr/local/lib/python3.7/dist-packages (from python-dateutil>=2.7.3->pandas==1.3.4) (1.15.0)\n",
            "Installing collected packages: pandas\n",
            "  Attempting uninstall: pandas\n",
            "    Found existing installation: pandas 1.3.5\n",
            "    Uninstalling pandas-1.3.5:\n",
            "      Successfully uninstalled pandas-1.3.5\n",
            "\u001b[31mERROR: pip's dependency resolver does not currently take into account all the packages that are installed. This behaviour is the source of the following dependency conflicts.\n",
            "google-colab 1.0.0 requires requests~=2.23.0, but you have requests 2.27.1 which is incompatible.\u001b[0m\n",
            "Successfully installed pandas-1.3.4\n"
          ]
        },
        {
          "output_type": "display_data",
          "data": {
            "application/vnd.colab-display-data+json": {
              "pip_warning": {
                "packages": [
                  "pandas"
                ]
              }
            }
          },
          "metadata": {}
        }
      ]
    },
    {
      "cell_type": "markdown",
      "source": [
        "##Packages"
      ],
      "metadata": {
        "id": "dnjExSPyA9qy"
      }
    },
    {
      "cell_type": "code",
      "metadata": {
        "id": "XwmEQOmt88qt"
      },
      "source": [
        "import pandas as pd\n",
        "import numpy as np\n",
        "import seaborn as sns\n",
        "import matplotlib.pyplot as plt\n",
        "from sklearn import datasets\n",
        "from sklearn import metrics, model_selection\n",
        "from sklearn.linear_model import LogisticRegression\n",
        "from sklearn.model_selection import train_test_split, cross_val_score\n",
        "from sklearn.preprocessing import StandardScaler\n",
        "from sklearn.neighbors import KNeighborsClassifier, KNeighborsRegressor #KNN\n",
        "import sklearn.linear_model as sklin #Linear Regression\n",
        "from sklearn import tree  #Decision Tree\n",
        "from sklearn.tree import DecisionTreeClassifier\n",
        "from sklearn.ensemble import RandomForestClassifier #Random Forest\n",
        "from sklearn import model_selection #Grid Search\n",
        "from sklearn import svm #SVM\n",
        "from sklearn import naive_bayes #Naive Bayes\n",
        "from sklearn import ensemble #Ada Boost\n",
        "from sklearn.metrics import classification_report,confusion_matrix\n",
        "from sklearn.model_selection import train_test_split\n",
        "from sklearn import datasets, cluster\n",
        "from sklearn import svm,neighbors\n",
        "from sklearn.model_selection import cross_val_score\n",
        "from sklearn.preprocessing import RobustScaler\n",
        "from sklearn import metrics\n",
        "from sklearn.model_selection import cross_val_predict\n",
        "from sklearn import model_selection\n",
        "from sklearn.metrics import classification_report\n",
        "from sklearn.metrics import confusion_matrix\n",
        "from sklearn.metrics import accuracy_score\n",
        "from sklearn.tree import DecisionTreeClassifier\n",
        "from sklearn.neighbors import KNeighborsClassifier\n",
        "from sklearn.naive_bayes import GaussianNB\n",
        "from sklearn.svm import SVC\n",
        "\n",
        "import tensorflow\n",
        "from tensorflow import keras\n",
        "from keras.layers import *\n",
        "from keras import layers, Sequential\n",
        "plt.style.use('fivethirtyeight')\n",
        "plt.rcParams[\"figure.figsize\"] = (16, 4)\n",
        "from sklearn.preprocessing import MinMaxScaler\n",
        "\n",
        "from IPython.display import display\n",
        "from finvizfinance.quote import finvizfinance\n",
        "pd.options.display.max_columns = None\n",
        "pd.options.display.float_format = '{:,.0f}'.format\n",
        "import talib\n",
        "import yfinance as yf\n",
        "from datetime import datetime\n"
      ],
      "execution_count": null,
      "outputs": []
    },
    {
      "cell_type": "markdown",
      "metadata": {
        "id": "uaQ3IA8th9q2"
      },
      "source": [
        "##Discriptive Data - Finviz"
      ]
    },
    {
      "cell_type": "code",
      "metadata": {
        "colab": {
          "base_uri": "https://localhost:8080/"
        },
        "id": "3W9tWomh2euJ",
        "outputId": "4629f1b6-ef3c-41e7-89d5-85f3f30bb403"
      },
      "source": [
        "# Finviz API\n",
        "stock = finvizfinance('TSLA')\n",
        "\n",
        "stock_fundament = stock.ticker_fundament()\n",
        "stock_fundament_df = pd.DataFrame({'Fundamental Param': stock_fundament.keys(), 'Param Values': stock_fundament.values()}).transpose()\n",
        "stock_description = stock.ticker_description()\n",
        "outer_ratings_df = stock.ticker_outer_ratings()\n",
        "# stock_signal_df = stock.ticker_signal()\n",
        "news_df = stock.ticker_news()\n",
        "insider_trader_df = stock.ticker_inside_trader()\n",
        "\n",
        "print(f\"stock_description\\n{stock_description}\\n\\nstock_fundament\\n{stock_fundament}\\n\\outer_ratings_df\\n{outer_ratings_df}\\n\\news_df\\n{news_df}\\ninsider trader:{insider_trader_df}\")\n",
        "\n",
        "\n",
        "### Getting recent financial news from finviz\n",
        "### from finvizfinance.news import News\n",
        "\n",
        "fnews = News()\n",
        "all_news = fnews.get_news\n",
        "# all_news['news'].head()\n",
        "# all_news['blogs'].head()\n",
        "# stock.ticker_charts()\n",
        "# stock.ticker_signal()"
      ],
      "execution_count": null,
      "outputs": [
        {
          "output_type": "stream",
          "name": "stdout",
          "text": [
            "stock_description\n",
            "Tesla, Inc. designs, develops, manufactures, leases, and sells electric vehicles, and energy generation and storage systems in the United States, China, and internationally. The company operates in two segments, Automotive, and Energy Generation and Storage. The Automotive segment offers electric vehicles, as well as sells automotive regulatory credits. It provides sedans and sport utility vehicles through direct and used vehicle sales, a network of Tesla Superchargers, and in-app upgrades; and purchase financing and leasing services. This segment is also involved in the provision of non-warranty after-sales vehicle services, sale of used vehicles, retail merchandise, and vehicle insurance, as well as sale of products through its subsidiaries to third party customers; services for electric vehicles through its company-owned service locations, and Tesla mobile service technicians; and vehicle limited warranties and extended service plans. The Energy Generation and Storage segment engages in the design, manufacture, installation, sale, and leasing of solar energy generation and energy storage products, and related services to residential, commercial, and industrial customers and utilities through its website, stores, and galleries, as well as through a network of channel partners. This segment also offers service and repairs to its energy product customers, including under warranty; and various financing options to its solar customers. The company was formerly known as Tesla Motors, Inc. and changed its name to Tesla, Inc. in February 2017. Tesla, Inc. was founded in 2003 and is headquartered in Austin, Texas.\n",
            "\n",
            "stock_fundament\n",
            "{'Company': 'Tesla, Inc.', 'Sector': 'Consumer Cyclical', 'Industry': 'Auto Manufacturers', 'Country': 'USA', 'Index': 'S&P 500', 'P/E': '170.52', 'EPS (ttm)': '4.92', 'Insider Own': '0.10%', 'Shs Outstand': '1.00B', 'Perf Week': '4.81%', 'Market Cap': '842.87B', 'Forward P/E': '65.95', 'EPS next Y': '21.43%', 'Insider Trans': '-94.13%', 'Shs Float': '843.60M', 'Perf Month': '-9.87%', 'Income': '5.52B', 'PEG': '7.86', 'EPS next Q': '2.24', 'Inst Own': '42.60%', 'Short Float': '2.88%', 'Perf Quarter': '-23.35%', 'Sales': '53.82B', 'P/S': '15.66', 'EPS this Y': '669.20%', 'Inst Trans': '3.32%', 'Short Ratio': '0.92', 'Perf Half Y': '14.33%', 'Book/sh': '29.80', 'P/B': '28.16', 'ROA': '9.70%', 'Target Price': '962.94', 'Perf Year': '35.06%', 'Cash/sh': '17.63', 'P/C': '47.60', 'EPS next 5Y': '21.70%', 'ROE': '21.00%', '52W Range From': '539.49', '52W Range To': '1243.49', 'Perf YTD': '-20.58%', 'Dividend': '-', 'P/FCF': '73.52', 'EPS past 5Y': '48.60%', 'ROI': '15.70%', '52W High': '-32.51%', 'Beta': '2.07', 'Dividend %': '-', 'Quick Ratio': '1.10', 'Sales past 5Y': '50.40%', 'Gross Margin': '25.30%', '52W Low': '55.57%', 'ATR': '55.50', 'Employees': '99290', 'Current Ratio': '1.40', 'Sales Q/Q': '64.90%', 'Oper. Margin': '12.10%', 'RSI (14)': '43.85', 'Volatility W': '5.61%', 'Volatility M': '5.89%', 'Optionable': 'Yes', 'Debt/Eq': '0.23', 'EPS Q/Q': '787.10%', 'Profit Margin': '10.30%', 'Rel Volume': '0.77', 'Prev Close': '879.89', 'Shortable': 'Yes', 'LT Debt/Eq': '0.17', 'Earnings': 'Jan 26 AMC', 'Payout': '0.00%', 'Avg Volume': '26.32M', 'Price': '839.29', 'Recom': '2.60', 'SMA20': '-4.15%', 'SMA50': '-12.49%', 'SMA200': '0.26%', 'Volume': '20,541,168', 'Change': '-4.61%'}\n",
            "\\outer_ratings_df\n",
            "         Date      Status             Outer                Rating  \\\n",
            "0  2022-02-25     Upgrade  Daiwa Securities  Neutral → Outperform   \n",
            "1  2022-01-31     Upgrade     Credit Suisse  Neutral → Outperform   \n",
            "2  2022-01-27  Reiterated       Wells Fargo          Equal Weight   \n",
            "3  2022-01-27  Reiterated   Robert W. Baird            Outperform   \n",
            "4  2022-01-27  Reiterated       Oppenheimer            Outperform   \n",
            "5  2022-01-27  Reiterated         JP Morgan           Underweight   \n",
            "6  2022-01-27  Reiterated             Cowen        Market Perform   \n",
            "7  2022-01-27  Reiterated         Citigroup                  Sell   \n",
            "8  2022-01-05  Reiterated          Barclays           Underweight   \n",
            "9  2022-01-03  Reiterated  RBC Capital Mkts        Sector Perform   \n",
            "10 2021-12-30  Reiterated         Citigroup                  Sell   \n",
            "11 2021-12-20   Initiated        Guggenheim               Neutral   \n",
            "12 2021-12-07  Reiterated               UBS               Neutral   \n",
            "13 2021-11-08  Reiterated         Jefferies                   Buy   \n",
            "14 2021-10-25  Reiterated    Morgan Stanley            Overweight   \n",
            "15 2021-10-21  Reiterated       Wells Fargo          Equal Weight   \n",
            "16 2021-10-21  Reiterated           Wedbush            Outperform   \n",
            "17 2021-10-21  Reiterated   Robert W. Baird            Outperform   \n",
            "18 2021-10-21  Reiterated  RBC Capital Mkts        Sector Perform   \n",
            "19 2021-10-21  Reiterated            Mizuho                   Buy   \n",
            "\n",
            "            Price  \n",
            "0     $980 → $900  \n",
            "1           $1025  \n",
            "2     $860 → $910  \n",
            "3    $888 → $1108  \n",
            "4   $1080 → $1103  \n",
            "5     $295 → $325  \n",
            "6     $625 → $660  \n",
            "7     $262 → $313  \n",
            "8     $300 → $325  \n",
            "9    $950 → $1005  \n",
            "10    $236 → $262  \n",
            "11           $924  \n",
            "12   $725 → $1000  \n",
            "13   $950 → $1400  \n",
            "14   $900 → $1200  \n",
            "15    $660 → $860  \n",
            "16  $1000 → $1100  \n",
            "17    $764 → $888  \n",
            "18    $755 → $800  \n",
            "19    $825 → $950  \n",
            "\n",
            "ews_df\n",
            "                  Date                                              Title  \\\n",
            "0  2022-03-04 06:08:00  Russian Nuclear Power Plant Attack, Jobs Repor...   \n",
            "1  2022-03-03 22:07:00  Microsoft and Pepsi top this list that scores ...   \n",
            "2  2022-03-03 19:17:00           Ford Tricked Tesla Over the Model E Name   \n",
            "3  2022-03-03 18:22:00  Panasonic plans new massive battery plant in U...   \n",
            "4  2022-03-03 18:14:00  Teslas Elon Musk Invites UAW to Hold Vote in C...   \n",
            "..                 ...                                                ...   \n",
            "95 2022-02-28 13:37:00  Tesla Stock Is Soaring. Are Higher Oil Prices ...   \n",
            "96 2022-02-28 13:35:00      Canada Bets Big on Tesla, a Little Less on GM   \n",
            "97 2022-02-28 12:49:00  Market check: Nasdaq, Russell 2000 turn positi...   \n",
            "98 2022-02-28 12:16:00  Race to Supply the First U.S. Single-Stock ETF...   \n",
            "99 2022-02-28 11:40:00  HOG vs. TSLA: Which Stock Is the Better Value ...   \n",
            "\n",
            "                                                 Link  \n",
            "0   https://www.thestreet.com/markets/-5-things-yo...  \n",
            "1   https://www.marketwatch.com/story/microsoft-an...  \n",
            "2   https://www.thestreet.com/technology/ford-tric...  \n",
            "3   https://finance.yahoo.com/news/panasonic-plann...  \n",
            "4   https://www.barrons.com/articles/tesla-elon-mu...  \n",
            "..                                                ...  \n",
            "95  https://www.barrons.com/articles/tesla-tsla-st...  \n",
            "96  https://www.thestreet.com/technology/canada-be...  \n",
            "97  https://finance.yahoo.com/video/market-check-n...  \n",
            "98  https://finance.yahoo.com/news/race-supply-fir...  \n",
            "99  https://finance.yahoo.com/news/hog-vs-tsla-sto...  \n",
            "\n",
            "[100 rows x 3 columns]\n",
            "insider trader:     Insider Trading                    Relationship    Date      Transaction  \\\n",
            "0    DENHOLM ROBYN M                        Director  Mar 01  Option Exercise   \n",
            "1    DENHOLM ROBYN M                        Director  Mar 01             Sale   \n",
            "2   Baglino Andrew D  SVP Powertrain and Energy Eng.  Feb 28  Option Exercise   \n",
            "3   Baglino Andrew D  SVP Powertrain and Energy Eng.  Feb 28             Sale   \n",
            "4   Kirkhorn Zachary         Chief Financial Officer  Feb 17             Sale   \n",
            "..               ...                             ...     ...              ...   \n",
            "95  Kirkhorn Zachary         Chief Financial Officer  Aug 17             Sale   \n",
            "96  Baglino Andrew D  SVP Powertrain and Energy Eng.  Aug 06  Option Exercise   \n",
            "97  Baglino Andrew D  SVP Powertrain and Energy Eng.  Aug 06             Sale   \n",
            "98   DENHOLM ROBYN M                        Director  Aug 02  Option Exercise   \n",
            "99   DENHOLM ROBYN M                        Director  Aug 02             Sale   \n",
            "\n",
            "    Cost  #Shares  Value ($)  #Shares Total       SEC Form 4  \\\n",
            "0     52   25,000  1,309,500         30,000  Mar 03 08:39 PM   \n",
            "1    868   25,000 21,694,957          5,000  Mar 03 08:39 PM   \n",
            "2     63    3,500    219,520         22,749  Mar 02 07:57 PM   \n",
            "3    816    3,500  2,855,020         19,249  Mar 02 07:57 PM   \n",
            "4    913    1,250  1,141,575         56,084  Feb 22 07:02 PM   \n",
            "..   ...      ...        ...            ...              ...   \n",
            "95   673    1,250    840,738         54,257  Aug 19 08:07 PM   \n",
            "96    52   10,000    516,400         27,997  Aug 10 08:08 PM   \n",
            "97   711   10,000  7,110,360         17,997  Aug 10 08:08 PM   \n",
            "98    52   31,250  1,636,875         36,250  Aug 04 08:27 PM   \n",
            "99   708   31,250 22,112,634          5,000  Aug 04 08:27 PM   \n",
            "\n",
            "                                      SEC Form 4 Link Insider_id  \n",
            "0   http://www.sec.gov/Archives/edgar/data/1242782...    1242782  \n",
            "1   http://www.sec.gov/Archives/edgar/data/1242782...    1242782  \n",
            "2   http://www.sec.gov/Archives/edgar/data/1318605...    1790565  \n",
            "3   http://www.sec.gov/Archives/edgar/data/1318605...    1790565  \n",
            "4   http://www.sec.gov/Archives/edgar/data/1318605...    1771364  \n",
            "..                                                ...        ...  \n",
            "95  http://www.sec.gov/Archives/edgar/data/1318605...    1771364  \n",
            "96  http://www.sec.gov/Archives/edgar/data/1318605...    1790565  \n",
            "97  http://www.sec.gov/Archives/edgar/data/1318605...    1790565  \n",
            "98  http://www.sec.gov/Archives/edgar/data/1242782...    1242782  \n",
            "99  http://www.sec.gov/Archives/edgar/data/1242782...    1242782  \n",
            "\n",
            "[100 rows x 11 columns]\n"
          ]
        }
      ]
    },
    {
      "cell_type": "code",
      "source": [
        ""
      ],
      "metadata": {
        "id": "bAUdAMn2tRsm"
      },
      "execution_count": null,
      "outputs": []
    },
    {
      "cell_type": "markdown",
      "source": [
        "## ----------------Data Importer----------------------"
      ],
      "metadata": {
        "id": "ok3xyGAFCR5i"
      }
    },
    {
      "cell_type": "markdown",
      "metadata": {
        "id": "GRYO1yGdoOqj"
      },
      "source": [
        "##Stocks Screener - Finviz"
      ]
    },
    {
      "cell_type": "code",
      "metadata": {
        "colab": {
          "base_uri": "https://localhost:8080/"
        },
        "id": "SAnO1-y5cTdo",
        "outputId": "65ffe6b7-7bbf-4758-f1fa-6a042b741dc3"
      },
      "source": [
        "# Overview\n",
        "\n",
        "from finvizfinance.screener.overview import Overview\n",
        "from finvizfinance.screener.financial import Financial\n",
        "from finvizfinance.screener.technical import Technical\n",
        "\n",
        "\n",
        "foverview = Overview()\n",
        "ffinancial = Financial()\n",
        "\n",
        "filters_dict = {'Index':'S&P 500', 'Industry':'Semiconductors'}#, 'Country': 'USA', 'RSI (14)': 'Overbought (80)', } #'Any' \n",
        "# 'RSI (14)': 'Oversold (30)' / 'Not Oversold (>50)'\n",
        "foverview.set_filter(filters_dict=filters_dict)\n",
        "ffinancial.set_filter(filters_dict=filters_dict)\n",
        "df = foverview.screener_view().sort_values(by='Volume', ascending=False)\n",
        "\n",
        "\n",
        "# Screener Example\n",
        "# ffinancial = Financial()\n",
        "# filters_dict = {'RSI (14)': 'Oversold (30)'}\n",
        "# ffinancial.set_filter(filters_dict=filters_dict)\n",
        "# df = foverview.ScreenerView().sort_values(by='Volume', ascending=False)"
      ],
      "execution_count": null,
      "outputs": [
        {
          "output_type": "stream",
          "name": "stdout",
          "text": [
            "[Info] loading page [##############################] 1/1 \r"
          ]
        }
      ]
    },
    {
      "cell_type": "markdown",
      "metadata": {
        "id": "Z4DGKyQP16Zf"
      },
      "source": [
        "## Dataset"
      ]
    },
    {
      "cell_type": "code",
      "metadata": {
        "id": "wTKIIMOP13am",
        "colab": {
          "base_uri": "https://localhost:8080/",
          "height": 426
        },
        "outputId": "6d80c779-0889-48e7-cf0b-ad45ac761a89"
      },
      "source": [
        "df.reset_index(drop=True)"
      ],
      "execution_count": null,
      "outputs": [
        {
          "output_type": "execute_result",
          "data": {
            "text/html": [
              "\n",
              "  <div id=\"df-8dae187b-23e6-4f5e-b3c1-558fe2d8095c\">\n",
              "    <div class=\"colab-df-container\">\n",
              "      <div>\n",
              "<style scoped>\n",
              "    .dataframe tbody tr th:only-of-type {\n",
              "        vertical-align: middle;\n",
              "    }\n",
              "\n",
              "    .dataframe tbody tr th {\n",
              "        vertical-align: top;\n",
              "    }\n",
              "\n",
              "    .dataframe thead th {\n",
              "        text-align: right;\n",
              "    }\n",
              "</style>\n",
              "<table border=\"1\" class=\"dataframe\">\n",
              "  <thead>\n",
              "    <tr style=\"text-align: right;\">\n",
              "      <th></th>\n",
              "      <th>Ticker</th>\n",
              "      <th>Company</th>\n",
              "      <th>Sector</th>\n",
              "      <th>Industry</th>\n",
              "      <th>Country</th>\n",
              "      <th>Market Cap</th>\n",
              "      <th>P/E</th>\n",
              "      <th>Price</th>\n",
              "      <th>Change</th>\n",
              "      <th>Volume</th>\n",
              "    </tr>\n",
              "  </thead>\n",
              "  <tbody>\n",
              "    <tr>\n",
              "      <th>0</th>\n",
              "      <td>AMD</td>\n",
              "      <td>Advanced Micro Devices, Inc.</td>\n",
              "      <td>Technology</td>\n",
              "      <td>Semiconductors</td>\n",
              "      <td>USA</td>\n",
              "      <td>175,530,000,000</td>\n",
              "      <td>44</td>\n",
              "      <td>112</td>\n",
              "      <td>-0</td>\n",
              "      <td>123,916,720</td>\n",
              "    </tr>\n",
              "    <tr>\n",
              "      <th>1</th>\n",
              "      <td>NVDA</td>\n",
              "      <td>NVIDIA Corporation</td>\n",
              "      <td>Technology</td>\n",
              "      <td>Semiconductors</td>\n",
              "      <td>USA</td>\n",
              "      <td>582,810,000,000</td>\n",
              "      <td>62</td>\n",
              "      <td>237</td>\n",
              "      <td>-0</td>\n",
              "      <td>36,509,504</td>\n",
              "    </tr>\n",
              "    <tr>\n",
              "      <th>2</th>\n",
              "      <td>INTC</td>\n",
              "      <td>Intel Corporation</td>\n",
              "      <td>Technology</td>\n",
              "      <td>Semiconductors</td>\n",
              "      <td>USA</td>\n",
              "      <td>191,070,000,000</td>\n",
              "      <td>10</td>\n",
              "      <td>48</td>\n",
              "      <td>-0</td>\n",
              "      <td>36,389,884</td>\n",
              "    </tr>\n",
              "    <tr>\n",
              "      <th>3</th>\n",
              "      <td>MU</td>\n",
              "      <td>Micron Technology, Inc.</td>\n",
              "      <td>Technology</td>\n",
              "      <td>Semiconductors</td>\n",
              "      <td>USA</td>\n",
              "      <td>98,450,000,000</td>\n",
              "      <td>14</td>\n",
              "      <td>89</td>\n",
              "      <td>-0</td>\n",
              "      <td>22,099,752</td>\n",
              "    </tr>\n",
              "    <tr>\n",
              "      <th>4</th>\n",
              "      <td>QCOM</td>\n",
              "      <td>QUALCOMM Incorporated</td>\n",
              "      <td>Technology</td>\n",
              "      <td>Semiconductors</td>\n",
              "      <td>USA</td>\n",
              "      <td>183,130,000,000</td>\n",
              "      <td>19</td>\n",
              "      <td>165</td>\n",
              "      <td>-0</td>\n",
              "      <td>8,553,861</td>\n",
              "    </tr>\n",
              "    <tr>\n",
              "      <th>5</th>\n",
              "      <td>TXN</td>\n",
              "      <td>Texas Instruments Incorporated</td>\n",
              "      <td>Technology</td>\n",
              "      <td>Semiconductors</td>\n",
              "      <td>USA</td>\n",
              "      <td>156,790,000,000</td>\n",
              "      <td>21</td>\n",
              "      <td>171</td>\n",
              "      <td>0</td>\n",
              "      <td>5,154,240</td>\n",
              "    </tr>\n",
              "    <tr>\n",
              "      <th>6</th>\n",
              "      <td>MCHP</td>\n",
              "      <td>Microchip Technology Incorporated</td>\n",
              "      <td>Technology</td>\n",
              "      <td>Semiconductors</td>\n",
              "      <td>USA</td>\n",
              "      <td>37,910,000,000</td>\n",
              "      <td>36</td>\n",
              "      <td>69</td>\n",
              "      <td>-0</td>\n",
              "      <td>4,334,055</td>\n",
              "    </tr>\n",
              "    <tr>\n",
              "      <th>7</th>\n",
              "      <td>ADI</td>\n",
              "      <td>Analog Devices, Inc.</td>\n",
              "      <td>Technology</td>\n",
              "      <td>Semiconductors</td>\n",
              "      <td>USA</td>\n",
              "      <td>82,160,000,000</td>\n",
              "      <td>50</td>\n",
              "      <td>159</td>\n",
              "      <td>-0</td>\n",
              "      <td>2,656,102</td>\n",
              "    </tr>\n",
              "    <tr>\n",
              "      <th>8</th>\n",
              "      <td>AVGO</td>\n",
              "      <td>Broadcom Inc.</td>\n",
              "      <td>Technology</td>\n",
              "      <td>Semiconductors</td>\n",
              "      <td>USA</td>\n",
              "      <td>233,770,000,000</td>\n",
              "      <td>39</td>\n",
              "      <td>579</td>\n",
              "      <td>-0</td>\n",
              "      <td>2,645,397</td>\n",
              "    </tr>\n",
              "    <tr>\n",
              "      <th>9</th>\n",
              "      <td>NXPI</td>\n",
              "      <td>NXP Semiconductors N.V.</td>\n",
              "      <td>Technology</td>\n",
              "      <td>Semiconductors</td>\n",
              "      <td>Netherlands</td>\n",
              "      <td>48,420,000,000</td>\n",
              "      <td>27</td>\n",
              "      <td>185</td>\n",
              "      <td>-0</td>\n",
              "      <td>2,591,638</td>\n",
              "    </tr>\n",
              "    <tr>\n",
              "      <th>10</th>\n",
              "      <td>SWKS</td>\n",
              "      <td>Skyworks Solutions, Inc.</td>\n",
              "      <td>Technology</td>\n",
              "      <td>Semiconductors</td>\n",
              "      <td>USA</td>\n",
              "      <td>22,370,000,000</td>\n",
              "      <td>16</td>\n",
              "      <td>137</td>\n",
              "      <td>0</td>\n",
              "      <td>1,924,089</td>\n",
              "    </tr>\n",
              "    <tr>\n",
              "      <th>11</th>\n",
              "      <td>QRVO</td>\n",
              "      <td>Qorvo, Inc.</td>\n",
              "      <td>Technology</td>\n",
              "      <td>Semiconductors</td>\n",
              "      <td>USA</td>\n",
              "      <td>14,200,000,000</td>\n",
              "      <td>13</td>\n",
              "      <td>132</td>\n",
              "      <td>-0</td>\n",
              "      <td>1,442,289</td>\n",
              "    </tr>\n",
              "  </tbody>\n",
              "</table>\n",
              "</div>\n",
              "      <button class=\"colab-df-convert\" onclick=\"convertToInteractive('df-8dae187b-23e6-4f5e-b3c1-558fe2d8095c')\"\n",
              "              title=\"Convert this dataframe to an interactive table.\"\n",
              "              style=\"display:none;\">\n",
              "        \n",
              "  <svg xmlns=\"http://www.w3.org/2000/svg\" height=\"24px\"viewBox=\"0 0 24 24\"\n",
              "       width=\"24px\">\n",
              "    <path d=\"M0 0h24v24H0V0z\" fill=\"none\"/>\n",
              "    <path d=\"M18.56 5.44l.94 2.06.94-2.06 2.06-.94-2.06-.94-.94-2.06-.94 2.06-2.06.94zm-11 1L8.5 8.5l.94-2.06 2.06-.94-2.06-.94L8.5 2.5l-.94 2.06-2.06.94zm10 10l.94 2.06.94-2.06 2.06-.94-2.06-.94-.94-2.06-.94 2.06-2.06.94z\"/><path d=\"M17.41 7.96l-1.37-1.37c-.4-.4-.92-.59-1.43-.59-.52 0-1.04.2-1.43.59L10.3 9.45l-7.72 7.72c-.78.78-.78 2.05 0 2.83L4 21.41c.39.39.9.59 1.41.59.51 0 1.02-.2 1.41-.59l7.78-7.78 2.81-2.81c.8-.78.8-2.07 0-2.86zM5.41 20L4 18.59l7.72-7.72 1.47 1.35L5.41 20z\"/>\n",
              "  </svg>\n",
              "      </button>\n",
              "      \n",
              "  <style>\n",
              "    .colab-df-container {\n",
              "      display:flex;\n",
              "      flex-wrap:wrap;\n",
              "      gap: 12px;\n",
              "    }\n",
              "\n",
              "    .colab-df-convert {\n",
              "      background-color: #E8F0FE;\n",
              "      border: none;\n",
              "      border-radius: 50%;\n",
              "      cursor: pointer;\n",
              "      display: none;\n",
              "      fill: #1967D2;\n",
              "      height: 32px;\n",
              "      padding: 0 0 0 0;\n",
              "      width: 32px;\n",
              "    }\n",
              "\n",
              "    .colab-df-convert:hover {\n",
              "      background-color: #E2EBFA;\n",
              "      box-shadow: 0px 1px 2px rgba(60, 64, 67, 0.3), 0px 1px 3px 1px rgba(60, 64, 67, 0.15);\n",
              "      fill: #174EA6;\n",
              "    }\n",
              "\n",
              "    [theme=dark] .colab-df-convert {\n",
              "      background-color: #3B4455;\n",
              "      fill: #D2E3FC;\n",
              "    }\n",
              "\n",
              "    [theme=dark] .colab-df-convert:hover {\n",
              "      background-color: #434B5C;\n",
              "      box-shadow: 0px 1px 3px 1px rgba(0, 0, 0, 0.15);\n",
              "      filter: drop-shadow(0px 1px 2px rgba(0, 0, 0, 0.3));\n",
              "      fill: #FFFFFF;\n",
              "    }\n",
              "  </style>\n",
              "\n",
              "      <script>\n",
              "        const buttonEl =\n",
              "          document.querySelector('#df-8dae187b-23e6-4f5e-b3c1-558fe2d8095c button.colab-df-convert');\n",
              "        buttonEl.style.display =\n",
              "          google.colab.kernel.accessAllowed ? 'block' : 'none';\n",
              "\n",
              "        async function convertToInteractive(key) {\n",
              "          const element = document.querySelector('#df-8dae187b-23e6-4f5e-b3c1-558fe2d8095c');\n",
              "          const dataTable =\n",
              "            await google.colab.kernel.invokeFunction('convertToInteractive',\n",
              "                                                     [key], {});\n",
              "          if (!dataTable) return;\n",
              "\n",
              "          const docLinkHtml = 'Like what you see? Visit the ' +\n",
              "            '<a target=\"_blank\" href=https://colab.research.google.com/notebooks/data_table.ipynb>data table notebook</a>'\n",
              "            + ' to learn more about interactive tables.';\n",
              "          element.innerHTML = '';\n",
              "          dataTable['output_type'] = 'display_data';\n",
              "          await google.colab.output.renderOutput(dataTable, element);\n",
              "          const docLink = document.createElement('div');\n",
              "          docLink.innerHTML = docLinkHtml;\n",
              "          element.appendChild(docLink);\n",
              "        }\n",
              "      </script>\n",
              "    </div>\n",
              "  </div>\n",
              "  "
            ],
            "text/plain": [
              "   Ticker                            Company      Sector        Industry  \\\n",
              "0     AMD       Advanced Micro Devices, Inc.  Technology  Semiconductors   \n",
              "1    NVDA                 NVIDIA Corporation  Technology  Semiconductors   \n",
              "2    INTC                  Intel Corporation  Technology  Semiconductors   \n",
              "3      MU            Micron Technology, Inc.  Technology  Semiconductors   \n",
              "4    QCOM              QUALCOMM Incorporated  Technology  Semiconductors   \n",
              "5     TXN     Texas Instruments Incorporated  Technology  Semiconductors   \n",
              "6    MCHP  Microchip Technology Incorporated  Technology  Semiconductors   \n",
              "7     ADI               Analog Devices, Inc.  Technology  Semiconductors   \n",
              "8    AVGO                      Broadcom Inc.  Technology  Semiconductors   \n",
              "9    NXPI            NXP Semiconductors N.V.  Technology  Semiconductors   \n",
              "10   SWKS           Skyworks Solutions, Inc.  Technology  Semiconductors   \n",
              "11   QRVO                        Qorvo, Inc.  Technology  Semiconductors   \n",
              "\n",
              "        Country      Market Cap  P/E  Price  Change      Volume  \n",
              "0           USA 175,530,000,000   44    112      -0 123,916,720  \n",
              "1           USA 582,810,000,000   62    237      -0  36,509,504  \n",
              "2           USA 191,070,000,000   10     48      -0  36,389,884  \n",
              "3           USA  98,450,000,000   14     89      -0  22,099,752  \n",
              "4           USA 183,130,000,000   19    165      -0   8,553,861  \n",
              "5           USA 156,790,000,000   21    171       0   5,154,240  \n",
              "6           USA  37,910,000,000   36     69      -0   4,334,055  \n",
              "7           USA  82,160,000,000   50    159      -0   2,656,102  \n",
              "8           USA 233,770,000,000   39    579      -0   2,645,397  \n",
              "9   Netherlands  48,420,000,000   27    185      -0   2,591,638  \n",
              "10          USA  22,370,000,000   16    137       0   1,924,089  \n",
              "11          USA  14,200,000,000   13    132      -0   1,442,289  "
            ]
          },
          "metadata": {},
          "execution_count": 9
        }
      ]
    },
    {
      "cell_type": "markdown",
      "metadata": {
        "id": "dz8cupW6oHPB"
      },
      "source": [
        "## Data Importer - Yahoo Finance (func)"
      ]
    },
    {
      "cell_type": "code",
      "metadata": {
        "id": "ZqiQeYvmJ4YM"
      },
      "source": [
        "def read_data_for_ticker(ticker, startdate, enddate):\n",
        "  stock_data = yf.download(ticker, start=startdate, end= enddate)\n",
        "  stock_data.reset_index()\n",
        "  stock_data.insert(loc = 0, column='Ticker', value = ticker)\n",
        "  return stock_data"
      ],
      "execution_count": null,
      "outputs": []
    },
    {
      "cell_type": "markdown",
      "source": [
        "## --------------Feature Engineer------------------"
      ],
      "metadata": {
        "id": "dZU68XBZDHmB"
      }
    },
    {
      "cell_type": "markdown",
      "metadata": {
        "id": "Vy1husA5okp-"
      },
      "source": [
        "##Handling NA and Duplicates (func)"
      ]
    },
    {
      "cell_type": "code",
      "metadata": {
        "id": "YFKn3pY45eH9"
      },
      "source": [
        "def handling_na_duplicates(stock_data, ticker):\n",
        "  print(f\"Ticker: {ticker}\\ncnt rows before na and dup:{len(stock_data)}\")\n",
        "  stock_data.isna().sum()\n",
        "  stock_data.dropna(inplace = True)\n",
        "  stock_data.drop_duplicates()\n",
        "  print(f\"cnt rows after na and dup:{len(stock_data)}\")\n",
        "  return stock_data\n"
      ],
      "execution_count": null,
      "outputs": []
    },
    {
      "cell_type": "markdown",
      "metadata": {
        "id": "SkyUyh_boAmV"
      },
      "source": [
        "##Calculate Indicators (func)"
      ]
    },
    {
      "cell_type": "code",
      "metadata": {
        "id": "a1E6-VXUJ9Xk"
      },
      "source": [
        "def calculate_indicators_for_ticker(stock_data):\n",
        "  #Overlap Studies Functions\n",
        "\n",
        "\n",
        "  stock_data['SMA_9'] = talib.SMA(stock_data['Close'], timeperiod=9)\n",
        "  stock_data['SMA_21'] = talib.SMA(stock_data['Close'], timeperiod=21)\n",
        "\n",
        "  stock_data['SMA_9_21_diff'] = stock_data['SMA_9'] / stock_data['SMA_21']-1\n",
        "  stock_data['SIGNAL_9_21'] = np.where(stock_data['SMA_9']>stock_data['SMA_21'],1,0)\n",
        "  \n",
        "  stock_data['SMA_50'] = talib.SMA(stock_data['Close'], timeperiod=50)\n",
        "  stock_data['SMA_100'] = talib.SMA(stock_data['Close'], timeperiod=100)\n",
        "  stock_data['SMA_150'] = talib.SMA(stock_data['Close'], timeperiod=150)\n",
        "  stock_data['SMA_200'] = talib.SMA(stock_data['Close'], timeperiod=200)\n",
        "  stock_data['SIGNAL_21_50'] = np.where(stock_data['SMA_21']>stock_data['SMA_50'],1,0)\n",
        "  stock_data['SIGNAL_50_100'] = np.where(stock_data['SMA_50']>stock_data['SMA_100'],1,0)\n",
        "  stock_data['SIGNAL_100_200'] = np.where(stock_data['SMA_100']>stock_data['SMA_200'],1,0)\n",
        "\n",
        "  # stock_data['EMA_20'] = talib.EMA(stock_data['Close'], timeperiod=20)\n",
        "  # stock_data['EMA_50'] = talib.EMA(stock_data['Close'], timeperiod=50)\n",
        "  # stock_data['EMA_200'] = talib.EMA(stock_data['Close'], timeperiod=200)\n",
        "  # stock_data['SIGNAL_9_21'] = np.where(stock_data['SMA_9']<stock_data['SMA_21'],-1,stock_data['SIGNAL_9_21'])\n",
        "\n",
        "  # stock_data['return'] = np.log(stock_data['Close']).diff()\n",
        "  # stock_data['system_return'] = stock_data['SIGNAL_9_21'] * stock_data['return']\n",
        "  # stock_data['entry'] = stock_data['SIGNAL_9_21'].diff()\n",
        "\n",
        "  # stock_data['MA_30'] = talib.MA(stock_data['Close'], timeperiod=30, matype=0) # MA - Moving average\n",
        "  # stock_data['MIDPOINT_14'] = talib.MIDPOINT(stock_data['Close'], timeperiod=14) # MIDPOINT - MidPoint over period\n",
        "  # stock_data['MIDPRICE_14'] = talib.MIDPRICE(stock_data['High'], stock_data['Low'], timeperiod=14) # MIDPRICE - Midpoint Price over period\n",
        "  # stock_data['TRIMA_30']= talib.TRIMA(stock_data['Close'], timeperiod=30) # TRIMA - Triangular Moving Average\n",
        "  # stock_data['WMA_30'] = talib.WMA(stock_data['Close'], timeperiod=30) # WMA - Weighted Moving Average\n",
        "  # upper, mid, lower = talib.BBANDS(stock_data['Close'], nbdevup=2, nbdevdn=2, timeperiod=20)\n",
        "  # stock_data['lower_BBANDS_20'] = lower\n",
        "  # stock_data['Mid_BBANDS_20'] = mid\n",
        "  # stock_data['Upper_BBANDS_20'] = upper\n",
        "  # stock_data['BBANDS_Buy Signal'] = np.where(stock_data.Upper_BBANDS_20 > stock_data.Close, True, False)\n",
        "  # stock_data['BBANDS_Sell Signal'] = np.where(stock_data.Upper_BBANDS_20 < stock_data.Close, True, False)\n",
        "\n",
        "  # stock_data['SAR'] = talib.SAR(stock_data['High'], stock_data['Low'], acceleration=0, maximum=0) # SAR - Parabolic SAR\n",
        "  # stock_data['TEMA'] = talib.TEMA(stock_data['Close'], timeperiod=30) # TEMA - Triple Exponential Moving Average\n",
        "\n",
        "\n",
        "  # Momentum Indicator Functions\n",
        "  # stock_data['ADX'] = talib.ADX(stock_data['High'], stock_data['Low'], stock_data['Close'], timeperiod=14) #ADX - Average Directional Movement Index\n",
        "  stock_data['RSI'] = talib.RSI(stock_data['Close'], timeperiod=14)\n",
        "  # stock_data['MOM'] = talib.MOM(stock_data['Close'], timeperiod=10) #MOM - Momentum\n",
        "  # stock_data['ROC'] = talib.ROC(stock_data['Close'], timeperiod=10) #ROC - Rate of change : ((price/prevPrice)-1)*100\n",
        "  # stock_data['CCI'] = talib.CCI(stock_data['High'], stock_data['Low'], stock_data['Close'], timeperiod=14) # CCI - Commodity Channel Index\n",
        "  # macd, macdsignal, macdhist = talib.MACD(stock_data['Close'], fastperiod=12, slowperiod=26, signalperiod=9)\n",
        "  # stock_data['MACD'] = macd\n",
        "  # stock_data['MACDSignal'] = macdsignal\n",
        "  # stock_data['MACDHist'] = macdhist\n",
        "  # stock_data['MFI'] = talib.MFI(stock_data['High'], stock_data['Low'], stock_data['Close'], stock_data['Volume'], timeperiod=14) #MFI - Money Flow Index\n",
        "  # stock_data['CMO'] = talib.CMO(stock_data['Close'], timeperiod=14) # Chande Momentum Oscillator\n",
        "  # stock_data['DX'] = talib.DX(stock_data['High'], stock_data['Low'], stock_data['Close'], timeperiod=14) # Directional Movement Index\n",
        "  # stock_data['BOP'] = talib.BOP(stock_data['Open'], stock_data['High'], stock_data['Low'], stock_data['Close']) # BOP - Balance Of Power\n",
        "  # stock_data['WILLR'] = talib.WILLR(stock_data['High'], stock_data['Low'], stock_data['Close'], timeperiod=14) # WILLR - Williams' %R\n",
        "  # fastk, fastd = talib.STOCHRSI(stock_data['Close'], timeperiod=14, fastk_period=5, fastd_period=3, fastd_matype=0) # STOCHRSI - Stochastic Relative Strength Index\n",
        "  # stock_data['STOCHRSI_fastk'] = fastk\n",
        "  # stock_data['STOCHRSI_fastd'] = fastd\n",
        "  # slowk, slowd = talib.STOCH(stock_data['High'], stock_data['Low'], stock_data['Close'], fastk_period=5, slowk_period=3, slowk_matype=0, slowd_period=3, slowd_matype=0) # STOCH - Stochastic\n",
        "  # stock_data['STOCH_slowk'] = slowk\n",
        "  # stock_data['STOCH_slowd'] = slowd\n",
        "  # stock_data['PPO'] = talib.PPO(stock_data['Close'], fastperiod=12, slowperiod=26, matype=0) # PPO - Percentage Price Oscillator\n",
        "  # stock_data['ROC']= talib.ROC(stock_data['Close'], timeperiod=10) # ROC - Rate of change : ((price/prevPrice)-1)*100\n",
        "  # stock_data['ROCP']= talib.ROCP(stock_data['Close'], timeperiod=10) # ROCP - Rate of change Percentage: (price-prevPrice)/prevPrice\n",
        "  # stock_data['ROCR']= talib.ROCR(stock_data['Close'], timeperiod=10) # ROCR - Rate of change ratio: (price/prevPrice)\n",
        "\n",
        "\n",
        "  # Volume Indicator Functions\n",
        "  # stock_data['AD'] = talib.AD(stock_data['High'], stock_data['Low'], stock_data['Close'], stock_data['Volume']) # AD - Chaikin A/D Line\n",
        "  # stock_data['ADOSC'] = talib.ADOSC(stock_data['High'], stock_data['Low'], stock_data['Close'], stock_data['Volume'], fastperiod=3, slowperiod=10) # ADOSC - Chaikin A/D Oscillator\n",
        "  # stock_data['OBV'] = talib.OBV(stock_data['Close'], stock_data['Volume']) # OBV - On Balance Volume\n",
        "\n",
        "\n",
        "  # Volatility Indicator Functions\n",
        "  # stock_data['ATR'] = talib.ATR(stock_data['High'], stock_data['Low'], stock_data['Close'], timeperiod=14) # ATR - Average True Range\n",
        "  # stock_data['NATR'] = talib.NATR(stock_data['High'], stock_data['Low'], stock_data['Close'], timeperiod=14) # NATR - Normalized Average True Range\n",
        "  # stock_data['TRANGE'] = talib.TRANGE(stock_data['High'], stock_data['Low'], stock_data['Close']) # TRANGE - True Range\n",
        "\n",
        "\n",
        "  # Cycle Indicator Functions\n",
        "  # stock_data['HT_DCPERIOD'] = talib.HT_DCPERIOD(stock_data['Close']) # HT_DCPERIOD - Hilbert Transform - Dominant Cycle Period\n",
        "  # stock_data['HT_DCPHASE'] = talib.HT_DCPHASE(stock_data['Close']) # HT_DCPHASE - Hilbert Transform - Dominant Cycle Phase\n",
        "  # inphase, quadrature = talib.HT_PHASOR(stock_data['Close']) # HT_PHASOR - Hilbert Transform - Phasor Components\n",
        "  # stock_data['INPHASE'] = inphase\n",
        "  # stock_data['Quadrature'] = quadrature\n",
        "  # sine, leadsine = talib.HT_SINE(stock_data['Close']) # HT_SINE - Hilbert Transform - SineWave\n",
        "  # stock_data['SINE'] = sine\n",
        "  # stock_data['LeadSine'] = leadsine\n",
        "  # stock_data['HT_TRENDMODE']= talib.HT_TRENDMODE(stock_data['Close']) # HT_TRENDMODE - Hilbert Transform - Trend vs Cycle Mode\n",
        "\n",
        "\n",
        "  # Pattern Recognition Functions\n",
        "  # stock_data['CDL2CROWS'] = talib.CDL2CROWS(stock_data['Open'], stock_data['High'], stock_data['Low'], stock_data['Close']) # CDL2CROWS - Two Crows\n",
        "  # stock_data['CDL3BLACKCROWS'] = talib.CDL3BLACKCROWS(stock_data['Open'], stock_data['High'], stock_data['Low'], stock_data['Close']) # CDL3BLACKCROWS - Three Black Crows\n",
        "  # stock_data['CDL3INSIDE'] = talib.CDL3INSIDE(stock_data['Open'], stock_data['High'], stock_data['Low'], stock_data['Close']) # CDL3INSIDE - Three Inside Up/Down\n",
        "  # stock_data['CDL3LINESTRIKE'] = talib.CDL3LINESTRIKE(stock_data['Open'], stock_data['High'], stock_data['Low'], stock_data['Close']) # CDL3LINESTRIKE - Three-Line Strike\n",
        "  # stock_data['CDL3OUTSIDE'] = talib.CDL3OUTSIDE(stock_data['Open'], stock_data['High'], stock_data['Low'], stock_data['Close']) # CDL3OUTSIDE - Three Outside Up/Down\n",
        "  # stock_data['CDL3STARSINSOUTH'] = talib.CDL3STARSINSOUTH(stock_data['Open'], stock_data['High'], stock_data['Low'], stock_data['Close']) # CDL3STARSINSOUTH - Three Stars In The South\n",
        "  # stock_data['CDL3WHITESOLDIERS'] = talib.CDL3WHITESOLDIERS(stock_data['Open'], stock_data['High'], stock_data['Low'], stock_data['Close']) # CDL3WHITESOLDIERS - Three Advancing White Soldiers\n",
        "  # stock_data['CDLABANDONEDBABY'] = talib.CDLABANDONEDBABY(stock_data['Open'], stock_data['High'], stock_data['Low'], stock_data['Close'], penetration=0) # CDLABANDONEDBABY - Abandoned Baby\n",
        "  # stock_data['CDLADVANCEBLOCK'] = talib.CDLADVANCEBLOCK(stock_data['Open'], stock_data['High'], stock_data['Low'], stock_data['Close']) # CDLADVANCEBLOCK - Advance Block\n",
        "  # stock_data['CDLBELTHOLD'] = talib.CDLBELTHOLD(stock_data['Open'], stock_data['High'], stock_data['Low'], stock_data['Close']) # CDLBELTHOLD - Belt-hold\n",
        "  # stock_data['CDLBREAKAWAY'] = talib.CDLBREAKAWAY(stock_data['Open'], stock_data['High'], stock_data['Low'], stock_data['Close']) # CDLBREAKAWAY - Breakaway\n",
        "  # stock_data['CDLCLOSINGMARUBOZU'] = talib.CDLCLOSINGMARUBOZU(stock_data['Open'], stock_data['High'], stock_data['Low'], stock_data['Close']) # CDLCLOSINGMARUBOZU - Closing Marubozu\n",
        "  # stock_data['CDLCONCEALBABYSWALL'] = talib.CDLCONCEALBABYSWALL(stock_data['Open'], stock_data['High'], stock_data['Low'], stock_data['Close']) # CDLCONCEALBABYSWALL - Concealing Baby Swallow\n",
        "  # stock_data['CDLCOUNTERATTACK'] = talib.CDLCOUNTERATTACK(stock_data['Open'], stock_data['High'], stock_data['Low'], stock_data['Close']) # CDLCOUNTERATTACK - Counterattack\n",
        "  # stock_data['CDLDARKCLOUDCOVER'] = talib.CDLDARKCLOUDCOVER(stock_data['Open'], stock_data['High'], stock_data['Low'], stock_data['Close'], penetration=0) # CDLDARKCLOUDCOVER - Dark Cloud Cover\n",
        "  # stock_data['CDLDOJI'] = talib.CDLDOJI(stock_data['Open'], stock_data['High'], stock_data['Low'], stock_data['Close']) # CDLDOJI - Doji\n",
        "  # stock_data['CDLDOJISTAR'] = talib.CDLDOJISTAR(stock_data['Open'], stock_data['High'], stock_data['Low'], stock_data['Close']) # CDLDOJISTAR - Doji Star\n",
        "  # stock_data['CDLDRAGONFLYDOJI'] = talib.CDLDRAGONFLYDOJI(stock_data['Open'], stock_data['High'], stock_data['Low'], stock_data['Close']) # CDLDRAGONFLYDOJI - Dragonfly Doji\n",
        "  # stock_data['CDLENGULFING'] = talib.CDLENGULFING(stock_data['Open'], stock_data['High'], stock_data['Low'], stock_data['Close']) # CDLENGULFING - Engulfing Pattern\n",
        "  # stock_data['CDLEVENINGDOJISTAR'] = talib.CDLEVENINGDOJISTAR(stock_data['Open'], stock_data['High'], stock_data['Low'], stock_data['Close'], penetration=0) # CDLEVENINGDOJISTAR - Evening Doji Star\n",
        "  # stock_data['CDLEVENINGSTAR'] = talib.CDLEVENINGSTAR(stock_data['Open'], stock_data['High'], stock_data['Low'], stock_data['Close'], penetration=0) # CDLEVENINGSTAR - Evening Star\n",
        "  # stock_data['CDLGAPSIDESIDEWHITE'] = talib.CDLGAPSIDESIDEWHITE(stock_data['Open'], stock_data['High'], stock_data['Low'], stock_data['Close']) # CDLGAPSIDESIDEWHITE - Up/Down-gap side-by-side white lines\n",
        "  # stock_data['CDLGRAVESTONEDOJI'] = talib.CDLGRAVESTONEDOJI(stock_data['Open'], stock_data['High'], stock_data['Low'], stock_data['Close']) # CDLGRAVESTONEDOJI - Gravestone Doji\n",
        "  # stock_data['CDLHAMMER'] = talib.CDLHAMMER(stock_data['Open'], stock_data['High'], stock_data['Low'], stock_data['Close']) # CDLHAMMER - Hammer\n",
        "  # stock_data['CDLHANGINGMAN'] = talib.CDLHANGINGMAN(stock_data['Open'], stock_data['High'], stock_data['Low'], stock_data['Close']) # CDLHANGINGMAN - Hanging Man\n",
        "  # stock_data['CDLHARAMI'] = talib.CDLHARAMI(stock_data['Open'], stock_data['High'], stock_data['Low'], stock_data['Close']) # CDLHARAMI - Harami Pattern\n",
        "  # stock_data['CDLHARAMICROSS'] = talib.CDLHARAMICROSS(stock_data['Open'], stock_data['High'], stock_data['Low'], stock_data['Close']) # CDLHARAMICROSS - Harami Cross Pattern\n",
        "  # stock_data['CDLHIGHWAVE'] = talib.CDLHIGHWAVE(stock_data['Open'], stock_data['High'], stock_data['Low'], stock_data['Close']) # CDLHIGHWAVE - High-Wave Candle\n",
        "  # stock_data['CDLHIKKAKE'] = talib.CDLHIKKAKE(stock_data['Open'], stock_data['High'], stock_data['Low'], stock_data['Close']) # CDLHIKKAKE - Hikkake Pattern\n",
        "  # stock_data['CDLHIKKAKEMOD'] = talib.CDLHIKKAKEMOD(stock_data['Open'], stock_data['High'], stock_data['Low'], stock_data['Close']) # CDLHIKKAKEMOD - Modified Hikkake Pattern\n",
        "  # stock_data['CDLHOMINGPIGEON'] = talib.CDLHOMINGPIGEON(stock_data['Open'], stock_data['High'], stock_data['Low'], stock_data['Close']) # CDLHOMINGPIGEON - Homing Pigeon\n",
        "  # stock_data['CDLIDENTICAL3CROWS'] = talib.CDLIDENTICAL3CROWS(stock_data['Open'], stock_data['High'], stock_data['Low'], stock_data['Close']) # CDLIDENTICAL3CROWS - Identical Three Crows\n",
        "  # stock_data['CDLINNECK'] = talib.CDLINNECK(stock_data['Open'], stock_data['High'], stock_data['Low'], stock_data['Close']) # CDLINNECK - In-Neck Pattern\n",
        "  # stock_data['CDLINVERTEDHAMMER'] = talib.CDLINVERTEDHAMMER(stock_data['Open'], stock_data['High'], stock_data['Low'], stock_data['Close']) # CDLINVERTEDHAMMER - Inverted Hammer\n",
        "  # stock_data['CDLKICKING'] = talib.CDLKICKING(stock_data['Open'], stock_data['High'], stock_data['Low'], stock_data['Close'])# CDLKICKING - Kicking\n",
        "  # stock_data['CDLKICKINGBYLENGTH'] = talib.CDLKICKINGBYLENGTH(stock_data['Open'], stock_data['High'], stock_data['Low'], stock_data['Close']) # CDLKICKINGBYLENGTH - Kicking - bull/bear determined by the longer marubozu\n",
        "  # stock_data['CDLLADDERBOTTOM'] = talib.CDLLADDERBOTTOM(stock_data['Open'], stock_data['High'], stock_data['Low'], stock_data['Close']) # CDLLADDERBOTTOM - Ladder Bottom\n",
        "  # stock_data['CDLLONGLEGGEDDOJI'] = talib.CDLLONGLEGGEDDOJI(stock_data['Open'], stock_data['High'], stock_data['Low'], stock_data['Close']) # CDLLONGLEGGEDDOJI - Long Legged Doji\n",
        "  # stock_data['CDLLONGLINE'] = talib.CDLLONGLINE(stock_data['Open'], stock_data['High'], stock_data['Low'], stock_data['Close']) # CDLLONGLINE - Long Line Candle\n",
        "  # stock_data['CDLMARUBOZU'] = talib.CDLMARUBOZU(stock_data['Open'], stock_data['High'], stock_data['Low'], stock_data['Close']) # CDLMARUBOZU - Marubozu\n",
        "  # stock_data['CDLMATCHINGLOW'] = talib.CDLMATCHINGLOW(stock_data['Open'], stock_data['High'], stock_data['Low'], stock_data['Close']) # CDLMATCHINGLOW - Matching Low\n",
        "  # stock_data['CDLMATHOLD'] = talib.CDLMATHOLD(stock_data['Open'], stock_data['High'], stock_data['Low'], stock_data['Close'], penetration=0) # CDLMATHOLD - Mat Hold\n",
        "  # stock_data['CDLMORNINGDOJISTAR'] = talib.CDLMORNINGDOJISTAR(stock_data['Open'], stock_data['High'], stock_data['Low'], stock_data['Close'], penetration=0) # CDLMORNINGDOJISTAR - Morning Doji Star\n",
        "  # stock_data['CDLMORNINGSTAR'] = talib.CDLMORNINGSTAR(stock_data['Open'], stock_data['High'], stock_data['Low'], stock_data['Close'], penetration=0) # CDLMORNINGSTAR - Morning Star\n",
        "  # stock_data['CDLONNECK'] = talib.CDLONNECK(stock_data['Open'], stock_data['High'], stock_data['Low'], stock_data['Close']) # CDLONNECK - On-Neck Pattern\n",
        "  # stock_data['CDLPIERCING'] = talib.CDLPIERCING(stock_data['Open'], stock_data['High'], stock_data['Low'], stock_data['Close']) # CDLPIERCING - Piercing Pattern\n",
        "  # stock_data['CDLRICKSHAWMAN'] = talib.CDLRICKSHAWMAN(stock_data['Open'], stock_data['High'], stock_data['Low'], stock_data['Close']) # CDLRICKSHAWMAN - Rickshaw Man\n",
        "  # stock_data['CDLRISEFALL3METHODS'] = talib.CDLRISEFALL3METHODS(stock_data['Open'], stock_data['High'], stock_data['Low'], stock_data['Close']) # CDLRISEFALL3METHODS - Rising/Falling Three Methods\n",
        "  # stock_data['CDLSEPARATINGLINES'] = talib.CDLSEPARATINGLINES(stock_data['Open'], stock_data['High'], stock_data['Low'], stock_data['Close']) # CDLSEPARATINGLINES - Separating Lines\n",
        "  # stock_data['CDLSHOOTINGSTAR'] = talib.CDLSHOOTINGSTAR(stock_data['Open'], stock_data['High'], stock_data['Low'], stock_data['Close']) # CDLSHOOTINGSTAR - Shooting Star\n",
        "  # stock_data['CDLSHORTLINE'] = talib.CDLSHORTLINE(stock_data['Open'], stock_data['High'], stock_data['Low'], stock_data['Close']) # CDLSHORTLINE - Short Line Candle\n",
        "  # stock_data['CDLSPINNINGTOP'] = talib.CDLSPINNINGTOP(stock_data['Open'], stock_data['High'], stock_data['Low'], stock_data['Close']) # CDLSPINNINGTOP - Spinning Top\n",
        "  # stock_data['CDLSTALLEDPATTERN'] = talib.CDLSTALLEDPATTERN(stock_data['Open'], stock_data['High'], stock_data['Low'], stock_data['Close']) # CDLSTALLEDPATTERN - Stalled Pattern\n",
        "  # stock_data['CDLSTICKSANDWICH'] = talib.CDLSTICKSANDWICH(stock_data['Open'], stock_data['High'], stock_data['Low'], stock_data['Close']) # CDLSTICKSANDWICH - Stick Sandwich\n",
        "  # stock_data['CDLTAKURI'] = talib.CDLTAKURI(stock_data['Open'], stock_data['High'], stock_data['Low'], stock_data['Close']) # CDLTAKURI - Takuri (Dragonfly Doji with very long lower shadow)\n",
        "  # stock_data['CDLTASUKIGAP'] = talib.CDLTASUKIGAP(stock_data['Open'], stock_data['High'], stock_data['Low'], stock_data['Close']) # CDLTASUKIGAP - Tasuki Gap\n",
        "  # stock_data['CDLTHRUSTING'] = talib.CDLTHRUSTING(stock_data['Open'], stock_data['High'], stock_data['Low'], stock_data['Close']) # CDLTHRUSTING - Thrusting Pattern\n",
        "  # stock_data['CDLTRISTAR'] = talib.CDLTRISTAR(stock_data['Open'], stock_data['High'], stock_data['Low'], stock_data['Close']) # CDLTRISTAR - Tristar Pattern\n",
        "  # stock_data['CDLUNIQUE3RIVER'] = talib.CDLUNIQUE3RIVER(stock_data['Open'], stock_data['High'], stock_data['Low'], stock_data['Close']) # CDLUNIQUE3RIVER - Unique 3 River\n",
        "  # stock_data['CDLUPSIDEGAP2CROWS'] = talib.CDLUPSIDEGAP2CROWS(stock_data['Open'], stock_data['High'], stock_data['Low'], stock_data['Close']) # CDLUPSIDEGAP2CROWS - Upside Gap Two Crows\n",
        "  # stock_data['CDLXSIDEGAP3METHODS'] = talib.CDLXSIDEGAP3METHODS(stock_data['Open'], stock_data['High'], stock_data['Low'], stock_data['Close']) # CDLXSIDEGAP3METHODS - Upside/Downside Gap Three Methods\n",
        "\n",
        "\n",
        "  #Statistic Functions\n",
        "  # stock_data['BETA_5'] = talib.BETA(stock_data['High'], stock_data['Low'], timeperiod=5) # BETA - Beta\n",
        "  # stock_data['CORREL_30'] = talib.CORREL(stock_data['High'], stock_data['Low'], timeperiod=30) # CORREL - Pearson's Correlation Coefficient (r)\n",
        "  # stock_data['LINEARREG_14'] = talib.LINEARREG(stock_data['Close'], timeperiod=14) # LINEARREG - Linear Regression\n",
        "  # stock_data['LINEARREG_ANGLE_14'] = talib.LINEARREG_ANGLE(stock_data['Close'], timeperiod=14) # LINEARREG_ANGLE - Linear Regression Angle\n",
        "  # stock_data['LINEARREG_INTERCEPT_14'] = talib.LINEARREG_INTERCEPT(stock_data['Close'], timeperiod=14) # LINEARREG_INTERCEPT - Linear Regression Intercept\n",
        "  # stock_data['LINEARREG_SLOPE_14'] = talib.LINEARREG_SLOPE(stock_data['Close'], timeperiod=14) # LINEARREG_SLOPE - Linear Regression Slope\n",
        "  # stock_data['STDDEV_5'] = talib.STDDEV(stock_data['Close'], timeperiod=5, nbdev=1) # STDDEV - Standard Deviation\n",
        "  # stock_data['TSF_14'] = talib.TSF(stock_data['Close'], timeperiod=14) # TSF - Time Series Forecast\n",
        "  # stock_data['VAR_5'] = talib.VAR(stock_data['Close'], timeperiod=5, nbdev=1) # VAR - Variance\n",
        "\n",
        "\n",
        "  return stock_data\n"
      ],
      "execution_count": null,
      "outputs": []
    },
    {
      "cell_type": "markdown",
      "metadata": {
        "id": "SCSPBc9poygV"
      },
      "source": [
        "## Target Label (func)"
      ]
    },
    {
      "cell_type": "code",
      "metadata": {
        "id": "dU9Swj234JIz"
      },
      "source": [
        "def create_sequences(seq_len, data):\n",
        "  X = []\n",
        "  y = []\n",
        "  for i in range(seq_len, len(data)):\n",
        "      X.append(data[i-seq_len:i])\n",
        "      y.append(data[predict_field][i])\n",
        "  X, y = np.array(X), np.array(y)\n",
        "  return X, y "
      ],
      "execution_count": null,
      "outputs": []
    },
    {
      "cell_type": "markdown",
      "metadata": {
        "id": "j9wO5Bkjpc9Y"
      },
      "source": [
        "## Run funcs - Data Engineer "
      ]
    },
    {
      "cell_type": "code",
      "metadata": {
        "id": "UuL7RkCnn6GH",
        "colab": {
          "base_uri": "https://localhost:8080/"
        },
        "outputId": "bcba63fc-23ec-4a3b-cdf3-2d8460a35af7"
      },
      "source": [
        "import warnings\n",
        "warnings.simplefilter(action='ignore')\n",
        "\n",
        "def run_data(ticker):\n",
        "  frames=[]\n",
        "\n",
        "  # ticker_list = list(df['Ticker'].unique())\n",
        "  ticker_list = ticker\n",
        "  startdate =  \"2010-01-01\"\n",
        "  # enddate = \"2022-12-31\"\n",
        "  enddate = datetime.today().strftime('%Y-%m-%d')\n",
        "\n",
        "  for ticker in ticker_list:\n",
        "\n",
        "    stock_data = read_data_for_ticker(ticker, startdate, enddate)\n",
        "    stock_data_with_indicators = calculate_indicators_for_ticker(stock_data)\n",
        "    # stock_data_with_target_class = class_definition(stock_data_with_indicators, 0.1, 21)\n",
        "    stock_data = handling_na_duplicates(stock_data_with_indicators, ticker)\n",
        "    \n",
        "    frames = stock_data.append(frames)\n",
        "\n",
        "  df_stock_data = pd.concat([frames])\n",
        "  df_stock_data.reset_index(inplace=True)\n",
        "  return df_stock_data\n",
        "\n",
        "df_stock_data = run_data(['AMD'])"
      ],
      "execution_count": null,
      "outputs": [
        {
          "output_type": "stream",
          "name": "stdout",
          "text": [
            "\r[*********************100%***********************]  1 of 1 completed\n",
            "Ticker: AMD\n",
            "cnt rows before na and dup:3063\n",
            "cnt rows after na and dup:2864\n"
          ]
        }
      ]
    },
    {
      "cell_type": "markdown",
      "source": [
        "##Import Pickles"
      ],
      "metadata": {
        "id": "_WMhvjGRqzW1"
      }
    },
    {
      "cell_type": "code",
      "source": [
        "# import pickle\n",
        "# def pickle_dump(filename,df):\n",
        "#     outfile = open(filename,'wb')\n",
        "#     pickle.dump(df, outfile) #its dumps the object as is\n",
        "#     outfile.close()\n",
        "#     return df"
      ],
      "metadata": {
        "id": "GFJ3-92q9QnS"
      },
      "execution_count": null,
      "outputs": []
    },
    {
      "cell_type": "code",
      "source": [
        "# pickle_dump(f\"'stock_data_snp4yr_{ticker_list}.pickle'\",df_stock_data)"
      ],
      "metadata": {
        "id": "pxF-mppp-Z5w"
      },
      "execution_count": null,
      "outputs": []
    },
    {
      "cell_type": "markdown",
      "source": [
        "##------------Visualize Data--------------"
      ],
      "metadata": {
        "id": "qiSM8o5yD_w6"
      }
    },
    {
      "cell_type": "markdown",
      "metadata": {
        "id": "mJuF3s3e3LV9"
      },
      "source": [
        "## EDA Chart (func)"
      ]
    },
    {
      "cell_type": "code",
      "metadata": {
        "id": "FbzgeBeblTxW",
        "colab": {
          "base_uri": "https://localhost:8080/",
          "height": 417
        },
        "outputId": "2d855c2b-da69-40f7-ae5f-7ea918844353"
      },
      "source": [
        "!pip install matplotlib==3.1.3\n",
        "\n",
        "def get_target_split(series,figX=15,figY=7):\n",
        "    f,ax=plt.subplots(1,2,figsize=(figX,figY))\n",
        "    series.value_counts().plot.pie(autopct='%1.1f%%',ax=ax[0])\n",
        "    ax[0].set_title(f'{series.name} distribution')\n",
        "    ax[0].set_ylabel('')\n",
        "    sns.countplot(series,ax=ax[1])\n",
        "    ax[0].legend(fontsize=12)\n",
        "    \n",
        "    ax[1].set_title(f'Count plot for {series.name}')\n",
        "    for rect in ax[1].patches:\n",
        "        ax[1].text (rect.get_x() + rect.get_width()  / 2,rect.get_height()+ 0.75,rect.get_height(),horizontalalignment='center', fontsize = 11)\n",
        "\n"
      ],
      "execution_count": null,
      "outputs": [
        {
          "output_type": "stream",
          "name": "stdout",
          "text": [
            "Collecting matplotlib==3.1.3\n",
            "  Downloading matplotlib-3.1.3-cp37-cp37m-manylinux1_x86_64.whl (13.1 MB)\n",
            "\u001b[K     |████████████████████████████████| 13.1 MB 8.7 MB/s \n",
            "\u001b[?25hRequirement already satisfied: cycler>=0.10 in /usr/local/lib/python3.7/dist-packages (from matplotlib==3.1.3) (0.11.0)\n",
            "Requirement already satisfied: pyparsing!=2.0.4,!=2.1.2,!=2.1.6,>=2.0.1 in /usr/local/lib/python3.7/dist-packages (from matplotlib==3.1.3) (3.0.7)\n",
            "Requirement already satisfied: numpy>=1.11 in /usr/local/lib/python3.7/dist-packages (from matplotlib==3.1.3) (1.21.5)\n",
            "Requirement already satisfied: python-dateutil>=2.1 in /usr/local/lib/python3.7/dist-packages (from matplotlib==3.1.3) (2.8.2)\n",
            "Requirement already satisfied: kiwisolver>=1.0.1 in /usr/local/lib/python3.7/dist-packages (from matplotlib==3.1.3) (1.3.2)\n",
            "Requirement already satisfied: six>=1.5 in /usr/local/lib/python3.7/dist-packages (from python-dateutil>=2.1->matplotlib==3.1.3) (1.15.0)\n",
            "Installing collected packages: matplotlib\n",
            "  Attempting uninstall: matplotlib\n",
            "    Found existing installation: matplotlib 3.5.1\n",
            "    Uninstalling matplotlib-3.5.1:\n",
            "      Successfully uninstalled matplotlib-3.5.1\n",
            "\u001b[31mERROR: pip's dependency resolver does not currently take into account all the packages that are installed. This behaviour is the source of the following dependency conflicts.\n",
            "fear-greed-index 0.1.4 requires matplotlib<4.0.0,>=3.3.4, but you have matplotlib 3.1.3 which is incompatible.\n",
            "albumentations 0.1.12 requires imgaug<0.2.7,>=0.2.5, but you have imgaug 0.2.9 which is incompatible.\u001b[0m\n",
            "Successfully installed matplotlib-3.1.3\n"
          ]
        },
        {
          "output_type": "display_data",
          "data": {
            "application/vnd.colab-display-data+json": {
              "pip_warning": {
                "packages": [
                  "matplotlib",
                  "mpl_toolkits"
                ]
              }
            }
          },
          "metadata": {}
        }
      ]
    },
    {
      "cell_type": "markdown",
      "metadata": {
        "id": "GlueTlZvvpYY"
      },
      "source": [
        "##Plot trades on time series (func)"
      ]
    },
    {
      "cell_type": "code",
      "metadata": {
        "id": "NgkyiF0Dvmuf"
      },
      "source": [
        "def time_series_chart_cross_avg():\n",
        "  plt.rcParams['figure.figsize'] = 20,10\n",
        "  plt.grid(True, alpha =.3)\n",
        "  plt.plot(stock_data.iloc[-365:]['Close'], color = 'y', label = ticker_list)\n",
        "  plt.plot(stock_data.iloc[-365:]['SMA_9'], color = 'g', label = 'SMA_9')\n",
        "  plt.plot(stock_data.iloc[-365:]['SMA_21'], color = 'r', label = 'SMA_21')\n",
        "\n",
        "  plt.plot(stock_data[-365:].loc[stock_data.entry==2].index, stock_data[-365:]['SMA_9'][stock_data.entry==2], '^', color = 'g', markersize = 12)\n",
        "  plt.plot(stock_data[-365:].loc[stock_data.entry==-2].index, stock_data[-365:]['SMA_21'][stock_data.entry==-2], 'v', color = 'r', markersize = 12)\n",
        "\n",
        "  plt.legend(loc=2);"
      ],
      "execution_count": null,
      "outputs": []
    },
    {
      "cell_type": "code",
      "metadata": {
        "id": "Scea7wvGAOuC"
      },
      "source": [
        "def algo_comparision_by_cross_avg():\n",
        "  plt.rcParams['figure.figsize'] = 20,10\n",
        "\n",
        "  plt.plot(np.exp(stock_data['return']).cumprod(), label= 'Buy/Hold') # cumprod = acculmative return\n",
        "  plt.plot(np.exp(stock_data['system_return']).cumprod(), label='System')\n",
        "  plt.legend(loc=2)\n",
        "  plt.grid(True, alpha=.3)\n",
        "\n",
        "  print(f\"return: {np.exp(stock_data['return']).cumprod()[-1]-1}\\nsystem_return:{np.exp(stock_data['system_return']).cumprod()[-1]-1}\")"
      ],
      "execution_count": null,
      "outputs": []
    },
    {
      "cell_type": "markdown",
      "metadata": {
        "id": "nX5VU0Rq8n0p"
      },
      "source": [
        "## Market Sentiments - Fear and Greed index (func)"
      ]
    },
    {
      "cell_type": "code",
      "metadata": {
        "id": "EphHRiJzgxhk"
      },
      "source": [
        "from fear_greed_index.CNNFearAndGreedIndex import CNNFearAndGreedIndex\n",
        "\n",
        "def Fear_and_greed_charts():\n",
        "  cnn_fg = CNNFearAndGreedIndex()\n",
        "\n",
        "  fear_and_greed_index = int(cnn_fg.get_index()[18:20])\n",
        "  # plot Fear and Greed charts\n",
        "  fig = plt.figure(figsize=(20, 7))\n",
        "  cnn_fg.plot_all_charts(fig)\n",
        "  plt.show()\n",
        "  return fear_and_greed_index\n",
        "\n",
        "\n"
      ],
      "execution_count": null,
      "outputs": []
    },
    {
      "cell_type": "markdown",
      "source": [
        "##Runs Chart Visualization"
      ],
      "metadata": {
        "id": "zfdgBFdPJs7P"
      }
    },
    {
      "cell_type": "code",
      "source": [
        "get_target_split(df_stock_data['Target_class_label'],15,5)\n",
        "time_series_chart_cross_avg()\n",
        "algo_comparision_by_cross_avg()\n",
        "Fear_and_greed_charts()\n"
      ],
      "metadata": {
        "id": "rYpOhMJ3J1yJ",
        "colab": {
          "base_uri": "https://localhost:8080/",
          "height": 503
        },
        "outputId": "4b607d8d-27c1-46d9-8c33-a455687a2b61"
      },
      "execution_count": null,
      "outputs": [
        {
          "output_type": "error",
          "ename": "KeyError",
          "evalue": "ignored",
          "traceback": [
            "\u001b[0;31m---------------------------------------------------------------------------\u001b[0m",
            "\u001b[0;31mKeyError\u001b[0m                                  Traceback (most recent call last)",
            "\u001b[0;32m/usr/local/lib/python3.7/dist-packages/pandas/core/indexes/base.py\u001b[0m in \u001b[0;36mget_loc\u001b[0;34m(self, key, method, tolerance)\u001b[0m\n\u001b[1;32m   3360\u001b[0m             \u001b[0;32mtry\u001b[0m\u001b[0;34m:\u001b[0m\u001b[0;34m\u001b[0m\u001b[0;34m\u001b[0m\u001b[0m\n\u001b[0;32m-> 3361\u001b[0;31m                 \u001b[0;32mreturn\u001b[0m \u001b[0mself\u001b[0m\u001b[0;34m.\u001b[0m\u001b[0m_engine\u001b[0m\u001b[0;34m.\u001b[0m\u001b[0mget_loc\u001b[0m\u001b[0;34m(\u001b[0m\u001b[0mcasted_key\u001b[0m\u001b[0;34m)\u001b[0m\u001b[0;34m\u001b[0m\u001b[0;34m\u001b[0m\u001b[0m\n\u001b[0m\u001b[1;32m   3362\u001b[0m             \u001b[0;32mexcept\u001b[0m \u001b[0mKeyError\u001b[0m \u001b[0;32mas\u001b[0m \u001b[0merr\u001b[0m\u001b[0;34m:\u001b[0m\u001b[0;34m\u001b[0m\u001b[0;34m\u001b[0m\u001b[0m\n",
            "\u001b[0;32m/usr/local/lib/python3.7/dist-packages/pandas/_libs/index.pyx\u001b[0m in \u001b[0;36mpandas._libs.index.IndexEngine.get_loc\u001b[0;34m()\u001b[0m\n",
            "\u001b[0;32m/usr/local/lib/python3.7/dist-packages/pandas/_libs/index.pyx\u001b[0m in \u001b[0;36mpandas._libs.index.IndexEngine.get_loc\u001b[0;34m()\u001b[0m\n",
            "\u001b[0;32mpandas/_libs/hashtable_class_helper.pxi\u001b[0m in \u001b[0;36mpandas._libs.hashtable.PyObjectHashTable.get_item\u001b[0;34m()\u001b[0m\n",
            "\u001b[0;32mpandas/_libs/hashtable_class_helper.pxi\u001b[0m in \u001b[0;36mpandas._libs.hashtable.PyObjectHashTable.get_item\u001b[0;34m()\u001b[0m\n",
            "\u001b[0;31mKeyError\u001b[0m: 'Target_class_label'",
            "\nThe above exception was the direct cause of the following exception:\n",
            "\u001b[0;31mKeyError\u001b[0m                                  Traceback (most recent call last)",
            "\u001b[0;32m<ipython-input-19-a6e6704c4f82>\u001b[0m in \u001b[0;36m<module>\u001b[0;34m()\u001b[0m\n\u001b[0;32m----> 1\u001b[0;31m \u001b[0mget_target_split\u001b[0m\u001b[0;34m(\u001b[0m\u001b[0mdf_stock_data\u001b[0m\u001b[0;34m[\u001b[0m\u001b[0;34m'Target_class_label'\u001b[0m\u001b[0;34m]\u001b[0m\u001b[0;34m,\u001b[0m\u001b[0;36m15\u001b[0m\u001b[0;34m,\u001b[0m\u001b[0;36m5\u001b[0m\u001b[0;34m)\u001b[0m\u001b[0;34m\u001b[0m\u001b[0;34m\u001b[0m\u001b[0m\n\u001b[0m\u001b[1;32m      2\u001b[0m \u001b[0mtime_series_chart_cross_avg\u001b[0m\u001b[0;34m(\u001b[0m\u001b[0;34m)\u001b[0m\u001b[0;34m\u001b[0m\u001b[0;34m\u001b[0m\u001b[0m\n\u001b[1;32m      3\u001b[0m \u001b[0malgo_comparision_by_cross_avg\u001b[0m\u001b[0;34m(\u001b[0m\u001b[0;34m)\u001b[0m\u001b[0;34m\u001b[0m\u001b[0;34m\u001b[0m\u001b[0m\n\u001b[1;32m      4\u001b[0m \u001b[0mFear_and_greed_charts\u001b[0m\u001b[0;34m(\u001b[0m\u001b[0;34m)\u001b[0m\u001b[0;34m\u001b[0m\u001b[0;34m\u001b[0m\u001b[0m\n",
            "\u001b[0;32m/usr/local/lib/python3.7/dist-packages/pandas/core/frame.py\u001b[0m in \u001b[0;36m__getitem__\u001b[0;34m(self, key)\u001b[0m\n\u001b[1;32m   3456\u001b[0m             \u001b[0;32mif\u001b[0m \u001b[0mself\u001b[0m\u001b[0;34m.\u001b[0m\u001b[0mcolumns\u001b[0m\u001b[0;34m.\u001b[0m\u001b[0mnlevels\u001b[0m \u001b[0;34m>\u001b[0m \u001b[0;36m1\u001b[0m\u001b[0;34m:\u001b[0m\u001b[0;34m\u001b[0m\u001b[0;34m\u001b[0m\u001b[0m\n\u001b[1;32m   3457\u001b[0m                 \u001b[0;32mreturn\u001b[0m \u001b[0mself\u001b[0m\u001b[0;34m.\u001b[0m\u001b[0m_getitem_multilevel\u001b[0m\u001b[0;34m(\u001b[0m\u001b[0mkey\u001b[0m\u001b[0;34m)\u001b[0m\u001b[0;34m\u001b[0m\u001b[0;34m\u001b[0m\u001b[0m\n\u001b[0;32m-> 3458\u001b[0;31m             \u001b[0mindexer\u001b[0m \u001b[0;34m=\u001b[0m \u001b[0mself\u001b[0m\u001b[0;34m.\u001b[0m\u001b[0mcolumns\u001b[0m\u001b[0;34m.\u001b[0m\u001b[0mget_loc\u001b[0m\u001b[0;34m(\u001b[0m\u001b[0mkey\u001b[0m\u001b[0;34m)\u001b[0m\u001b[0;34m\u001b[0m\u001b[0;34m\u001b[0m\u001b[0m\n\u001b[0m\u001b[1;32m   3459\u001b[0m             \u001b[0;32mif\u001b[0m \u001b[0mis_integer\u001b[0m\u001b[0;34m(\u001b[0m\u001b[0mindexer\u001b[0m\u001b[0;34m)\u001b[0m\u001b[0;34m:\u001b[0m\u001b[0;34m\u001b[0m\u001b[0;34m\u001b[0m\u001b[0m\n\u001b[1;32m   3460\u001b[0m                 \u001b[0mindexer\u001b[0m \u001b[0;34m=\u001b[0m \u001b[0;34m[\u001b[0m\u001b[0mindexer\u001b[0m\u001b[0;34m]\u001b[0m\u001b[0;34m\u001b[0m\u001b[0;34m\u001b[0m\u001b[0m\n",
            "\u001b[0;32m/usr/local/lib/python3.7/dist-packages/pandas/core/indexes/base.py\u001b[0m in \u001b[0;36mget_loc\u001b[0;34m(self, key, method, tolerance)\u001b[0m\n\u001b[1;32m   3361\u001b[0m                 \u001b[0;32mreturn\u001b[0m \u001b[0mself\u001b[0m\u001b[0;34m.\u001b[0m\u001b[0m_engine\u001b[0m\u001b[0;34m.\u001b[0m\u001b[0mget_loc\u001b[0m\u001b[0;34m(\u001b[0m\u001b[0mcasted_key\u001b[0m\u001b[0;34m)\u001b[0m\u001b[0;34m\u001b[0m\u001b[0;34m\u001b[0m\u001b[0m\n\u001b[1;32m   3362\u001b[0m             \u001b[0;32mexcept\u001b[0m \u001b[0mKeyError\u001b[0m \u001b[0;32mas\u001b[0m \u001b[0merr\u001b[0m\u001b[0;34m:\u001b[0m\u001b[0;34m\u001b[0m\u001b[0;34m\u001b[0m\u001b[0m\n\u001b[0;32m-> 3363\u001b[0;31m                 \u001b[0;32mraise\u001b[0m \u001b[0mKeyError\u001b[0m\u001b[0;34m(\u001b[0m\u001b[0mkey\u001b[0m\u001b[0;34m)\u001b[0m \u001b[0;32mfrom\u001b[0m \u001b[0merr\u001b[0m\u001b[0;34m\u001b[0m\u001b[0;34m\u001b[0m\u001b[0m\n\u001b[0m\u001b[1;32m   3364\u001b[0m \u001b[0;34m\u001b[0m\u001b[0m\n\u001b[1;32m   3365\u001b[0m         \u001b[0;32mif\u001b[0m \u001b[0mis_scalar\u001b[0m\u001b[0;34m(\u001b[0m\u001b[0mkey\u001b[0m\u001b[0;34m)\u001b[0m \u001b[0;32mand\u001b[0m \u001b[0misna\u001b[0m\u001b[0;34m(\u001b[0m\u001b[0mkey\u001b[0m\u001b[0;34m)\u001b[0m \u001b[0;32mand\u001b[0m \u001b[0;32mnot\u001b[0m \u001b[0mself\u001b[0m\u001b[0;34m.\u001b[0m\u001b[0mhasnans\u001b[0m\u001b[0;34m:\u001b[0m\u001b[0;34m\u001b[0m\u001b[0;34m\u001b[0m\u001b[0m\n",
            "\u001b[0;31mKeyError\u001b[0m: 'Target_class_label'"
          ]
        }
      ]
    },
    {
      "cell_type": "markdown",
      "source": [
        "##------------------Clustering---------------------\n"
      ],
      "metadata": {
        "id": "t-AZaEpvf_pt"
      }
    },
    {
      "cell_type": "markdown",
      "source": [
        "##Set Feature Clustering"
      ],
      "metadata": {
        "id": "xbfDNGkkLN_u"
      }
    },
    {
      "cell_type": "code",
      "source": [
        "clustering_data = df[['Market Cap', 'Volume']]"
      ],
      "metadata": {
        "id": "PFCx7IW_f6Uo"
      },
      "execution_count": null,
      "outputs": []
    },
    {
      "cell_type": "markdown",
      "source": [
        "## Normalization - all stocks toghther"
      ],
      "metadata": {
        "id": "Qne_IsyXLfQg"
      }
    },
    {
      "cell_type": "code",
      "source": [
        "scaler = StandardScaler()\n",
        "clustering_data_norm = scaler.fit_transform(clustering_data)\n",
        "clustering_data_norm = pd.DataFrame(clustering_data_norm, columns=clustering_data.columns)\n"
      ],
      "metadata": {
        "id": "Ms1GLj-1LdzM"
      },
      "execution_count": null,
      "outputs": []
    },
    {
      "cell_type": "markdown",
      "source": [
        "##Run model + predict"
      ],
      "metadata": {
        "id": "4epIA2GaLsdD"
      }
    },
    {
      "cell_type": "code",
      "source": [
        "kmeans = cluster.KMeans(n_clusters=3)\n",
        "X_cluster = kmeans.fit_predict(clustering_data_norm)\n",
        "\n",
        "# get centroids\n",
        "pd.options.display.float_format = '{:,.0f}'.format\n",
        "centroids = kmeans.cluster_centers_\n",
        "pd.DataFrame(centroids, columns = ['Mkt - center', 'vol - center'])"
      ],
      "metadata": {
        "id": "e49DHxz3nLCE",
        "colab": {
          "base_uri": "https://localhost:8080/",
          "height": 143
        },
        "outputId": "1648b74d-1770-4fbb-fac6-12f85271bb58"
      },
      "execution_count": null,
      "outputs": [
        {
          "output_type": "execute_result",
          "data": {
            "text/html": [
              "\n",
              "  <div id=\"df-e8153ab2-8bb6-4a77-8bc3-384f0f9f8339\">\n",
              "    <div class=\"colab-df-container\">\n",
              "      <div>\n",
              "<style scoped>\n",
              "    .dataframe tbody tr th:only-of-type {\n",
              "        vertical-align: middle;\n",
              "    }\n",
              "\n",
              "    .dataframe tbody tr th {\n",
              "        vertical-align: top;\n",
              "    }\n",
              "\n",
              "    .dataframe thead th {\n",
              "        text-align: right;\n",
              "    }\n",
              "</style>\n",
              "<table border=\"1\" class=\"dataframe\">\n",
              "  <thead>\n",
              "    <tr style=\"text-align: right;\">\n",
              "      <th></th>\n",
              "      <th>Mkt - center</th>\n",
              "      <th>vol - center</th>\n",
              "    </tr>\n",
              "  </thead>\n",
              "  <tbody>\n",
              "    <tr>\n",
              "      <th>0</th>\n",
              "      <td>-0</td>\n",
              "      <td>-0</td>\n",
              "    </tr>\n",
              "    <tr>\n",
              "      <th>1</th>\n",
              "      <td>3</td>\n",
              "      <td>1</td>\n",
              "    </tr>\n",
              "    <tr>\n",
              "      <th>2</th>\n",
              "      <td>0</td>\n",
              "      <td>3</td>\n",
              "    </tr>\n",
              "  </tbody>\n",
              "</table>\n",
              "</div>\n",
              "      <button class=\"colab-df-convert\" onclick=\"convertToInteractive('df-e8153ab2-8bb6-4a77-8bc3-384f0f9f8339')\"\n",
              "              title=\"Convert this dataframe to an interactive table.\"\n",
              "              style=\"display:none;\">\n",
              "        \n",
              "  <svg xmlns=\"http://www.w3.org/2000/svg\" height=\"24px\"viewBox=\"0 0 24 24\"\n",
              "       width=\"24px\">\n",
              "    <path d=\"M0 0h24v24H0V0z\" fill=\"none\"/>\n",
              "    <path d=\"M18.56 5.44l.94 2.06.94-2.06 2.06-.94-2.06-.94-.94-2.06-.94 2.06-2.06.94zm-11 1L8.5 8.5l.94-2.06 2.06-.94-2.06-.94L8.5 2.5l-.94 2.06-2.06.94zm10 10l.94 2.06.94-2.06 2.06-.94-2.06-.94-.94-2.06-.94 2.06-2.06.94z\"/><path d=\"M17.41 7.96l-1.37-1.37c-.4-.4-.92-.59-1.43-.59-.52 0-1.04.2-1.43.59L10.3 9.45l-7.72 7.72c-.78.78-.78 2.05 0 2.83L4 21.41c.39.39.9.59 1.41.59.51 0 1.02-.2 1.41-.59l7.78-7.78 2.81-2.81c.8-.78.8-2.07 0-2.86zM5.41 20L4 18.59l7.72-7.72 1.47 1.35L5.41 20z\"/>\n",
              "  </svg>\n",
              "      </button>\n",
              "      \n",
              "  <style>\n",
              "    .colab-df-container {\n",
              "      display:flex;\n",
              "      flex-wrap:wrap;\n",
              "      gap: 12px;\n",
              "    }\n",
              "\n",
              "    .colab-df-convert {\n",
              "      background-color: #E8F0FE;\n",
              "      border: none;\n",
              "      border-radius: 50%;\n",
              "      cursor: pointer;\n",
              "      display: none;\n",
              "      fill: #1967D2;\n",
              "      height: 32px;\n",
              "      padding: 0 0 0 0;\n",
              "      width: 32px;\n",
              "    }\n",
              "\n",
              "    .colab-df-convert:hover {\n",
              "      background-color: #E2EBFA;\n",
              "      box-shadow: 0px 1px 2px rgba(60, 64, 67, 0.3), 0px 1px 3px 1px rgba(60, 64, 67, 0.15);\n",
              "      fill: #174EA6;\n",
              "    }\n",
              "\n",
              "    [theme=dark] .colab-df-convert {\n",
              "      background-color: #3B4455;\n",
              "      fill: #D2E3FC;\n",
              "    }\n",
              "\n",
              "    [theme=dark] .colab-df-convert:hover {\n",
              "      background-color: #434B5C;\n",
              "      box-shadow: 0px 1px 3px 1px rgba(0, 0, 0, 0.15);\n",
              "      filter: drop-shadow(0px 1px 2px rgba(0, 0, 0, 0.3));\n",
              "      fill: #FFFFFF;\n",
              "    }\n",
              "  </style>\n",
              "\n",
              "      <script>\n",
              "        const buttonEl =\n",
              "          document.querySelector('#df-e8153ab2-8bb6-4a77-8bc3-384f0f9f8339 button.colab-df-convert');\n",
              "        buttonEl.style.display =\n",
              "          google.colab.kernel.accessAllowed ? 'block' : 'none';\n",
              "\n",
              "        async function convertToInteractive(key) {\n",
              "          const element = document.querySelector('#df-e8153ab2-8bb6-4a77-8bc3-384f0f9f8339');\n",
              "          const dataTable =\n",
              "            await google.colab.kernel.invokeFunction('convertToInteractive',\n",
              "                                                     [key], {});\n",
              "          if (!dataTable) return;\n",
              "\n",
              "          const docLinkHtml = 'Like what you see? Visit the ' +\n",
              "            '<a target=\"_blank\" href=https://colab.research.google.com/notebooks/data_table.ipynb>data table notebook</a>'\n",
              "            + ' to learn more about interactive tables.';\n",
              "          element.innerHTML = '';\n",
              "          dataTable['output_type'] = 'display_data';\n",
              "          await google.colab.output.renderOutput(dataTable, element);\n",
              "          const docLink = document.createElement('div');\n",
              "          docLink.innerHTML = docLinkHtml;\n",
              "          element.appendChild(docLink);\n",
              "        }\n",
              "      </script>\n",
              "    </div>\n",
              "  </div>\n",
              "  "
            ],
            "text/plain": [
              "   Mkt - center  vol - center\n",
              "0            -0            -0\n",
              "1             3             1\n",
              "2             0             3"
            ]
          },
          "metadata": {},
          "execution_count": 46
        }
      ]
    },
    {
      "cell_type": "code",
      "source": [
        "df['cluster']=X_cluster\n",
        "df.sort_values(by=['cluster'], ascending = True)"
      ],
      "metadata": {
        "id": "6B4Ik6dEmevX",
        "colab": {
          "base_uri": "https://localhost:8080/",
          "height": 457
        },
        "outputId": "a422b12d-f6a6-4e49-a9b1-7aa9f4f355e3"
      },
      "execution_count": null,
      "outputs": [
        {
          "output_type": "execute_result",
          "data": {
            "text/html": [
              "\n",
              "  <div id=\"df-a1ce8f06-5083-4ac0-ae75-17a4def76163\">\n",
              "    <div class=\"colab-df-container\">\n",
              "      <div>\n",
              "<style scoped>\n",
              "    .dataframe tbody tr th:only-of-type {\n",
              "        vertical-align: middle;\n",
              "    }\n",
              "\n",
              "    .dataframe tbody tr th {\n",
              "        vertical-align: top;\n",
              "    }\n",
              "\n",
              "    .dataframe thead th {\n",
              "        text-align: right;\n",
              "    }\n",
              "</style>\n",
              "<table border=\"1\" class=\"dataframe\">\n",
              "  <thead>\n",
              "    <tr style=\"text-align: right;\">\n",
              "      <th></th>\n",
              "      <th>Ticker</th>\n",
              "      <th>Company</th>\n",
              "      <th>Sector</th>\n",
              "      <th>Industry</th>\n",
              "      <th>Country</th>\n",
              "      <th>Market Cap</th>\n",
              "      <th>P/E</th>\n",
              "      <th>Price</th>\n",
              "      <th>Change</th>\n",
              "      <th>Volume</th>\n",
              "      <th>cluster</th>\n",
              "    </tr>\n",
              "  </thead>\n",
              "  <tbody>\n",
              "    <tr>\n",
              "      <th>3</th>\n",
              "      <td>INTC</td>\n",
              "      <td>Intel Corporation</td>\n",
              "      <td>Technology</td>\n",
              "      <td>Semiconductors</td>\n",
              "      <td>USA</td>\n",
              "      <td>196,570,000,000</td>\n",
              "      <td>10</td>\n",
              "      <td>48</td>\n",
              "      <td>-0</td>\n",
              "      <td>31,954,248</td>\n",
              "      <td>0</td>\n",
              "    </tr>\n",
              "    <tr>\n",
              "      <th>8</th>\n",
              "      <td>QCOM</td>\n",
              "      <td>QUALCOMM Incorporated</td>\n",
              "      <td>Technology</td>\n",
              "      <td>Semiconductors</td>\n",
              "      <td>USA</td>\n",
              "      <td>195,130,000,000</td>\n",
              "      <td>23</td>\n",
              "      <td>179</td>\n",
              "      <td>0</td>\n",
              "      <td>15,616,895</td>\n",
              "      <td>0</td>\n",
              "    </tr>\n",
              "    <tr>\n",
              "      <th>5</th>\n",
              "      <td>MU</td>\n",
              "      <td>Micron Technology, Inc.</td>\n",
              "      <td>Technology</td>\n",
              "      <td>Semiconductors</td>\n",
              "      <td>USA</td>\n",
              "      <td>90,260,000,000</td>\n",
              "      <td>13</td>\n",
              "      <td>81</td>\n",
              "      <td>-0</td>\n",
              "      <td>15,274,649</td>\n",
              "      <td>0</td>\n",
              "    </tr>\n",
              "    <tr>\n",
              "      <th>11</th>\n",
              "      <td>TXN</td>\n",
              "      <td>Texas Instruments Incorporated</td>\n",
              "      <td>Technology</td>\n",
              "      <td>Semiconductors</td>\n",
              "      <td>USA</td>\n",
              "      <td>156,100,000,000</td>\n",
              "      <td>21</td>\n",
              "      <td>171</td>\n",
              "      <td>-0</td>\n",
              "      <td>11,231,235</td>\n",
              "      <td>0</td>\n",
              "    </tr>\n",
              "    <tr>\n",
              "      <th>4</th>\n",
              "      <td>MCHP</td>\n",
              "      <td>Microchip Technology Incorporated</td>\n",
              "      <td>Technology</td>\n",
              "      <td>Semiconductors</td>\n",
              "      <td>USA</td>\n",
              "      <td>39,940,000,000</td>\n",
              "      <td>54</td>\n",
              "      <td>73</td>\n",
              "      <td>-0</td>\n",
              "      <td>7,279,797</td>\n",
              "      <td>0</td>\n",
              "    </tr>\n",
              "    <tr>\n",
              "      <th>0</th>\n",
              "      <td>ADI</td>\n",
              "      <td>Analog Devices, Inc.</td>\n",
              "      <td>Technology</td>\n",
              "      <td>Semiconductors</td>\n",
              "      <td>USA</td>\n",
              "      <td>82,510,000,000</td>\n",
              "      <td>44</td>\n",
              "      <td>161</td>\n",
              "      <td>-0</td>\n",
              "      <td>5,093,589</td>\n",
              "      <td>0</td>\n",
              "    </tr>\n",
              "    <tr>\n",
              "      <th>10</th>\n",
              "      <td>SWKS</td>\n",
              "      <td>Skyworks Solutions, Inc.</td>\n",
              "      <td>Technology</td>\n",
              "      <td>Semiconductors</td>\n",
              "      <td>USA</td>\n",
              "      <td>21,930,000,000</td>\n",
              "      <td>15</td>\n",
              "      <td>135</td>\n",
              "      <td>-0</td>\n",
              "      <td>4,182,450</td>\n",
              "      <td>0</td>\n",
              "    </tr>\n",
              "    <tr>\n",
              "      <th>7</th>\n",
              "      <td>NXPI</td>\n",
              "      <td>NXP Semiconductors N.V.</td>\n",
              "      <td>Technology</td>\n",
              "      <td>Semiconductors</td>\n",
              "      <td>Netherlands</td>\n",
              "      <td>52,270,000,000</td>\n",
              "      <td>35</td>\n",
              "      <td>198</td>\n",
              "      <td>-0</td>\n",
              "      <td>3,145,314</td>\n",
              "      <td>0</td>\n",
              "    </tr>\n",
              "    <tr>\n",
              "      <th>12</th>\n",
              "      <td>XLNX</td>\n",
              "      <td>Xilinx, Inc.</td>\n",
              "      <td>Technology</td>\n",
              "      <td>Semiconductors</td>\n",
              "      <td>USA</td>\n",
              "      <td>50,490,000,000</td>\n",
              "      <td>56</td>\n",
              "      <td>209</td>\n",
              "      <td>0</td>\n",
              "      <td>3,090,250</td>\n",
              "      <td>0</td>\n",
              "    </tr>\n",
              "    <tr>\n",
              "      <th>9</th>\n",
              "      <td>QRVO</td>\n",
              "      <td>Qorvo, Inc.</td>\n",
              "      <td>Technology</td>\n",
              "      <td>Semiconductors</td>\n",
              "      <td>USA</td>\n",
              "      <td>14,290,000,000</td>\n",
              "      <td>14</td>\n",
              "      <td>131</td>\n",
              "      <td>0</td>\n",
              "      <td>1,998,874</td>\n",
              "      <td>0</td>\n",
              "    </tr>\n",
              "    <tr>\n",
              "      <th>2</th>\n",
              "      <td>AVGO</td>\n",
              "      <td>Broadcom Inc.</td>\n",
              "      <td>Technology</td>\n",
              "      <td>Semiconductors</td>\n",
              "      <td>USA</td>\n",
              "      <td>235,920,000,000</td>\n",
              "      <td>39</td>\n",
              "      <td>590</td>\n",
              "      <td>0</td>\n",
              "      <td>1,994,488</td>\n",
              "      <td>0</td>\n",
              "    </tr>\n",
              "    <tr>\n",
              "      <th>6</th>\n",
              "      <td>NVDA</td>\n",
              "      <td>NVIDIA Corporation</td>\n",
              "      <td>Technology</td>\n",
              "      <td>Semiconductors</td>\n",
              "      <td>USA</td>\n",
              "      <td>584,130,000,000</td>\n",
              "      <td>75</td>\n",
              "      <td>243</td>\n",
              "      <td>0</td>\n",
              "      <td>34,863,723</td>\n",
              "      <td>1</td>\n",
              "    </tr>\n",
              "    <tr>\n",
              "      <th>1</th>\n",
              "      <td>AMD</td>\n",
              "      <td>Advanced Micro Devices, Inc.</td>\n",
              "      <td>Technology</td>\n",
              "      <td>Semiconductors</td>\n",
              "      <td>USA</td>\n",
              "      <td>145,520,000,000</td>\n",
              "      <td>38</td>\n",
              "      <td>124</td>\n",
              "      <td>0</td>\n",
              "      <td>86,013,151</td>\n",
              "      <td>2</td>\n",
              "    </tr>\n",
              "  </tbody>\n",
              "</table>\n",
              "</div>\n",
              "      <button class=\"colab-df-convert\" onclick=\"convertToInteractive('df-a1ce8f06-5083-4ac0-ae75-17a4def76163')\"\n",
              "              title=\"Convert this dataframe to an interactive table.\"\n",
              "              style=\"display:none;\">\n",
              "        \n",
              "  <svg xmlns=\"http://www.w3.org/2000/svg\" height=\"24px\"viewBox=\"0 0 24 24\"\n",
              "       width=\"24px\">\n",
              "    <path d=\"M0 0h24v24H0V0z\" fill=\"none\"/>\n",
              "    <path d=\"M18.56 5.44l.94 2.06.94-2.06 2.06-.94-2.06-.94-.94-2.06-.94 2.06-2.06.94zm-11 1L8.5 8.5l.94-2.06 2.06-.94-2.06-.94L8.5 2.5l-.94 2.06-2.06.94zm10 10l.94 2.06.94-2.06 2.06-.94-2.06-.94-.94-2.06-.94 2.06-2.06.94z\"/><path d=\"M17.41 7.96l-1.37-1.37c-.4-.4-.92-.59-1.43-.59-.52 0-1.04.2-1.43.59L10.3 9.45l-7.72 7.72c-.78.78-.78 2.05 0 2.83L4 21.41c.39.39.9.59 1.41.59.51 0 1.02-.2 1.41-.59l7.78-7.78 2.81-2.81c.8-.78.8-2.07 0-2.86zM5.41 20L4 18.59l7.72-7.72 1.47 1.35L5.41 20z\"/>\n",
              "  </svg>\n",
              "      </button>\n",
              "      \n",
              "  <style>\n",
              "    .colab-df-container {\n",
              "      display:flex;\n",
              "      flex-wrap:wrap;\n",
              "      gap: 12px;\n",
              "    }\n",
              "\n",
              "    .colab-df-convert {\n",
              "      background-color: #E8F0FE;\n",
              "      border: none;\n",
              "      border-radius: 50%;\n",
              "      cursor: pointer;\n",
              "      display: none;\n",
              "      fill: #1967D2;\n",
              "      height: 32px;\n",
              "      padding: 0 0 0 0;\n",
              "      width: 32px;\n",
              "    }\n",
              "\n",
              "    .colab-df-convert:hover {\n",
              "      background-color: #E2EBFA;\n",
              "      box-shadow: 0px 1px 2px rgba(60, 64, 67, 0.3), 0px 1px 3px 1px rgba(60, 64, 67, 0.15);\n",
              "      fill: #174EA6;\n",
              "    }\n",
              "\n",
              "    [theme=dark] .colab-df-convert {\n",
              "      background-color: #3B4455;\n",
              "      fill: #D2E3FC;\n",
              "    }\n",
              "\n",
              "    [theme=dark] .colab-df-convert:hover {\n",
              "      background-color: #434B5C;\n",
              "      box-shadow: 0px 1px 3px 1px rgba(0, 0, 0, 0.15);\n",
              "      filter: drop-shadow(0px 1px 2px rgba(0, 0, 0, 0.3));\n",
              "      fill: #FFFFFF;\n",
              "    }\n",
              "  </style>\n",
              "\n",
              "      <script>\n",
              "        const buttonEl =\n",
              "          document.querySelector('#df-a1ce8f06-5083-4ac0-ae75-17a4def76163 button.colab-df-convert');\n",
              "        buttonEl.style.display =\n",
              "          google.colab.kernel.accessAllowed ? 'block' : 'none';\n",
              "\n",
              "        async function convertToInteractive(key) {\n",
              "          const element = document.querySelector('#df-a1ce8f06-5083-4ac0-ae75-17a4def76163');\n",
              "          const dataTable =\n",
              "            await google.colab.kernel.invokeFunction('convertToInteractive',\n",
              "                                                     [key], {});\n",
              "          if (!dataTable) return;\n",
              "\n",
              "          const docLinkHtml = 'Like what you see? Visit the ' +\n",
              "            '<a target=\"_blank\" href=https://colab.research.google.com/notebooks/data_table.ipynb>data table notebook</a>'\n",
              "            + ' to learn more about interactive tables.';\n",
              "          element.innerHTML = '';\n",
              "          dataTable['output_type'] = 'display_data';\n",
              "          await google.colab.output.renderOutput(dataTable, element);\n",
              "          const docLink = document.createElement('div');\n",
              "          docLink.innerHTML = docLinkHtml;\n",
              "          element.appendChild(docLink);\n",
              "        }\n",
              "      </script>\n",
              "    </div>\n",
              "  </div>\n",
              "  "
            ],
            "text/plain": [
              "   Ticker                            Company      Sector        Industry  \\\n",
              "3    INTC                  Intel Corporation  Technology  Semiconductors   \n",
              "8    QCOM              QUALCOMM Incorporated  Technology  Semiconductors   \n",
              "5      MU            Micron Technology, Inc.  Technology  Semiconductors   \n",
              "11    TXN     Texas Instruments Incorporated  Technology  Semiconductors   \n",
              "4    MCHP  Microchip Technology Incorporated  Technology  Semiconductors   \n",
              "0     ADI               Analog Devices, Inc.  Technology  Semiconductors   \n",
              "10   SWKS           Skyworks Solutions, Inc.  Technology  Semiconductors   \n",
              "7    NXPI            NXP Semiconductors N.V.  Technology  Semiconductors   \n",
              "12   XLNX                       Xilinx, Inc.  Technology  Semiconductors   \n",
              "9    QRVO                        Qorvo, Inc.  Technology  Semiconductors   \n",
              "2    AVGO                      Broadcom Inc.  Technology  Semiconductors   \n",
              "6    NVDA                 NVIDIA Corporation  Technology  Semiconductors   \n",
              "1     AMD       Advanced Micro Devices, Inc.  Technology  Semiconductors   \n",
              "\n",
              "        Country      Market Cap  P/E  Price  Change     Volume  cluster  \n",
              "3           USA 196,570,000,000   10     48      -0 31,954,248        0  \n",
              "8           USA 195,130,000,000   23    179       0 15,616,895        0  \n",
              "5           USA  90,260,000,000   13     81      -0 15,274,649        0  \n",
              "11          USA 156,100,000,000   21    171      -0 11,231,235        0  \n",
              "4           USA  39,940,000,000   54     73      -0  7,279,797        0  \n",
              "0           USA  82,510,000,000   44    161      -0  5,093,589        0  \n",
              "10          USA  21,930,000,000   15    135      -0  4,182,450        0  \n",
              "7   Netherlands  52,270,000,000   35    198      -0  3,145,314        0  \n",
              "12          USA  50,490,000,000   56    209       0  3,090,250        0  \n",
              "9           USA  14,290,000,000   14    131       0  1,998,874        0  \n",
              "2           USA 235,920,000,000   39    590       0  1,994,488        0  \n",
              "6           USA 584,130,000,000   75    243       0 34,863,723        1  \n",
              "1           USA 145,520,000,000   38    124       0 86,013,151        2  "
            ]
          },
          "metadata": {},
          "execution_count": 47
        }
      ]
    },
    {
      "cell_type": "code",
      "source": [
        "df['cluster'].value_counts()"
      ],
      "metadata": {
        "id": "qH6DVBu8oD99",
        "colab": {
          "base_uri": "https://localhost:8080/"
        },
        "outputId": "13818dd8-56d4-4bcf-ed05-0255f1c40e40"
      },
      "execution_count": null,
      "outputs": [
        {
          "output_type": "execute_result",
          "data": {
            "text/plain": [
              "0    11\n",
              "2     1\n",
              "1     1\n",
              "Name: cluster, dtype: int64"
            ]
          },
          "metadata": {},
          "execution_count": 48
        }
      ]
    },
    {
      "cell_type": "markdown",
      "source": [
        "## Find best Cluster"
      ],
      "metadata": {
        "id": "eyIWk20Vos3G"
      }
    },
    {
      "cell_type": "code",
      "source": [
        "k_list = []\n",
        "for i in range(1,11):\n",
        "  kmeans=cluster.KMeans(n_clusters=i)\n",
        "  kmeans.fit(clustering_data)\n",
        "\n",
        "  # inertia - sum of squared distances of samples to their closest\n",
        "  k_list.append(kmeans.inertia_)"
      ],
      "metadata": {
        "id": "ib9nm6bAosW7"
      },
      "execution_count": null,
      "outputs": []
    },
    {
      "cell_type": "markdown",
      "source": [
        "## Elbow method - Chart"
      ],
      "metadata": {
        "id": "VaDawF2xoKL3"
      }
    },
    {
      "cell_type": "code",
      "source": [
        "plt.figure(figsize=(10,5))\n",
        "sns.lineplot(range(1,11), k_list, marker='o', color='b')\n",
        "plt.xlabel('Number of clusters')\n",
        "plt.ylabel('Wcss')\n",
        "plt.title('Elbow method - Chart')"
      ],
      "metadata": {
        "id": "OVmjWZ10oRRV",
        "colab": {
          "base_uri": "https://localhost:8080/",
          "height": 401
        },
        "outputId": "d0736267-5d7f-4742-8c7b-9ce7ca177eaf"
      },
      "execution_count": null,
      "outputs": [
        {
          "output_type": "execute_result",
          "data": {
            "text/plain": [
              "Text(0.5, 1.0, 'Elbow method - Chart')"
            ]
          },
          "metadata": {},
          "execution_count": 50
        },
        {
          "output_type": "display_data",
          "data": {
            "image/png": "[encoded data removed]",
            "text/plain": [
              "<Figure size 720x360 with 1 Axes>"
            ]
          },
          "metadata": {}
        }
      ]
    },
    {
      "cell_type": "markdown",
      "source": [
        "##--------------Deep Learning---------------"
      ],
      "metadata": {
        "id": "SeBQqiO1Bm7I"
      }
    },
    {
      "cell_type": "code",
      "source": [
        "import pandas as pd\n",
        "import numpy as np\n",
        "import tensorflow\n",
        "from tensorflow import keras\n",
        "from keras.layers import *\n",
        "from keras import layers, Sequential\n",
        "import matplotlib.pyplot as plt\n",
        "plt.style.use('fivethirtyeight')\n",
        "plt.rcParams[\"figure.figsize\"] = (16, 4)\n",
        "from sklearn.preprocessing import MinMaxScaler, StandardScaler\n",
        "from sklearn.metrics import mean_absolute_error\n",
        "import seaborn as sn"
      ],
      "metadata": {
        "id": "j5LoGBEaDSBA"
      },
      "execution_count": null,
      "outputs": []
    },
    {
      "cell_type": "markdown",
      "source": [
        "##Data Definiton"
      ],
      "metadata": {
        "id": "6SGd2Uq0Sle0"
      }
    },
    {
      "cell_type": "code",
      "source": [
        "\n",
        "company = 'AMD'\n",
        "predict_field = 'Close'\n",
        "features = ['Open', 'High', 'Low', 'Close', 'Adj Close', 'Volume',\n",
        "       'SMA_9', 'SMA_21', 'SMA_9_21_diff', 'SIGNAL_9_21', 'SMA_50', 'SMA_100',\n",
        "       'SMA_150', 'SMA_200', 'SIGNAL_21_50', 'SIGNAL_50_100', 'SIGNAL_100_200',\n",
        "       'RSI']\n",
        "sequence_length = 5\n",
        "train_data_from = '2016'\n",
        "train_data_to = '2020'\n",
        "test_data_from = '2021'\n",
        "\n",
        "df_stock_data = run_data([company])"
      ],
      "metadata": {
        "colab": {
          "base_uri": "https://localhost:8080/"
        },
        "id": "RhGqjlghSqYc",
        "outputId": "e1a1757f-63b2-45fc-a6f6-3efcb907b44c"
      },
      "execution_count": null,
      "outputs": [
        {
          "output_type": "stream",
          "name": "stdout",
          "text": [
            "\r[*********************100%***********************]  1 of 1 completed\n",
            "Ticker: AMD\n",
            "cnt rows before na and dup:3045\n",
            "cnt rows after na and dup:2846\n"
          ]
        }
      ]
    },
    {
      "cell_type": "code",
      "source": [
        "df_stock_data"
      ],
      "metadata": {
        "colab": {
          "base_uri": "https://localhost:8080/",
          "height": 505
        },
        "id": "2NQmC_cSZOns",
        "outputId": "17284922-f1d3-4dea-c428-d30e9cbbd753"
      },
      "execution_count": null,
      "outputs": [
        {
          "output_type": "execute_result",
          "data": {
            "text/html": [
              "\n",
              "  <div id=\"df-679409e5-0d91-4fcf-bc42-928712c0ebb4\">\n",
              "    <div class=\"colab-df-container\">\n",
              "      <div>\n",
              "<style scoped>\n",
              "    .dataframe tbody tr th:only-of-type {\n",
              "        vertical-align: middle;\n",
              "    }\n",
              "\n",
              "    .dataframe tbody tr th {\n",
              "        vertical-align: top;\n",
              "    }\n",
              "\n",
              "    .dataframe thead th {\n",
              "        text-align: right;\n",
              "    }\n",
              "</style>\n",
              "<table border=\"1\" class=\"dataframe\">\n",
              "  <thead>\n",
              "    <tr style=\"text-align: right;\">\n",
              "      <th></th>\n",
              "      <th>Date</th>\n",
              "      <th>Ticker</th>\n",
              "      <th>Open</th>\n",
              "      <th>High</th>\n",
              "      <th>Low</th>\n",
              "      <th>Close</th>\n",
              "      <th>Adj Close</th>\n",
              "      <th>Volume</th>\n",
              "      <th>SMA_9</th>\n",
              "      <th>SMA_21</th>\n",
              "      <th>SMA_9_21_diff</th>\n",
              "      <th>SIGNAL_9_21</th>\n",
              "      <th>SMA_50</th>\n",
              "      <th>SMA_100</th>\n",
              "      <th>SMA_150</th>\n",
              "      <th>SMA_200</th>\n",
              "      <th>SIGNAL_21_50</th>\n",
              "      <th>SIGNAL_50_100</th>\n",
              "      <th>SIGNAL_100_200</th>\n",
              "      <th>RSI</th>\n",
              "    </tr>\n",
              "  </thead>\n",
              "  <tbody>\n",
              "    <tr>\n",
              "      <th>0</th>\n",
              "      <td>2010-10-18</td>\n",
              "      <td>AMD</td>\n",
              "      <td>7</td>\n",
              "      <td>7</td>\n",
              "      <td>7</td>\n",
              "      <td>7</td>\n",
              "      <td>7</td>\n",
              "      <td>26657500</td>\n",
              "      <td>7</td>\n",
              "      <td>7</td>\n",
              "      <td>0</td>\n",
              "      <td>1</td>\n",
              "      <td>6</td>\n",
              "      <td>7</td>\n",
              "      <td>8</td>\n",
              "      <td>8</td>\n",
              "      <td>1</td>\n",
              "      <td>0</td>\n",
              "      <td>0</td>\n",
              "      <td>54</td>\n",
              "    </tr>\n",
              "    <tr>\n",
              "      <th>1</th>\n",
              "      <td>2010-10-19</td>\n",
              "      <td>AMD</td>\n",
              "      <td>7</td>\n",
              "      <td>7</td>\n",
              "      <td>7</td>\n",
              "      <td>7</td>\n",
              "      <td>7</td>\n",
              "      <td>39344200</td>\n",
              "      <td>7</td>\n",
              "      <td>7</td>\n",
              "      <td>0</td>\n",
              "      <td>1</td>\n",
              "      <td>6</td>\n",
              "      <td>7</td>\n",
              "      <td>8</td>\n",
              "      <td>8</td>\n",
              "      <td>1</td>\n",
              "      <td>0</td>\n",
              "      <td>0</td>\n",
              "      <td>53</td>\n",
              "    </tr>\n",
              "    <tr>\n",
              "      <th>2</th>\n",
              "      <td>2010-10-20</td>\n",
              "      <td>AMD</td>\n",
              "      <td>7</td>\n",
              "      <td>7</td>\n",
              "      <td>7</td>\n",
              "      <td>7</td>\n",
              "      <td>7</td>\n",
              "      <td>45596700</td>\n",
              "      <td>7</td>\n",
              "      <td>7</td>\n",
              "      <td>0</td>\n",
              "      <td>1</td>\n",
              "      <td>6</td>\n",
              "      <td>7</td>\n",
              "      <td>8</td>\n",
              "      <td>8</td>\n",
              "      <td>1</td>\n",
              "      <td>0</td>\n",
              "      <td>0</td>\n",
              "      <td>49</td>\n",
              "    </tr>\n",
              "    <tr>\n",
              "      <th>3</th>\n",
              "      <td>2010-10-21</td>\n",
              "      <td>AMD</td>\n",
              "      <td>7</td>\n",
              "      <td>7</td>\n",
              "      <td>7</td>\n",
              "      <td>7</td>\n",
              "      <td>7</td>\n",
              "      <td>23156100</td>\n",
              "      <td>7</td>\n",
              "      <td>7</td>\n",
              "      <td>0</td>\n",
              "      <td>1</td>\n",
              "      <td>6</td>\n",
              "      <td>7</td>\n",
              "      <td>8</td>\n",
              "      <td>8</td>\n",
              "      <td>1</td>\n",
              "      <td>0</td>\n",
              "      <td>0</td>\n",
              "      <td>51</td>\n",
              "    </tr>\n",
              "    <tr>\n",
              "      <th>4</th>\n",
              "      <td>2010-10-22</td>\n",
              "      <td>AMD</td>\n",
              "      <td>7</td>\n",
              "      <td>7</td>\n",
              "      <td>7</td>\n",
              "      <td>7</td>\n",
              "      <td>7</td>\n",
              "      <td>21180100</td>\n",
              "      <td>7</td>\n",
              "      <td>7</td>\n",
              "      <td>0</td>\n",
              "      <td>1</td>\n",
              "      <td>7</td>\n",
              "      <td>7</td>\n",
              "      <td>8</td>\n",
              "      <td>8</td>\n",
              "      <td>1</td>\n",
              "      <td>0</td>\n",
              "      <td>0</td>\n",
              "      <td>51</td>\n",
              "    </tr>\n",
              "    <tr>\n",
              "      <th>...</th>\n",
              "      <td>...</td>\n",
              "      <td>...</td>\n",
              "      <td>...</td>\n",
              "      <td>...</td>\n",
              "      <td>...</td>\n",
              "      <td>...</td>\n",
              "      <td>...</td>\n",
              "      <td>...</td>\n",
              "      <td>...</td>\n",
              "      <td>...</td>\n",
              "      <td>...</td>\n",
              "      <td>...</td>\n",
              "      <td>...</td>\n",
              "      <td>...</td>\n",
              "      <td>...</td>\n",
              "      <td>...</td>\n",
              "      <td>...</td>\n",
              "      <td>...</td>\n",
              "      <td>...</td>\n",
              "      <td>...</td>\n",
              "    </tr>\n",
              "    <tr>\n",
              "      <th>2841</th>\n",
              "      <td>2022-01-31</td>\n",
              "      <td>AMD</td>\n",
              "      <td>108</td>\n",
              "      <td>114</td>\n",
              "      <td>107</td>\n",
              "      <td>114</td>\n",
              "      <td>114</td>\n",
              "      <td>97206000</td>\n",
              "      <td>114</td>\n",
              "      <td>128</td>\n",
              "      <td>-0</td>\n",
              "      <td>0</td>\n",
              "      <td>139</td>\n",
              "      <td>128</td>\n",
              "      <td>119</td>\n",
              "      <td>109</td>\n",
              "      <td>0</td>\n",
              "      <td>1</td>\n",
              "      <td>1</td>\n",
              "      <td>39</td>\n",
              "    </tr>\n",
              "    <tr>\n",
              "      <th>2842</th>\n",
              "      <td>2022-02-01</td>\n",
              "      <td>AMD</td>\n",
              "      <td>117</td>\n",
              "      <td>117</td>\n",
              "      <td>113</td>\n",
              "      <td>117</td>\n",
              "      <td>117</td>\n",
              "      <td>122467900</td>\n",
              "      <td>113</td>\n",
              "      <td>126</td>\n",
              "      <td>-0</td>\n",
              "      <td>0</td>\n",
              "      <td>138</td>\n",
              "      <td>128</td>\n",
              "      <td>119</td>\n",
              "      <td>110</td>\n",
              "      <td>0</td>\n",
              "      <td>1</td>\n",
              "      <td>1</td>\n",
              "      <td>41</td>\n",
              "    </tr>\n",
              "    <tr>\n",
              "      <th>2843</th>\n",
              "      <td>2022-02-02</td>\n",
              "      <td>AMD</td>\n",
              "      <td>130</td>\n",
              "      <td>130</td>\n",
              "      <td>121</td>\n",
              "      <td>123</td>\n",
              "      <td>123</td>\n",
              "      <td>180065000</td>\n",
              "      <td>113</td>\n",
              "      <td>125</td>\n",
              "      <td>-0</td>\n",
              "      <td>0</td>\n",
              "      <td>137</td>\n",
              "      <td>128</td>\n",
              "      <td>119</td>\n",
              "      <td>110</td>\n",
              "      <td>0</td>\n",
              "      <td>1</td>\n",
              "      <td>1</td>\n",
              "      <td>47</td>\n",
              "    </tr>\n",
              "    <tr>\n",
              "      <th>2844</th>\n",
              "      <td>2022-02-03</td>\n",
              "      <td>AMD</td>\n",
              "      <td>120</td>\n",
              "      <td>125</td>\n",
              "      <td>119</td>\n",
              "      <td>120</td>\n",
              "      <td>120</td>\n",
              "      <td>103599500</td>\n",
              "      <td>113</td>\n",
              "      <td>124</td>\n",
              "      <td>-0</td>\n",
              "      <td>0</td>\n",
              "      <td>137</td>\n",
              "      <td>129</td>\n",
              "      <td>120</td>\n",
              "      <td>110</td>\n",
              "      <td>0</td>\n",
              "      <td>1</td>\n",
              "      <td>1</td>\n",
              "      <td>45</td>\n",
              "    </tr>\n",
              "    <tr>\n",
              "      <th>2845</th>\n",
              "      <td>2022-02-04</td>\n",
              "      <td>AMD</td>\n",
              "      <td>120</td>\n",
              "      <td>125</td>\n",
              "      <td>119</td>\n",
              "      <td>124</td>\n",
              "      <td>124</td>\n",
              "      <td>86128200</td>\n",
              "      <td>114</td>\n",
              "      <td>123</td>\n",
              "      <td>-0</td>\n",
              "      <td>0</td>\n",
              "      <td>136</td>\n",
              "      <td>129</td>\n",
              "      <td>120</td>\n",
              "      <td>110</td>\n",
              "      <td>0</td>\n",
              "      <td>1</td>\n",
              "      <td>1</td>\n",
              "      <td>48</td>\n",
              "    </tr>\n",
              "  </tbody>\n",
              "</table>\n",
              "<p>2846 rows × 20 columns</p>\n",
              "</div>\n",
              "      <button class=\"colab-df-convert\" onclick=\"convertToInteractive('df-679409e5-0d91-4fcf-bc42-928712c0ebb4')\"\n",
              "              title=\"Convert this dataframe to an interactive table.\"\n",
              "              style=\"display:none;\">\n",
              "        \n",
              "  <svg xmlns=\"http://www.w3.org/2000/svg\" height=\"24px\"viewBox=\"0 0 24 24\"\n",
              "       width=\"24px\">\n",
              "    <path d=\"M0 0h24v24H0V0z\" fill=\"none\"/>\n",
              "    <path d=\"M18.56 5.44l.94 2.06.94-2.06 2.06-.94-2.06-.94-.94-2.06-.94 2.06-2.06.94zm-11 1L8.5 8.5l.94-2.06 2.06-.94-2.06-.94L8.5 2.5l-.94 2.06-2.06.94zm10 10l.94 2.06.94-2.06 2.06-.94-2.06-.94-.94-2.06-.94 2.06-2.06.94z\"/><path d=\"M17.41 7.96l-1.37-1.37c-.4-.4-.92-.59-1.43-.59-.52 0-1.04.2-1.43.59L10.3 9.45l-7.72 7.72c-.78.78-.78 2.05 0 2.83L4 21.41c.39.39.9.59 1.41.59.51 0 1.02-.2 1.41-.59l7.78-7.78 2.81-2.81c.8-.78.8-2.07 0-2.86zM5.41 20L4 18.59l7.72-7.72 1.47 1.35L5.41 20z\"/>\n",
              "  </svg>\n",
              "      </button>\n",
              "      \n",
              "  <style>\n",
              "    .colab-df-container {\n",
              "      display:flex;\n",
              "      flex-wrap:wrap;\n",
              "      gap: 12px;\n",
              "    }\n",
              "\n",
              "    .colab-df-convert {\n",
              "      background-color: #E8F0FE;\n",
              "      border: none;\n",
              "      border-radius: 50%;\n",
              "      cursor: pointer;\n",
              "      display: none;\n",
              "      fill: #1967D2;\n",
              "      height: 32px;\n",
              "      padding: 0 0 0 0;\n",
              "      width: 32px;\n",
              "    }\n",
              "\n",
              "    .colab-df-convert:hover {\n",
              "      background-color: #E2EBFA;\n",
              "      box-shadow: 0px 1px 2px rgba(60, 64, 67, 0.3), 0px 1px 3px 1px rgba(60, 64, 67, 0.15);\n",
              "      fill: #174EA6;\n",
              "    }\n",
              "\n",
              "    [theme=dark] .colab-df-convert {\n",
              "      background-color: #3B4455;\n",
              "      fill: #D2E3FC;\n",
              "    }\n",
              "\n",
              "    [theme=dark] .colab-df-convert:hover {\n",
              "      background-color: #434B5C;\n",
              "      box-shadow: 0px 1px 3px 1px rgba(0, 0, 0, 0.15);\n",
              "      filter: drop-shadow(0px 1px 2px rgba(0, 0, 0, 0.3));\n",
              "      fill: #FFFFFF;\n",
              "    }\n",
              "  </style>\n",
              "\n",
              "      <script>\n",
              "        const buttonEl =\n",
              "          document.querySelector('#df-679409e5-0d91-4fcf-bc42-928712c0ebb4 button.colab-df-convert');\n",
              "        buttonEl.style.display =\n",
              "          google.colab.kernel.accessAllowed ? 'block' : 'none';\n",
              "\n",
              "        async function convertToInteractive(key) {\n",
              "          const element = document.querySelector('#df-679409e5-0d91-4fcf-bc42-928712c0ebb4');\n",
              "          const dataTable =\n",
              "            await google.colab.kernel.invokeFunction('convertToInteractive',\n",
              "                                                     [key], {});\n",
              "          if (!dataTable) return;\n",
              "\n",
              "          const docLinkHtml = 'Like what you see? Visit the ' +\n",
              "            '<a target=\"_blank\" href=https://colab.research.google.com/notebooks/data_table.ipynb>data table notebook</a>'\n",
              "            + ' to learn more about interactive tables.';\n",
              "          element.innerHTML = '';\n",
              "          dataTable['output_type'] = 'display_data';\n",
              "          await google.colab.output.renderOutput(dataTable, element);\n",
              "          const docLink = document.createElement('div');\n",
              "          docLink.innerHTML = docLinkHtml;\n",
              "          element.appendChild(docLink);\n",
              "        }\n",
              "      </script>\n",
              "    </div>\n",
              "  </div>\n",
              "  "
            ],
            "text/plain": [
              "           Date Ticker  Open  High  Low  Close  Adj Close     Volume  SMA_9  \\\n",
              "0    2010-10-18    AMD     7     7    7      7          7   26657500      7   \n",
              "1    2010-10-19    AMD     7     7    7      7          7   39344200      7   \n",
              "2    2010-10-20    AMD     7     7    7      7          7   45596700      7   \n",
              "3    2010-10-21    AMD     7     7    7      7          7   23156100      7   \n",
              "4    2010-10-22    AMD     7     7    7      7          7   21180100      7   \n",
              "...         ...    ...   ...   ...  ...    ...        ...        ...    ...   \n",
              "2841 2022-01-31    AMD   108   114  107    114        114   97206000    114   \n",
              "2842 2022-02-01    AMD   117   117  113    117        117  122467900    113   \n",
              "2843 2022-02-02    AMD   130   130  121    123        123  180065000    113   \n",
              "2844 2022-02-03    AMD   120   125  119    120        120  103599500    113   \n",
              "2845 2022-02-04    AMD   120   125  119    124        124   86128200    114   \n",
              "\n",
              "      SMA_21  SMA_9_21_diff  SIGNAL_9_21  SMA_50  SMA_100  SMA_150  SMA_200  \\\n",
              "0          7              0            1       6        7        8        8   \n",
              "1          7              0            1       6        7        8        8   \n",
              "2          7              0            1       6        7        8        8   \n",
              "3          7              0            1       6        7        8        8   \n",
              "4          7              0            1       7        7        8        8   \n",
              "...      ...            ...          ...     ...      ...      ...      ...   \n",
              "2841     128             -0            0     139      128      119      109   \n",
              "2842     126             -0            0     138      128      119      110   \n",
              "2843     125             -0            0     137      128      119      110   \n",
              "2844     124             -0            0     137      129      120      110   \n",
              "2845     123             -0            0     136      129      120      110   \n",
              "\n",
              "      SIGNAL_21_50  SIGNAL_50_100  SIGNAL_100_200  RSI  \n",
              "0                1              0               0   54  \n",
              "1                1              0               0   53  \n",
              "2                1              0               0   49  \n",
              "3                1              0               0   51  \n",
              "4                1              0               0   51  \n",
              "...            ...            ...             ...  ...  \n",
              "2841             0              1               1   39  \n",
              "2842             0              1               1   41  \n",
              "2843             0              1               1   47  \n",
              "2844             0              1               1   45  \n",
              "2845             0              1               1   48  \n",
              "\n",
              "[2846 rows x 20 columns]"
            ]
          },
          "metadata": {},
          "execution_count": 124
        }
      ]
    },
    {
      "cell_type": "markdown",
      "source": [
        "##Split Dataset to train and test"
      ],
      "metadata": {
        "id": "pvnjlvkBaU6P"
      }
    },
    {
      "cell_type": "code",
      "source": [
        "df_stock_data.set_index('Date', inplace = True)\n",
        "train_ds = df_stock_data[train_data_from:train_data_to][features]\n",
        "test_ds = df_stock_data[test_data_from:][features]"
      ],
      "metadata": {
        "id": "4PGJYlLNX7Xk"
      },
      "execution_count": null,
      "outputs": []
    },
    {
      "cell_type": "markdown",
      "source": [
        "## Scaling and Normalizing"
      ],
      "metadata": {
        "id": "8Q-iYiRWf2eg"
      }
    },
    {
      "cell_type": "code",
      "source": [
        "yscaler = StandardScaler()\n",
        "yscaler.fit(train_ds[[predict_field]])\n",
        "yscaler.mean_, yscaler.scale_"
      ],
      "metadata": {
        "colab": {
          "base_uri": "https://localhost:8080/"
        },
        "id": "W4-dODATYCKs",
        "outputId": "db9637e6-a3ca-478e-d4cd-f17270451d92"
      },
      "execution_count": null,
      "outputs": [
        {
          "output_type": "execute_result",
          "data": {
            "text/plain": [
              "(array([26.13768863]), array([23.06221193]))"
            ]
          },
          "metadata": {},
          "execution_count": 126
        }
      ]
    },
    {
      "cell_type": "code",
      "source": [
        "cols = train_ds.columns"
      ],
      "metadata": {
        "id": "EvibanBEaMdP"
      },
      "execution_count": null,
      "outputs": []
    },
    {
      "cell_type": "code",
      "source": [
        "# Scaling for features (X)\n",
        "sc = StandardScaler()\n",
        "sc.fit(train_ds)\n",
        "train_ds_scaled = pd.DataFrame(sc.transform(train_ds), columns=cols)\n",
        "test_ds_scaled = pd.DataFrame(sc.transform(test_ds), columns=cols)\n"
      ],
      "metadata": {
        "id": "_L0PMxqfYFee"
      },
      "execution_count": null,
      "outputs": []
    },
    {
      "cell_type": "markdown",
      "source": [
        "##Split train and test to X AND y"
      ],
      "metadata": {
        "id": "e41awMPfgnL5"
      }
    },
    {
      "cell_type": "code",
      "source": [
        "X_train, y_train = create_sequences(sequence_length, train_ds_scaled)\n",
        "X_test, y_test = create_sequences(sequence_length, test_ds_scaled)"
      ],
      "metadata": {
        "id": "wjmP0PabYIsN"
      },
      "execution_count": null,
      "outputs": []
    },
    {
      "cell_type": "markdown",
      "source": [
        "## Show Results"
      ],
      "metadata": {
        "id": "of4y9DRvgzhY"
      }
    },
    {
      "cell_type": "code",
      "source": [
        "def plot_predictions(model, df):\n",
        "\n",
        "  predicted = yscaler.inverse_transform(model.predict(X_test))\n",
        "  test = yscaler.inverse_transform(y_test.reshape(-1,1))\n",
        "\n",
        "  print(f\"Results for {company} stock prediction\")\n",
        "  print(f\"Predict_field: {predict_field}, sequence_len: {sequence_length}, train_data_to:{train_data_to}, test_data_from:{test_data_from}, features: {features}\\n\\n\")\n",
        "\n",
        "  preds_list = predicted.reshape((predicted.shape[0],))\n",
        "  real_vals_list = test.reshape((test.shape[0],))\n",
        "  diff = preds_list - real_vals_list  \n",
        "  diff_percent = np.round((diff / real_vals_list) * 100, 1)\n",
        "  pd.DataFrame(data={'predictions': preds_list, \n",
        "                   'true_values': real_vals_list,\n",
        "                   'diff': diff,\n",
        "                   'diff %': diff_percent})\n",
        "  \n",
        "  print(f\"Mean absolute error: {np.average(np.abs(diff))}\\n\")\n",
        "  print(f\"Mean absolute error std: {np.std(np.abs(diff))}\\n\")\n",
        "\n",
        "  print(f\"% Mean absolute error: {np.round(np.average(np.abs(diff_percent)), 1)}%\\n\")\n",
        "  print(f\"% Mean absolute error std: {np.round(np.std(np.abs(diff_percent)), 1)}%\\n\")\n",
        "\n",
        "  sn.histplot(diff_percent)\n",
        "  plt.show()\n",
        "\n",
        "\n",
        "  print(\"\\n\\n\\n\")\n",
        "\n",
        "  df[predict_field].plot(figsize=(16,4),legend=True)\n",
        "  plt.title(f\"{company} stock price\")\n",
        "  plt.show()\n",
        "\n",
        "\n",
        "  print(\"\\n\\n\\n\")\n",
        "\n",
        "  plt.rcParams[\"figure.figsize\"] = (16, 4)\n",
        "  plt.plot(test, color='red',label=f\"Real {company} Stock Price\")\n",
        "  plt.plot(predicted, color='blue',label=f\"Predicted {company} Stock Price\")\n",
        "  plt.title(f\"{company} Stock Price Prediction\")\n",
        "  plt.xlabel('Time')\n",
        "  plt.ylabel(f\"{company} Stock Price\")\n",
        "  plt.legend()\n",
        "  plt.show()\n",
        "\n"
      ],
      "metadata": {
        "id": "Tn-IUInqTM_5"
      },
      "execution_count": null,
      "outputs": []
    },
    {
      "cell_type": "markdown",
      "source": [
        "## Run Model RNN"
      ],
      "metadata": {
        "id": "JzZlTSV6g5Bq"
      }
    },
    {
      "cell_type": "code",
      "source": [
        "# model = keras.Sequential()\n",
        "# A 3D tensor, with shape [batch, timesteps, features_num].\n",
        "# model.add(keras.layers.SimpleRNN(units=8, input_shape=(X_train.shape[1:]), \n",
        "#                                  return_sequences=False, activation='tanh'))\n",
        "\n",
        "\n",
        "# model.add(Dense(units=1))\n",
        "\n",
        "# model.summary()\n",
        "#\n",
        "model = keras.Sequential()\n",
        "model_lstm = keras.Sequential(\n",
        "    [keras.layers.LSTM(units=8, input_shape=(X_train.shape[1:]), return_sequences=False, activation='tanh'),\n",
        "     keras.layers.Dense(units=1)]\n",
        ")\n",
        "model_lstm.summary()"
      ],
      "metadata": {
        "colab": {
          "base_uri": "https://localhost:8080/"
        },
        "id": "atEQxYfTXSAL",
        "outputId": "5763e5dd-3881-4f87-f97c-5127cee90fe3"
      },
      "execution_count": null,
      "outputs": [
        {
          "output_type": "stream",
          "name": "stdout",
          "text": [
            "Model: \"sequential_18\"\n",
            "_________________________________________________________________\n",
            " Layer (type)                Output Shape              Param #   \n",
            "=================================================================\n",
            " lstm_9 (LSTM)               (None, 8)                 864       \n",
            "                                                                 \n",
            " dense_10 (Dense)            (None, 1)                 9         \n",
            "                                                                 \n",
            "=================================================================\n",
            "Total params: 873\n",
            "Trainable params: 873\n",
            "Non-trainable params: 0\n",
            "_________________________________________________________________\n"
          ]
        }
      ]
    },
    {
      "cell_type": "markdown",
      "source": [
        "## Compile and Fit Model"
      ],
      "metadata": {
        "id": "KZBkzqwMhbao"
      }
    },
    {
      "cell_type": "code",
      "source": [
        "X_train"
      ],
      "metadata": {
        "colab": {
          "base_uri": "https://localhost:8080/"
        },
        "id": "p_xqAGUlwPOh",
        "outputId": "7f4697df-7506-4785-d6b2-d69e5a3e1f21"
      },
      "execution_count": null,
      "outputs": [
        {
          "output_type": "execute_result",
          "data": {
            "text/plain": [
              "array([[[-1.01294059, -1.01610274, -1.0150542 , ...,  0.56664918,\n",
              "         -2.36466129,  0.38594753],\n",
              "        [-1.01294059, -1.01695471, -1.01461154, ...,  0.56664918,\n",
              "         -2.36466129,  0.28125194],\n",
              "        [-1.0177105 , -1.02078859, -1.02213674, ...,  0.56664918,\n",
              "         -2.36466129, -0.75931236],\n",
              "        [-1.02768396, -1.0305863 , -1.03143257, ...,  0.56664918,\n",
              "         -2.36466129, -1.45022555],\n",
              "        [-1.03071937, -1.03314222, -1.0385151 , ...,  0.56664918,\n",
              "         -2.36466129, -1.78173319]],\n",
              "\n",
              "       [[-1.01294059, -1.01695471, -1.01461154, ...,  0.56664918,\n",
              "         -2.36466129,  0.28125194],\n",
              "        [-1.0177105 , -1.02078859, -1.02213674, ...,  0.56664918,\n",
              "         -2.36466129, -0.75931236],\n",
              "        [-1.02768396, -1.0305863 , -1.03143257, ...,  0.56664918,\n",
              "         -2.36466129, -1.45022555],\n",
              "        [-1.03071937, -1.03314222, -1.0385151 , ...,  0.56664918,\n",
              "         -2.36466129, -1.78173319],\n",
              "        [-1.03939193, -1.03569815, -1.03762979, ...,  0.56664918,\n",
              "         -2.36466129, -1.01876658]],\n",
              "\n",
              "       [[-1.0177105 , -1.02078859, -1.02213674, ...,  0.56664918,\n",
              "         -2.36466129, -0.75931236],\n",
              "        [-1.02768396, -1.0305863 , -1.03143257, ...,  0.56664918,\n",
              "         -2.36466129, -1.45022555],\n",
              "        [-1.03071937, -1.03314222, -1.0385151 , ...,  0.56664918,\n",
              "         -2.36466129, -1.78173319],\n",
              "        [-1.03939193, -1.03569815, -1.03762979, ...,  0.56664918,\n",
              "         -2.36466129, -1.01876658],\n",
              "        [-1.02898484, -1.03143827, -1.03054725, ...,  0.56664918,\n",
              "         -2.36466129, -0.84861455]],\n",
              "\n",
              "       ...,\n",
              "\n",
              "       [[ 2.95389393,  2.92257395,  2.90025872, ...,  0.56664918,\n",
              "          0.42289355,  0.06218855],\n",
              "        [ 2.91530101,  2.84887836,  2.87591238, ...,  0.56664918,\n",
              "          0.42289355,  0.04600095],\n",
              "        [ 2.90315946,  2.83098666,  2.91707962, ...,  0.56664918,\n",
              "          0.42289355, -0.32174874],\n",
              "        [ 2.84765505,  2.80457567,  2.91043968, ...,  0.56664918,\n",
              "          0.42289355, -0.26746163],\n",
              "        [ 2.89665497,  2.83141274,  2.88874951, ...,  0.56664918,\n",
              "          0.42289355, -0.31800896]],\n",
              "\n",
              "       [[ 2.91530101,  2.84887836,  2.87591238, ...,  0.56664918,\n",
              "          0.42289355,  0.04600095],\n",
              "        [ 2.90315946,  2.83098666,  2.91707962, ...,  0.56664918,\n",
              "          0.42289355, -0.32174874],\n",
              "        [ 2.84765505,  2.80457567,  2.91043968, ...,  0.56664918,\n",
              "          0.42289355, -0.26746163],\n",
              "        [ 2.89665497,  2.83141274,  2.88874951, ...,  0.56664918,\n",
              "          0.42289355, -0.31800896],\n",
              "        [ 2.84158428,  2.8024456 ,  2.82722003, ...,  0.56664918,\n",
              "          0.42289355, -0.55507487]],\n",
              "\n",
              "       [[ 2.90315946,  2.83098666,  2.91707962, ...,  0.56664918,\n",
              "          0.42289355, -0.32174874],\n",
              "        [ 2.84765505,  2.80457567,  2.91043968, ...,  0.56664918,\n",
              "          0.42289355, -0.26746163],\n",
              "        [ 2.89665497,  2.83141274,  2.88874951, ...,  0.56664918,\n",
              "          0.42289355, -0.31800896],\n",
              "        [ 2.84158428,  2.8024456 ,  2.82722003, ...,  0.56664918,\n",
              "          0.42289355, -0.55507487],\n",
              "        [ 2.80342475,  2.81905907,  2.86086216, ...,  0.56664918,\n",
              "          0.42289355, -0.16470298]]])"
            ]
          },
          "metadata": {},
          "execution_count": 132
        }
      ]
    },
    {
      "cell_type": "code",
      "source": [
        "model.compile(optimizer='adam', loss='mean_squared_error')\n",
        "model.fit(X_train, y_train, epochs=70, batch_size=64, validation_data=(X_test, y_test))"
      ],
      "metadata": {
        "id": "5fmzkhqaBs6f",
        "colab": {
          "base_uri": "https://localhost:8080/",
          "height": 1000
        },
        "outputId": "f14e6d80-a258-4f64-ea10-8e041a9f9727"
      },
      "execution_count": null,
      "outputs": [
        {
          "output_type": "stream",
          "name": "stdout",
          "text": [
            "Epoch 1/70\n"
          ]
        },
        {
          "output_type": "error",
          "ename": "InvalidArgumentError",
          "evalue": "ignored",
          "traceback": [
            "\u001b[0;31m---------------------------------------------------------------------------\u001b[0m",
            "\u001b[0;31mInvalidArgumentError\u001b[0m                      Traceback (most recent call last)",
            "\u001b[0;32m<ipython-input-133-cbd5156480ba>\u001b[0m in \u001b[0;36m<module>\u001b[0;34m()\u001b[0m\n\u001b[1;32m      1\u001b[0m \u001b[0mmodel\u001b[0m\u001b[0;34m.\u001b[0m\u001b[0mcompile\u001b[0m\u001b[0;34m(\u001b[0m\u001b[0moptimizer\u001b[0m\u001b[0;34m=\u001b[0m\u001b[0;34m'adam'\u001b[0m\u001b[0;34m,\u001b[0m \u001b[0mloss\u001b[0m\u001b[0;34m=\u001b[0m\u001b[0;34m'mean_squared_error'\u001b[0m\u001b[0;34m)\u001b[0m\u001b[0;34m\u001b[0m\u001b[0;34m\u001b[0m\u001b[0m\n\u001b[0;32m----> 2\u001b[0;31m \u001b[0mmodel\u001b[0m\u001b[0;34m.\u001b[0m\u001b[0mfit\u001b[0m\u001b[0;34m(\u001b[0m\u001b[0mX_train\u001b[0m\u001b[0;34m,\u001b[0m \u001b[0my_train\u001b[0m\u001b[0;34m,\u001b[0m \u001b[0mepochs\u001b[0m\u001b[0;34m=\u001b[0m\u001b[0;36m70\u001b[0m\u001b[0;34m,\u001b[0m \u001b[0mbatch_size\u001b[0m\u001b[0;34m=\u001b[0m\u001b[0;36m64\u001b[0m\u001b[0;34m,\u001b[0m \u001b[0mvalidation_data\u001b[0m\u001b[0;34m=\u001b[0m\u001b[0;34m(\u001b[0m\u001b[0mX_test\u001b[0m\u001b[0;34m,\u001b[0m \u001b[0my_test\u001b[0m\u001b[0;34m)\u001b[0m\u001b[0;34m)\u001b[0m\u001b[0;34m\u001b[0m\u001b[0;34m\u001b[0m\u001b[0m\n\u001b[0m",
            "\u001b[0;32m/usr/local/lib/python3.7/dist-packages/keras/utils/traceback_utils.py\u001b[0m in \u001b[0;36merror_handler\u001b[0;34m(*args, **kwargs)\u001b[0m\n\u001b[1;32m     65\u001b[0m     \u001b[0;32mexcept\u001b[0m \u001b[0mException\u001b[0m \u001b[0;32mas\u001b[0m \u001b[0me\u001b[0m\u001b[0;34m:\u001b[0m  \u001b[0;31m# pylint: disable=broad-except\u001b[0m\u001b[0;34m\u001b[0m\u001b[0;34m\u001b[0m\u001b[0m\n\u001b[1;32m     66\u001b[0m       \u001b[0mfiltered_tb\u001b[0m \u001b[0;34m=\u001b[0m \u001b[0m_process_traceback_frames\u001b[0m\u001b[0;34m(\u001b[0m\u001b[0me\u001b[0m\u001b[0;34m.\u001b[0m\u001b[0m__traceback__\u001b[0m\u001b[0;34m)\u001b[0m\u001b[0;34m\u001b[0m\u001b[0;34m\u001b[0m\u001b[0m\n\u001b[0;32m---> 67\u001b[0;31m       \u001b[0;32mraise\u001b[0m \u001b[0me\u001b[0m\u001b[0;34m.\u001b[0m\u001b[0mwith_traceback\u001b[0m\u001b[0;34m(\u001b[0m\u001b[0mfiltered_tb\u001b[0m\u001b[0;34m)\u001b[0m \u001b[0;32mfrom\u001b[0m \u001b[0;32mNone\u001b[0m\u001b[0;34m\u001b[0m\u001b[0;34m\u001b[0m\u001b[0m\n\u001b[0m\u001b[1;32m     68\u001b[0m     \u001b[0;32mfinally\u001b[0m\u001b[0;34m:\u001b[0m\u001b[0;34m\u001b[0m\u001b[0;34m\u001b[0m\u001b[0m\n\u001b[1;32m     69\u001b[0m       \u001b[0;32mdel\u001b[0m \u001b[0mfiltered_tb\u001b[0m\u001b[0;34m\u001b[0m\u001b[0;34m\u001b[0m\u001b[0m\n",
            "\u001b[0;32m/usr/local/lib/python3.7/dist-packages/tensorflow/python/eager/execute.py\u001b[0m in \u001b[0;36mquick_execute\u001b[0;34m(op_name, num_outputs, inputs, attrs, ctx, name)\u001b[0m\n\u001b[1;32m     57\u001b[0m     \u001b[0mctx\u001b[0m\u001b[0;34m.\u001b[0m\u001b[0mensure_initialized\u001b[0m\u001b[0;34m(\u001b[0m\u001b[0;34m)\u001b[0m\u001b[0;34m\u001b[0m\u001b[0;34m\u001b[0m\u001b[0m\n\u001b[1;32m     58\u001b[0m     tensors = pywrap_tfe.TFE_Py_Execute(ctx._handle, device_name, op_name,\n\u001b[0;32m---> 59\u001b[0;31m                                         inputs, attrs, num_outputs)\n\u001b[0m\u001b[1;32m     60\u001b[0m   \u001b[0;32mexcept\u001b[0m \u001b[0mcore\u001b[0m\u001b[0;34m.\u001b[0m\u001b[0m_NotOkStatusException\u001b[0m \u001b[0;32mas\u001b[0m \u001b[0me\u001b[0m\u001b[0;34m:\u001b[0m\u001b[0;34m\u001b[0m\u001b[0;34m\u001b[0m\u001b[0m\n\u001b[1;32m     61\u001b[0m     \u001b[0;32mif\u001b[0m \u001b[0mname\u001b[0m \u001b[0;32mis\u001b[0m \u001b[0;32mnot\u001b[0m \u001b[0;32mNone\u001b[0m\u001b[0;34m:\u001b[0m\u001b[0;34m\u001b[0m\u001b[0;34m\u001b[0m\u001b[0m\n",
            "\u001b[0;31mInvalidArgumentError\u001b[0m:  Incompatible shapes: [64,5,18] vs. [64]\n\t [[node mean_squared_error/SquaredDifference\n (defined at /usr/local/lib/python3.7/dist-packages/keras/losses.py:1204)\n]] [Op:__inference_train_function_7315]\n\nErrors may have originated from an input operation.\nInput Source operations connected to node mean_squared_error/SquaredDifference:\nIn[0] IteratorGetNext (defined at /usr/local/lib/python3.7/dist-packages/keras/engine/training.py:866)\t\nIn[1] IteratorGetNext:\n\nOperation defined at: (most recent call last)\n>>>   File \"/usr/lib/python3.7/runpy.py\", line 193, in _run_module_as_main\n>>>     \"__main__\", mod_spec)\n>>> \n>>>   File \"/usr/lib/python3.7/runpy.py\", line 85, in _run_code\n>>>     exec(code, run_globals)\n>>> \n>>>   File \"/usr/local/lib/python3.7/dist-packages/ipykernel_launcher.py\", line 16, in <module>\n>>>     app.launch_new_instance()\n>>> \n>>>   File \"/usr/local/lib/python3.7/dist-packages/traitlets/config/application.py\", line 846, in launch_instance\n>>>     app.start()\n>>> \n>>>   File \"/usr/local/lib/python3.7/dist-packages/ipykernel/kernelapp.py\", line 499, in start\n>>>     self.io_loop.start()\n>>> \n>>>   File \"/usr/local/lib/python3.7/dist-packages/tornado/platform/asyncio.py\", line 132, in start\n>>>     self.asyncio_loop.run_forever()\n>>> \n>>>   File \"/usr/lib/python3.7/asyncio/base_events.py\", line 541, in run_forever\n>>>     self._run_once()\n>>> \n>>>   File \"/usr/lib/python3.7/asyncio/base_events.py\", line 1786, in _run_once\n>>>     handle._run()\n>>> \n>>>   File \"/usr/lib/python3.7/asyncio/events.py\", line 88, in _run\n>>>     self._context.run(self._callback, *self._args)\n>>> \n>>>   File \"/usr/local/lib/python3.7/dist-packages/tornado/platform/asyncio.py\", line 122, in _handle_events\n>>>     handler_func(fileobj, events)\n>>> \n>>>   File \"/usr/local/lib/python3.7/dist-packages/tornado/stack_context.py\", line 300, in null_wrapper\n>>>     return fn(*args, **kwargs)\n>>> \n>>>   File \"/usr/local/lib/python3.7/dist-packages/zmq/eventloop/zmqstream.py\", line 452, in _handle_events\n>>>     self._handle_recv()\n>>> \n>>>   File \"/usr/local/lib/python3.7/dist-packages/zmq/eventloop/zmqstream.py\", line 481, in _handle_recv\n>>>     self._run_callback(callback, msg)\n>>> \n>>>   File \"/usr/local/lib/python3.7/dist-packages/zmq/eventloop/zmqstream.py\", line 431, in _run_callback\n>>>     callback(*args, **kwargs)\n>>> \n>>>   File \"/usr/local/lib/python3.7/dist-packages/tornado/stack_context.py\", line 300, in null_wrapper\n>>>     return fn(*args, **kwargs)\n>>> \n>>>   File \"/usr/local/lib/python3.7/dist-packages/ipykernel/kernelbase.py\", line 283, in dispatcher\n>>>     return self.dispatch_shell(stream, msg)\n>>> \n>>>   File \"/usr/local/lib/python3.7/dist-packages/ipykernel/kernelbase.py\", line 233, in dispatch_shell\n>>>     handler(stream, idents, msg)\n>>> \n>>>   File \"/usr/local/lib/python3.7/dist-packages/ipykernel/kernelbase.py\", line 399, in execute_request\n>>>     user_expressions, allow_stdin)\n>>> \n>>>   File \"/usr/local/lib/python3.7/dist-packages/ipykernel/ipkernel.py\", line 208, in do_execute\n>>>     res = shell.run_cell(code, store_history=store_history, silent=silent)\n>>> \n>>>   File \"/usr/local/lib/python3.7/dist-packages/ipykernel/zmqshell.py\", line 537, in run_cell\n>>>     return super(ZMQInteractiveShell, self).run_cell(*args, **kwargs)\n>>> \n>>>   File \"/usr/local/lib/python3.7/dist-packages/IPython/core/interactiveshell.py\", line 2718, in run_cell\n>>>     interactivity=interactivity, compiler=compiler, result=result)\n>>> \n>>>   File \"/usr/local/lib/python3.7/dist-packages/IPython/core/interactiveshell.py\", line 2828, in run_ast_nodes\n>>>     if self.run_code(code, result):\n>>> \n>>>   File \"/usr/local/lib/python3.7/dist-packages/IPython/core/interactiveshell.py\", line 2882, in run_code\n>>>     exec(code_obj, self.user_global_ns, self.user_ns)\n>>> \n>>>   File \"<ipython-input-133-cbd5156480ba>\", line 2, in <module>\n>>>     model.fit(X_train, y_train, epochs=70, batch_size=64, validation_data=(X_test, y_test))\n>>> \n>>>   File \"/usr/local/lib/python3.7/dist-packages/keras/utils/traceback_utils.py\", line 64, in error_handler\n>>>     return fn(*args, **kwargs)\n>>> \n>>>   File \"/usr/local/lib/python3.7/dist-packages/keras/engine/training.py\", line 1216, in fit\n>>>     tmp_logs = self.train_function(iterator)\n>>> \n>>>   File \"/usr/local/lib/python3.7/dist-packages/keras/engine/training.py\", line 878, in train_function\n>>>     return step_function(self, iterator)\n>>> \n>>>   File \"/usr/local/lib/python3.7/dist-packages/keras/engine/training.py\", line 867, in step_function\n>>>     outputs = model.distribute_strategy.run(run_step, args=(data,))\n>>> \n>>>   File \"/usr/local/lib/python3.7/dist-packages/keras/engine/training.py\", line 860, in run_step\n>>>     outputs = model.train_step(data)\n>>> \n>>>   File \"/usr/local/lib/python3.7/dist-packages/keras/engine/training.py\", line 810, in train_step\n>>>     y, y_pred, sample_weight, regularization_losses=self.losses)\n>>> \n>>>   File \"/usr/local/lib/python3.7/dist-packages/keras/engine/compile_utils.py\", line 201, in __call__\n>>>     loss_value = loss_obj(y_t, y_p, sample_weight=sw)\n>>> \n>>>   File \"/usr/local/lib/python3.7/dist-packages/keras/losses.py\", line 141, in __call__\n>>>     losses = call_fn(y_true, y_pred)\n>>> \n>>>   File \"/usr/local/lib/python3.7/dist-packages/keras/losses.py\", line 245, in call\n>>>     return ag_fn(y_true, y_pred, **self._fn_kwargs)\n>>> \n>>>   File \"/usr/local/lib/python3.7/dist-packages/keras/losses.py\", line 1204, in mean_squared_error\n>>>     return backend.mean(tf.math.squared_difference(y_pred, y_true), axis=-1)\n>>> "
          ]
        }
      ]
    },
    {
      "cell_type": "code",
      "source": [
        "plot_predictions(model, df_stock_data)"
      ],
      "metadata": {
        "colab": {
          "base_uri": "https://localhost:8080/",
          "height": 341
        },
        "id": "bUhbX6ERYo28",
        "outputId": "081b8e07-7f5c-466e-f552-c079d76a47ae"
      },
      "execution_count": null,
      "outputs": [
        {
          "output_type": "error",
          "ename": "ValueError",
          "evalue": "ignored",
          "traceback": [
            "\u001b[0;31m---------------------------------------------------------------------------\u001b[0m",
            "\u001b[0;31mValueError\u001b[0m                                Traceback (most recent call last)",
            "\u001b[0;32m<ipython-input-100-ee7ff300486f>\u001b[0m in \u001b[0;36m<module>\u001b[0;34m()\u001b[0m\n\u001b[0;32m----> 1\u001b[0;31m \u001b[0mplot_predictions\u001b[0m\u001b[0;34m(\u001b[0m\u001b[0mmodel\u001b[0m\u001b[0;34m,\u001b[0m \u001b[0mdf_stock_data\u001b[0m\u001b[0;34m)\u001b[0m\u001b[0;34m\u001b[0m\u001b[0;34m\u001b[0m\u001b[0m\n\u001b[0m",
            "\u001b[0;32m<ipython-input-97-2e2a5c6d8c53>\u001b[0m in \u001b[0;36mplot_predictions\u001b[0;34m(model, df)\u001b[0m\n\u001b[1;32m      1\u001b[0m \u001b[0;32mdef\u001b[0m \u001b[0mplot_predictions\u001b[0m\u001b[0;34m(\u001b[0m\u001b[0mmodel\u001b[0m\u001b[0;34m,\u001b[0m \u001b[0mdf\u001b[0m\u001b[0;34m)\u001b[0m\u001b[0;34m:\u001b[0m\u001b[0;34m\u001b[0m\u001b[0;34m\u001b[0m\u001b[0m\n\u001b[1;32m      2\u001b[0m \u001b[0;34m\u001b[0m\u001b[0m\n\u001b[0;32m----> 3\u001b[0;31m   \u001b[0mpredicted\u001b[0m \u001b[0;34m=\u001b[0m \u001b[0myscaler\u001b[0m\u001b[0;34m.\u001b[0m\u001b[0minverse_transform\u001b[0m\u001b[0;34m(\u001b[0m\u001b[0mmodel\u001b[0m\u001b[0;34m.\u001b[0m\u001b[0mpredict\u001b[0m\u001b[0;34m(\u001b[0m\u001b[0mX_test\u001b[0m\u001b[0;34m)\u001b[0m\u001b[0;34m)\u001b[0m\u001b[0;34m\u001b[0m\u001b[0;34m\u001b[0m\u001b[0m\n\u001b[0m\u001b[1;32m      4\u001b[0m   \u001b[0mtest\u001b[0m \u001b[0;34m=\u001b[0m \u001b[0myscaler\u001b[0m\u001b[0;34m.\u001b[0m\u001b[0minverse_transform\u001b[0m\u001b[0;34m(\u001b[0m\u001b[0my_test\u001b[0m\u001b[0;34m.\u001b[0m\u001b[0mreshape\u001b[0m\u001b[0;34m(\u001b[0m\u001b[0;34m-\u001b[0m\u001b[0;36m1\u001b[0m\u001b[0;34m,\u001b[0m\u001b[0;36m1\u001b[0m\u001b[0;34m)\u001b[0m\u001b[0;34m)\u001b[0m\u001b[0;34m\u001b[0m\u001b[0;34m\u001b[0m\u001b[0m\n\u001b[1;32m      5\u001b[0m \u001b[0;34m\u001b[0m\u001b[0m\n",
            "\u001b[0;32m/usr/local/lib/python3.7/dist-packages/sklearn/preprocessing/_data.py\u001b[0m in \u001b[0;36minverse_transform\u001b[0;34m(self, X, copy)\u001b[0m\n\u001b[1;32m   1020\u001b[0m             \u001b[0mestimator\u001b[0m\u001b[0;34m=\u001b[0m\u001b[0mself\u001b[0m\u001b[0;34m,\u001b[0m\u001b[0;34m\u001b[0m\u001b[0;34m\u001b[0m\u001b[0m\n\u001b[1;32m   1021\u001b[0m             \u001b[0mdtype\u001b[0m\u001b[0;34m=\u001b[0m\u001b[0mFLOAT_DTYPES\u001b[0m\u001b[0;34m,\u001b[0m\u001b[0;34m\u001b[0m\u001b[0;34m\u001b[0m\u001b[0m\n\u001b[0;32m-> 1022\u001b[0;31m             \u001b[0mforce_all_finite\u001b[0m\u001b[0;34m=\u001b[0m\u001b[0;34m\"allow-nan\"\u001b[0m\u001b[0;34m,\u001b[0m\u001b[0;34m\u001b[0m\u001b[0;34m\u001b[0m\u001b[0m\n\u001b[0m\u001b[1;32m   1023\u001b[0m         )\n\u001b[1;32m   1024\u001b[0m \u001b[0;34m\u001b[0m\u001b[0m\n",
            "\u001b[0;32m/usr/local/lib/python3.7/dist-packages/sklearn/utils/validation.py\u001b[0m in \u001b[0;36mcheck_array\u001b[0;34m(array, accept_sparse, accept_large_sparse, dtype, order, copy, force_all_finite, ensure_2d, allow_nd, ensure_min_samples, ensure_min_features, estimator)\u001b[0m\n\u001b[1;32m    794\u001b[0m             raise ValueError(\n\u001b[1;32m    795\u001b[0m                 \u001b[0;34m\"Found array with dim %d. %s expected <= 2.\"\u001b[0m\u001b[0;34m\u001b[0m\u001b[0;34m\u001b[0m\u001b[0m\n\u001b[0;32m--> 796\u001b[0;31m                 \u001b[0;34m%\u001b[0m \u001b[0;34m(\u001b[0m\u001b[0marray\u001b[0m\u001b[0;34m.\u001b[0m\u001b[0mndim\u001b[0m\u001b[0;34m,\u001b[0m \u001b[0mestimator_name\u001b[0m\u001b[0;34m)\u001b[0m\u001b[0;34m\u001b[0m\u001b[0;34m\u001b[0m\u001b[0m\n\u001b[0m\u001b[1;32m    797\u001b[0m             )\n\u001b[1;32m    798\u001b[0m \u001b[0;34m\u001b[0m\u001b[0m\n",
            "\u001b[0;31mValueError\u001b[0m: Found array with dim 3. StandardScaler expected <= 2."
          ]
        }
      ]
    },
    {
      "cell_type": "code",
      "source": [
        "# predict\n",
        "predictions = sc.inverse_transform(model.predict(X_test[:15]))\n",
        "real_values = sc.inverse_transform(X_test[:15].reshape(-1,1))"
      ],
      "metadata": {
        "id": "UwZ9GzpKCybC",
        "colab": {
          "base_uri": "https://localhost:8080/",
          "height": 378
        },
        "outputId": "b2715a5d-36df-4467-ae82-55d0d79c1af4"
      },
      "execution_count": null,
      "outputs": [
        {
          "output_type": "error",
          "ename": "ValueError",
          "evalue": "ignored",
          "traceback": [
            "\u001b[0;31m---------------------------------------------------------------------------\u001b[0m",
            "\u001b[0;31mValueError\u001b[0m                                Traceback (most recent call last)",
            "\u001b[0;32m<ipython-input-73-86f0ff4ad71e>\u001b[0m in \u001b[0;36m<module>\u001b[0;34m()\u001b[0m\n\u001b[1;32m      1\u001b[0m \u001b[0;31m# predict\u001b[0m\u001b[0;34m\u001b[0m\u001b[0;34m\u001b[0m\u001b[0;34m\u001b[0m\u001b[0m\n\u001b[0;32m----> 2\u001b[0;31m \u001b[0mpredictions\u001b[0m \u001b[0;34m=\u001b[0m \u001b[0msc\u001b[0m\u001b[0;34m.\u001b[0m\u001b[0minverse_transform\u001b[0m\u001b[0;34m(\u001b[0m\u001b[0mmodel\u001b[0m\u001b[0;34m.\u001b[0m\u001b[0mpredict\u001b[0m\u001b[0;34m(\u001b[0m\u001b[0mX_test\u001b[0m\u001b[0;34m[\u001b[0m\u001b[0;34m:\u001b[0m\u001b[0;36m15\u001b[0m\u001b[0;34m]\u001b[0m\u001b[0;34m)\u001b[0m\u001b[0;34m)\u001b[0m\u001b[0;34m\u001b[0m\u001b[0;34m\u001b[0m\u001b[0m\n\u001b[0m\u001b[1;32m      3\u001b[0m \u001b[0mreal_values\u001b[0m \u001b[0;34m=\u001b[0m \u001b[0msc\u001b[0m\u001b[0;34m.\u001b[0m\u001b[0minverse_transform\u001b[0m\u001b[0;34m(\u001b[0m\u001b[0mX_test\u001b[0m\u001b[0;34m[\u001b[0m\u001b[0;34m:\u001b[0m\u001b[0;36m15\u001b[0m\u001b[0;34m]\u001b[0m\u001b[0;34m.\u001b[0m\u001b[0mreshape\u001b[0m\u001b[0;34m(\u001b[0m\u001b[0;34m-\u001b[0m\u001b[0;36m1\u001b[0m\u001b[0;34m,\u001b[0m\u001b[0;36m1\u001b[0m\u001b[0;34m)\u001b[0m\u001b[0;34m)\u001b[0m\u001b[0;34m\u001b[0m\u001b[0;34m\u001b[0m\u001b[0m\n",
            "\u001b[0;32m/usr/local/lib/python3.7/dist-packages/sklearn/preprocessing/_data.py\u001b[0m in \u001b[0;36minverse_transform\u001b[0;34m(self, X, copy)\u001b[0m\n\u001b[1;32m   1020\u001b[0m             \u001b[0mestimator\u001b[0m\u001b[0;34m=\u001b[0m\u001b[0mself\u001b[0m\u001b[0;34m,\u001b[0m\u001b[0;34m\u001b[0m\u001b[0;34m\u001b[0m\u001b[0m\n\u001b[1;32m   1021\u001b[0m             \u001b[0mdtype\u001b[0m\u001b[0;34m=\u001b[0m\u001b[0mFLOAT_DTYPES\u001b[0m\u001b[0;34m,\u001b[0m\u001b[0;34m\u001b[0m\u001b[0;34m\u001b[0m\u001b[0m\n\u001b[0;32m-> 1022\u001b[0;31m             \u001b[0mforce_all_finite\u001b[0m\u001b[0;34m=\u001b[0m\u001b[0;34m\"allow-nan\"\u001b[0m\u001b[0;34m,\u001b[0m\u001b[0;34m\u001b[0m\u001b[0;34m\u001b[0m\u001b[0m\n\u001b[0m\u001b[1;32m   1023\u001b[0m         )\n\u001b[1;32m   1024\u001b[0m \u001b[0;34m\u001b[0m\u001b[0m\n",
            "\u001b[0;32m/usr/local/lib/python3.7/dist-packages/sklearn/utils/validation.py\u001b[0m in \u001b[0;36mcheck_array\u001b[0;34m(array, accept_sparse, accept_large_sparse, dtype, order, copy, force_all_finite, ensure_2d, allow_nd, ensure_min_samples, ensure_min_features, estimator)\u001b[0m\n\u001b[1;32m    794\u001b[0m             raise ValueError(\n\u001b[1;32m    795\u001b[0m                 \u001b[0;34m\"Found array with dim %d. %s expected <= 2.\"\u001b[0m\u001b[0;34m\u001b[0m\u001b[0;34m\u001b[0m\u001b[0m\n\u001b[0;32m--> 796\u001b[0;31m                 \u001b[0;34m%\u001b[0m \u001b[0;34m(\u001b[0m\u001b[0marray\u001b[0m\u001b[0;34m.\u001b[0m\u001b[0mndim\u001b[0m\u001b[0;34m,\u001b[0m \u001b[0mestimator_name\u001b[0m\u001b[0;34m)\u001b[0m\u001b[0;34m\u001b[0m\u001b[0;34m\u001b[0m\u001b[0m\n\u001b[0m\u001b[1;32m    797\u001b[0m             )\n\u001b[1;32m    798\u001b[0m \u001b[0;34m\u001b[0m\u001b[0m\n",
            "\u001b[0;31mValueError\u001b[0m: Found array with dim 3. StandardScaler expected <= 2."
          ]
        }
      ]
    },
    {
      "cell_type": "code",
      "source": [
        "predictions"
      ],
      "metadata": {
        "id": "lpfMiA01Cyds",
        "colab": {
          "base_uri": "https://localhost:8080/",
          "height": 172
        },
        "outputId": "fd4afb4c-8ae1-4caa-9515-aa6f22c41105"
      },
      "execution_count": null,
      "outputs": [
        {
          "output_type": "error",
          "ename": "NameError",
          "evalue": "ignored",
          "traceback": [
            "\u001b[0;31m---------------------------------------------------------------------------\u001b[0m",
            "\u001b[0;31mNameError\u001b[0m                                 Traceback (most recent call last)",
            "\u001b[0;32m<ipython-input-74-fd2951b82103>\u001b[0m in \u001b[0;36m<module>\u001b[0;34m()\u001b[0m\n\u001b[0;32m----> 1\u001b[0;31m \u001b[0mpredictions\u001b[0m\u001b[0;34m\u001b[0m\u001b[0;34m\u001b[0m\u001b[0m\n\u001b[0m",
            "\u001b[0;31mNameError\u001b[0m: name 'predictions' is not defined"
          ]
        }
      ]
    },
    {
      "cell_type": "code",
      "source": [
        "real_values"
      ],
      "metadata": {
        "id": "G37UA25ZDo7e"
      },
      "execution_count": null,
      "outputs": []
    },
    {
      "cell_type": "code",
      "source": [
        "predictions = sc.inverse_transform(model.predict(X_test[:5]))\n",
        "real_values = sc.inverse_transform(y_test[:50].reshape(-1,1))\n"
      ],
      "metadata": {
        "id": "y-PflsIKDwXW"
      },
      "execution_count": null,
      "outputs": []
    },
    {
      "cell_type": "code",
      "source": [
        "plt.rcParams[\"figure.figsize\"] = (16, 4)\n",
        "plot_predictions(sc.inverse_transform(y_test.reshape(-1,1)), sc.inverse_transform(model.predict(X_test)))\n"
      ],
      "metadata": {
        "id": "7xAzGZRtDc0u"
      },
      "execution_count": null,
      "outputs": []
    },
    {
      "cell_type": "code",
      "source": [
        "my_sample = stock_data[-6:-1]['Close'].to_numpy().reshape(5,1)\n",
        "\n",
        "scaled_sample = sc.transform(my_sample)\n",
        "sample = scaled_sample.reshape((1, 5, 1))\n",
        "sc.inverse_transform(model.predict(sample))\n",
        "# my_sample\n",
        "# stock_data[-6:-1]"
      ],
      "metadata": {
        "id": "EW4k2WXfbwfU"
      },
      "execution_count": null,
      "outputs": []
    },
    {
      "cell_type": "code",
      "source": [
        "##############################\n",
        "company = \"aapl\"\n",
        "predict_field = 'Close'\n",
        "features = ['High', 'Low', 'Open', 'Close', 'Volume']\n",
        "sequence_length = 5\n",
        "train_data_from = '2000'\n",
        "train_data_to = '2018'\n",
        "test_data_from = '2019'\n",
        "##############################"
      ],
      "metadata": {
        "id": "y_pJ4mX2RzAJ"
      },
      "execution_count": null,
      "outputs": []
    },
    {
      "cell_type": "markdown",
      "metadata": {
        "id": "PXFQwYTb1TkG"
      },
      "source": [
        "##------------------Modeling-----------------------"
      ]
    },
    {
      "cell_type": "markdown",
      "metadata": {
        "id": "WKHMLYPp2dwB"
      },
      "source": [
        "##Set Features"
      ]
    },
    {
      "cell_type": "code",
      "metadata": {
        "id": "9pDcvLiZwB6o"
      },
      "source": [
        "param_to_drop = ['Date', 'Ticker', 'Open', 'High', 'Low', 'Close', 'Adj Close', 'Target_class', 'Target_class_pec', 'Target_class_label']\n",
        "\n",
        "X = df_stock_data.drop(columns=param_to_drop)\n",
        "y = df_stock_data['Target_class_label']\n"
      ],
      "execution_count": null,
      "outputs": []
    },
    {
      "cell_type": "markdown",
      "metadata": {
        "id": "p2AYN88z2WCa"
      },
      "source": [
        "##Set train/ test"
      ]
    },
    {
      "cell_type": "code",
      "metadata": {
        "id": "-uF9SK9w3k9P"
      },
      "source": [
        "X_train, X_test, y_train, y_test = train_test_split(X, y, test_size = 0.2, random_state = 88, stratify = y)"
      ],
      "execution_count": null,
      "outputs": []
    },
    {
      "cell_type": "markdown",
      "metadata": {
        "id": "QUoaaxO030u5"
      },
      "source": [
        "#Normalize (func)"
      ]
    },
    {
      "cell_type": "code",
      "metadata": {
        "id": "tmrVVU8X317R"
      },
      "source": [
        "def normalize_data_stocks(X_train, X_test):\n",
        "  scaler = StandardScaler()\n",
        "  X_train = scaler.fit_transform(X_train)\n",
        "  X_train = pd.DataFrame(X_train, columns=X.columns)\n",
        "  X_test = scaler.transform(X_test)\n",
        "  X_test = pd.DataFrame(X_test, columns=X.columns)\n",
        "  return scaler, X_train, X_test"
      ],
      "execution_count": null,
      "outputs": []
    },
    {
      "cell_type": "markdown",
      "metadata": {
        "id": "1WDQX6JHovWD"
      },
      "source": [
        "#Correlation HeatMap (func)"
      ]
    },
    {
      "cell_type": "code",
      "metadata": {
        "id": "2lAoGzFWPh3j"
      },
      "source": [
        "def correaltion_heatmap():\n",
        "  names = X.columns\n",
        "  correlations = X.corr()\n",
        "\n",
        "  # plot correlation matrix\n",
        "  fig = plt.figure()\n",
        "  ax = fig.add_subplot(111)\n",
        "  cax = ax.matshow(correlations, vmin=-1, vmax=1)\n",
        "  fig.colorbar(cax)\n",
        "  ticks = np.arange(0,len(names),1)\n",
        "  ax.set_xticks(ticks)\n",
        "  ax.set_yticks(ticks)\n",
        "  ax.set_xticklabels(names, rotation = 90)\n",
        "  ax.set_yticklabels(names)\n",
        "  plt.show()"
      ],
      "execution_count": null,
      "outputs": []
    },
    {
      "cell_type": "markdown",
      "metadata": {
        "id": "sJIx31IIFhrd"
      },
      "source": [
        "#Feature Selection"
      ]
    },
    {
      "cell_type": "code",
      "metadata": {
        "id": "c15urhqPFgaJ"
      },
      "source": [
        "from xgboost import XGBClassifier\n",
        "from xgboost import plot_importance\n",
        "\n",
        "# fit model to training data\n",
        "xgb_model = XGBClassifier(random_state = 0,max_depth=5 )\n",
        "xgb_model.fit(X_train, y_train)\n",
        "\n",
        "print(\"Feature Importances : \", xgb_model.feature_importances_)\n",
        "# importances_xgb = xgb_model.feature_importances_\n",
        "\n",
        "# plot feature importance\n",
        "sns.set(rc={'figure.figsize':(30,15)})\n",
        "plot_importance(xgb_model)\n",
        "plt.show()\n"
      ],
      "execution_count": null,
      "outputs": []
    },
    {
      "cell_type": "code",
      "metadata": {
        "id": "Za_lBo5Bv-_G"
      },
      "source": [
        "from sklearn.ensemble import RandomForestClassifier #Random Forest\n",
        "\n",
        "forest = RandomForestClassifier(n_estimators=500,random_state=1,n_jobs=-1)\n",
        "forest.fit(X, y)"
      ],
      "execution_count": null,
      "outputs": []
    },
    {
      "cell_type": "code",
      "metadata": {
        "id": "9I6TkQy2yEDV"
      },
      "source": [
        "Importance = pd.DataFrame({'Importance':forest.feature_importances_*100}, index=X.columns)\n",
        "Importance = Importance.nlargest(40,'Importance')\n",
        "print(Importance.sort_values('Importance', axis=0, ascending=False))\n",
        "\n",
        "Importance.sort_values('Importance', axis=0, ascending=True).plot(kind='barh', color='g', )\n",
        "sns.set(rc={'figure.figsize':(30,15)})\n",
        "plt.xlabel('Variable Importance')\n",
        "plt.gca().legend_ = None"
      ],
      "execution_count": null,
      "outputs": []
    },
    {
      "cell_type": "code",
      "metadata": {
        "id": "i8gNefIN6jHm"
      },
      "source": [
        "# saved optimal features as dataframe\n",
        "col_list= pd.DataFrame(Importance).transpose().columns\n",
        "col_list\n",
        "x=X[col_list]\n"
      ],
      "execution_count": null,
      "outputs": []
    },
    {
      "cell_type": "markdown",
      "metadata": {
        "id": "TQQg6hEY_8ji"
      },
      "source": [
        "# Select Best Model"
      ]
    },
    {
      "cell_type": "code",
      "source": [
        "\n",
        "# # Decision Tree - grid search\n",
        "# from sklearn import model_selection\n",
        "\n",
        "# grid = {'min_samples_split': [2, 20, 50, 100], 'max_depth': [None, 3, 5, 10], 'max_leaf_nodes': [None, 500, 600],}\n",
        "\n",
        "# grid_search = model_selection.GridSearchCV(dtree, param_grid=grid, scoring='f1_weighted', cv=5, n_jobs=20, verbose=10)\n",
        "\n",
        "# # find k-best\n",
        "# k_to_score = {}\n",
        "# k_to_r2 = {}\n",
        "# for k in range(1, 101):\n",
        "#   temp_model = KNeighborsRegressor(n_neighbors=k, weights='distance')\n",
        "#   temp_model.fit(X_train, y_train)\n",
        "#   score = metrics.mean_absolute_error(y_test, temp_model.predict(X_test))\n",
        "#   k_to_score[k] = score\n",
        "#   k_to_r2[k] = temp_model.score(X_test, y_test)"
      ],
      "metadata": {
        "id": "74MAQl3NNCKq"
      },
      "execution_count": null,
      "outputs": []
    },
    {
      "cell_type": "code",
      "metadata": {
        "id": "LgoNqnbG02KI"
      },
      "source": [
        "# Spot Check Algorithms\n",
        "data_Selected = []\n",
        "data_Selected.append(('KNN', KNeighborsClassifier()))\n",
        "data_Selected.append(('CART', DecisionTreeClassifier()))\n",
        "data_Selected.append(('SVM', SVC()))\n",
        "data_Selected.append(('RF', RandomForestClassifier()))\n",
        "data_Selected.append(('NB', GaussianNB()))\n",
        "data_Selected\n",
        "\n",
        "# evaluate each model in turn\n",
        "results = []\n",
        "names = []\n",
        "score=['f1','accuracy','precison','recall']\n",
        "for name, model in data_Selected:\n",
        "    kfold = model_selection.KFold(n_splits=10, random_state=1, shuffle=True)\n",
        "    cv_results =cross_val_score(model, X_train, y_train, cv=kfold, scoring='accuracy')\n",
        "    results.append(cv_results)\n",
        "    names.append(name)\n",
        "    output = \"%s: %f (%f)\" % (name, cv_results.mean(), cv_results.std())\n",
        "    print(output)"
      ],
      "execution_count": null,
      "outputs": []
    },
    {
      "cell_type": "code",
      "metadata": {
        "id": "S4UkCP0g3zSv"
      },
      "source": [
        "fig = plt.figure(figsize=(5,5))\n",
        "fig.suptitle('Algorithm Comparison')\n",
        "ax = fig.add_subplot(111)\n",
        "plt.boxplot(results)\n",
        "ax.set_xticklabels(names)\n",
        "plt.show()"
      ],
      "execution_count": null,
      "outputs": []
    },
    {
      "cell_type": "code",
      "metadata": {
        "id": "aiOxkySBR0QR"
      },
      "source": [
        "rf = RandomForestClassifier(n_estimators=500, min_samples_split=5,min_samples_leaf =2,max_features = 10, n_jobs=4, criterion='gini')\n",
        "predy=rf.fit(X_train, y_train)"
      ],
      "execution_count": null,
      "outputs": []
    },
    {
      "cell_type": "code",
      "source": [
        "pred_rf= rf.predict(X_test)"
      ],
      "metadata": {
        "id": "16sAYHs10E1G"
      },
      "execution_count": null,
      "outputs": []
    },
    {
      "cell_type": "markdown",
      "source": [
        "# Print Results (func)"
      ],
      "metadata": {
        "id": "2NENYOIIQKjD"
      }
    },
    {
      "cell_type": "code",
      "metadata": {
        "id": "NhWFzZ9bSE24"
      },
      "source": [
        "def print_results():\n",
        "  print(accuracy_score(y_test, pred_rf))\n",
        "  print(confusion_matrix(y_test, pred_rf))\n",
        "  print(classification_report(y_test, pred_rf))"
      ],
      "execution_count": null,
      "outputs": []
    },
    {
      "cell_type": "markdown",
      "metadata": {
        "id": "YAKLv6NxIHxC"
      },
      "source": [
        "#Prediction\n"
      ]
    },
    {
      "cell_type": "code",
      "metadata": {
        "id": "N0q4_8d6SEBd"
      },
      "source": [
        "last_date = df_stock_data[df_stock_data['Date']==df_stock_data['Date'].max()]\n",
        "last_date = last_date.drop(columns=param_to_drop)\n",
        "pred_rf= rf.predict(last_date)\n",
        "pred_rf[0]"
      ],
      "execution_count": null,
      "outputs": []
    },
    {
      "cell_type": "markdown",
      "metadata": {
        "id": "n0837vZwnDB_"
      },
      "source": [
        "#----------------Export Data-----------------"
      ]
    },
    {
      "cell_type": "markdown",
      "source": [
        "## Save File in Drive"
      ],
      "metadata": {
        "id": "QAlWAqwjQkqc"
      }
    },
    {
      "cell_type": "code",
      "source": [
        "# root = '/content/drive/MyDrive/Final Project/'\n",
        "# stock_data.to_csv(root + \"Trading_Algorithem2.csv\", sep=',')"
      ],
      "metadata": {
        "id": "Q_dprKt80Kns"
      },
      "execution_count": null,
      "outputs": []
    },
    {
      "cell_type": "code",
      "source": [
        ""
      ],
      "metadata": {
        "id": "4h-gkO7D7qvK"
      },
      "execution_count": null,
      "outputs": []
    }
  ]
}