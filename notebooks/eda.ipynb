{
 "cells": [
  {
   "cell_type": "code",
   "execution_count": 1,
   "metadata": {},
   "outputs": [],
   "source": [
    "import pandas as pd\n",
    "import numpy as np\n",
    "import sqlite3 as sql"
   ]
  },
  {
   "cell_type": "code",
   "execution_count": 2,
   "metadata": {},
   "outputs": [
    {
     "data": {
      "text/html": [
       "<div>\n",
       "<style scoped>\n",
       "    .dataframe tbody tr th:only-of-type {\n",
       "        vertical-align: middle;\n",
       "    }\n",
       "\n",
       "    .dataframe tbody tr th {\n",
       "        vertical-align: top;\n",
       "    }\n",
       "\n",
       "    .dataframe thead th {\n",
       "        text-align: right;\n",
       "    }\n",
       "</style>\n",
       "<table border=\"1\" class=\"dataframe\">\n",
       "  <thead>\n",
       "    <tr style=\"text-align: right;\">\n",
       "      <th></th>\n",
       "      <th>index</th>\n",
       "      <th>number_of_siblings</th>\n",
       "      <th>direct_admission</th>\n",
       "      <th>CCA</th>\n",
       "      <th>learning_style</th>\n",
       "      <th>student_id</th>\n",
       "      <th>gender</th>\n",
       "      <th>tuition</th>\n",
       "      <th>final_test</th>\n",
       "      <th>n_male</th>\n",
       "      <th>n_female</th>\n",
       "      <th>age</th>\n",
       "      <th>hours_per_week</th>\n",
       "      <th>attendance_rate</th>\n",
       "      <th>sleep_time</th>\n",
       "      <th>wake_time</th>\n",
       "      <th>mode_of_transport</th>\n",
       "      <th>bag_color</th>\n",
       "    </tr>\n",
       "  </thead>\n",
       "  <tbody>\n",
       "    <tr>\n",
       "      <th>0</th>\n",
       "      <td>0</td>\n",
       "      <td>0</td>\n",
       "      <td>Yes</td>\n",
       "      <td>Sports</td>\n",
       "      <td>Visual</td>\n",
       "      <td>ACN2BE</td>\n",
       "      <td>Female</td>\n",
       "      <td>No</td>\n",
       "      <td>69.0</td>\n",
       "      <td>14.0</td>\n",
       "      <td>2.0</td>\n",
       "      <td>16.0</td>\n",
       "      <td>10.0</td>\n",
       "      <td>91.0</td>\n",
       "      <td>22:00</td>\n",
       "      <td>6:00</td>\n",
       "      <td>private transport</td>\n",
       "      <td>yellow</td>\n",
       "    </tr>\n",
       "    <tr>\n",
       "      <th>1</th>\n",
       "      <td>1</td>\n",
       "      <td>2</td>\n",
       "      <td>No</td>\n",
       "      <td>Sports</td>\n",
       "      <td>Auditory</td>\n",
       "      <td>FGXIIZ</td>\n",
       "      <td>Female</td>\n",
       "      <td>No</td>\n",
       "      <td>47.0</td>\n",
       "      <td>4.0</td>\n",
       "      <td>19.0</td>\n",
       "      <td>16.0</td>\n",
       "      <td>7.0</td>\n",
       "      <td>94.0</td>\n",
       "      <td>22:30</td>\n",
       "      <td>6:30</td>\n",
       "      <td>private transport</td>\n",
       "      <td>green</td>\n",
       "    </tr>\n",
       "    <tr>\n",
       "      <th>2</th>\n",
       "      <td>2</td>\n",
       "      <td>0</td>\n",
       "      <td>Yes</td>\n",
       "      <td>None</td>\n",
       "      <td>Visual</td>\n",
       "      <td>B9AI9F</td>\n",
       "      <td>Male</td>\n",
       "      <td>No</td>\n",
       "      <td>85.0</td>\n",
       "      <td>14.0</td>\n",
       "      <td>2.0</td>\n",
       "      <td>15.0</td>\n",
       "      <td>8.0</td>\n",
       "      <td>92.0</td>\n",
       "      <td>22:30</td>\n",
       "      <td>6:30</td>\n",
       "      <td>private transport</td>\n",
       "      <td>white</td>\n",
       "    </tr>\n",
       "    <tr>\n",
       "      <th>3</th>\n",
       "      <td>3</td>\n",
       "      <td>1</td>\n",
       "      <td>No</td>\n",
       "      <td>Clubs</td>\n",
       "      <td>Auditory</td>\n",
       "      <td>FEVM1T</td>\n",
       "      <td>Female</td>\n",
       "      <td>Yes</td>\n",
       "      <td>64.0</td>\n",
       "      <td>2.0</td>\n",
       "      <td>20.0</td>\n",
       "      <td>15.0</td>\n",
       "      <td>18.0</td>\n",
       "      <td>NaN</td>\n",
       "      <td>21:00</td>\n",
       "      <td>5:00</td>\n",
       "      <td>public transport</td>\n",
       "      <td>yellow</td>\n",
       "    </tr>\n",
       "    <tr>\n",
       "      <th>4</th>\n",
       "      <td>4</td>\n",
       "      <td>0</td>\n",
       "      <td>No</td>\n",
       "      <td>Sports</td>\n",
       "      <td>Auditory</td>\n",
       "      <td>AXZN2E</td>\n",
       "      <td>Male</td>\n",
       "      <td>No</td>\n",
       "      <td>66.0</td>\n",
       "      <td>24.0</td>\n",
       "      <td>3.0</td>\n",
       "      <td>16.0</td>\n",
       "      <td>7.0</td>\n",
       "      <td>95.0</td>\n",
       "      <td>21:30</td>\n",
       "      <td>5:30</td>\n",
       "      <td>public transport</td>\n",
       "      <td>yellow</td>\n",
       "    </tr>\n",
       "  </tbody>\n",
       "</table>\n",
       "</div>"
      ],
      "text/plain": [
       "   index  number_of_siblings direct_admission     CCA learning_style  \\\n",
       "0      0                   0              Yes  Sports         Visual   \n",
       "1      1                   2               No  Sports       Auditory   \n",
       "2      2                   0              Yes    None         Visual   \n",
       "3      3                   1               No   Clubs       Auditory   \n",
       "4      4                   0               No  Sports       Auditory   \n",
       "\n",
       "  student_id  gender tuition  final_test  n_male  n_female   age  \\\n",
       "0     ACN2BE  Female      No        69.0    14.0       2.0  16.0   \n",
       "1     FGXIIZ  Female      No        47.0     4.0      19.0  16.0   \n",
       "2     B9AI9F    Male      No        85.0    14.0       2.0  15.0   \n",
       "3     FEVM1T  Female     Yes        64.0     2.0      20.0  15.0   \n",
       "4     AXZN2E    Male      No        66.0    24.0       3.0  16.0   \n",
       "\n",
       "   hours_per_week  attendance_rate sleep_time wake_time  mode_of_transport  \\\n",
       "0            10.0             91.0      22:00      6:00  private transport   \n",
       "1             7.0             94.0      22:30      6:30  private transport   \n",
       "2             8.0             92.0      22:30      6:30  private transport   \n",
       "3            18.0              NaN      21:00      5:00   public transport   \n",
       "4             7.0             95.0      21:30      5:30   public transport   \n",
       "\n",
       "  bag_color  \n",
       "0    yellow  \n",
       "1     green  \n",
       "2     white  \n",
       "3    yellow  \n",
       "4    yellow  "
      ]
     },
     "execution_count": 2,
     "metadata": {},
     "output_type": "execute_result"
    }
   ],
   "source": [
    "database = \"data/score.db\"\n",
    "connection =sql.connect(database)\n",
    "query = '''SELECT * FROM score'''\n",
    "df = pd.read_sql_query(query,connection)\n",
    "df.head() #ensure that the data is properly loaded"
   ]
  },
  {
   "cell_type": "code",
   "execution_count": 3,
   "metadata": {},
   "outputs": [
    {
     "name": "stdout",
     "output_type": "stream",
     "text": [
      "15900\n"
     ]
    }
   ],
   "source": [
    "print(len(df))"
   ]
  },
  {
   "cell_type": "markdown",
   "metadata": {},
   "source": [
    "# Part 1| Data Cleaning\n",
    "\n",
    "The features can be split into three types of data namely; \n",
    "1. Numerical, 2. Binary and 3. Categorical\n",
    "\n",
    "Index number is a unique key ID which has not much relevance (Rec to remove)\n",
    "\n",
    "Target Variable: Final_test"
   ]
  },
  {
   "cell_type": "code",
   "execution_count": 4,
   "metadata": {},
   "outputs": [],
   "source": [
    "import pandas as pd\n",
    "import matplotlib.pyplot as plt\n",
    "import seaborn as sns\n",
    "import numpy as np\n",
    "import itertools\n",
    "from scipy.stats import norm\n",
    "from scipy.special import boxcox1p\n",
    "from scipy.stats import boxcox_normmax\n",
    "from sklearn.preprocessing import StandardScaler\n",
    "from scipy import stats\n",
    "from scipy.stats import norm,skew\n",
    "from matplotlib.pyplot import figure\n",
    "from sklearn.linear_model import LinearRegression\n",
    "from sklearn.model_selection import train_test_split\n",
    "from sklearn.metrics import confusion_matrix, log_loss"
   ]
  },
  {
   "cell_type": "code",
   "execution_count": 5,
   "metadata": {},
   "outputs": [
    {
     "data": {
      "text/plain": [
       "index                   int64\n",
       "number_of_siblings      int64\n",
       "direct_admission       object\n",
       "CCA                    object\n",
       "learning_style         object\n",
       "student_id             object\n",
       "gender                 object\n",
       "tuition                object\n",
       "final_test            float64\n",
       "n_male                float64\n",
       "n_female              float64\n",
       "age                   float64\n",
       "hours_per_week        float64\n",
       "attendance_rate       float64\n",
       "sleep_time             object\n",
       "wake_time              object\n",
       "mode_of_transport      object\n",
       "bag_color              object\n",
       "dtype: object"
      ]
     },
     "execution_count": 5,
     "metadata": {},
     "output_type": "execute_result"
    }
   ],
   "source": [
    "df.dtypes #check what type of features we are dealing with"
   ]
  },
  {
   "cell_type": "code",
   "execution_count": 6,
   "metadata": {},
   "outputs": [
    {
     "data": {
      "text/html": [
       "<div>\n",
       "<style scoped>\n",
       "    .dataframe tbody tr th:only-of-type {\n",
       "        vertical-align: middle;\n",
       "    }\n",
       "\n",
       "    .dataframe tbody tr th {\n",
       "        vertical-align: top;\n",
       "    }\n",
       "\n",
       "    .dataframe thead th {\n",
       "        text-align: right;\n",
       "    }\n",
       "</style>\n",
       "<table border=\"1\" class=\"dataframe\">\n",
       "  <thead>\n",
       "    <tr style=\"text-align: right;\">\n",
       "      <th></th>\n",
       "      <th>column_name</th>\n",
       "      <th>percent_missing</th>\n",
       "    </tr>\n",
       "  </thead>\n",
       "  <tbody>\n",
       "    <tr>\n",
       "      <th>index</th>\n",
       "      <td>index</td>\n",
       "      <td>0.000000</td>\n",
       "    </tr>\n",
       "    <tr>\n",
       "      <th>wake_time</th>\n",
       "      <td>wake_time</td>\n",
       "      <td>0.000000</td>\n",
       "    </tr>\n",
       "    <tr>\n",
       "      <th>sleep_time</th>\n",
       "      <td>sleep_time</td>\n",
       "      <td>0.000000</td>\n",
       "    </tr>\n",
       "    <tr>\n",
       "      <th>hours_per_week</th>\n",
       "      <td>hours_per_week</td>\n",
       "      <td>0.000000</td>\n",
       "    </tr>\n",
       "    <tr>\n",
       "      <th>age</th>\n",
       "      <td>age</td>\n",
       "      <td>0.000000</td>\n",
       "    </tr>\n",
       "    <tr>\n",
       "      <th>n_female</th>\n",
       "      <td>n_female</td>\n",
       "      <td>0.000000</td>\n",
       "    </tr>\n",
       "    <tr>\n",
       "      <th>n_male</th>\n",
       "      <td>n_male</td>\n",
       "      <td>0.000000</td>\n",
       "    </tr>\n",
       "    <tr>\n",
       "      <th>mode_of_transport</th>\n",
       "      <td>mode_of_transport</td>\n",
       "      <td>0.000000</td>\n",
       "    </tr>\n",
       "    <tr>\n",
       "      <th>bag_color</th>\n",
       "      <td>bag_color</td>\n",
       "      <td>0.000000</td>\n",
       "    </tr>\n",
       "    <tr>\n",
       "      <th>gender</th>\n",
       "      <td>gender</td>\n",
       "      <td>0.000000</td>\n",
       "    </tr>\n",
       "    <tr>\n",
       "      <th>student_id</th>\n",
       "      <td>student_id</td>\n",
       "      <td>0.000000</td>\n",
       "    </tr>\n",
       "    <tr>\n",
       "      <th>learning_style</th>\n",
       "      <td>learning_style</td>\n",
       "      <td>0.000000</td>\n",
       "    </tr>\n",
       "    <tr>\n",
       "      <th>CCA</th>\n",
       "      <td>CCA</td>\n",
       "      <td>0.000000</td>\n",
       "    </tr>\n",
       "    <tr>\n",
       "      <th>direct_admission</th>\n",
       "      <td>direct_admission</td>\n",
       "      <td>0.000000</td>\n",
       "    </tr>\n",
       "    <tr>\n",
       "      <th>number_of_siblings</th>\n",
       "      <td>number_of_siblings</td>\n",
       "      <td>0.000000</td>\n",
       "    </tr>\n",
       "    <tr>\n",
       "      <th>tuition</th>\n",
       "      <td>tuition</td>\n",
       "      <td>0.000000</td>\n",
       "    </tr>\n",
       "    <tr>\n",
       "      <th>final_test</th>\n",
       "      <td>final_test</td>\n",
       "      <td>3.113208</td>\n",
       "    </tr>\n",
       "    <tr>\n",
       "      <th>attendance_rate</th>\n",
       "      <td>attendance_rate</td>\n",
       "      <td>4.893082</td>\n",
       "    </tr>\n",
       "  </tbody>\n",
       "</table>\n",
       "</div>"
      ],
      "text/plain": [
       "                           column_name  percent_missing\n",
       "index                            index         0.000000\n",
       "wake_time                    wake_time         0.000000\n",
       "sleep_time                  sleep_time         0.000000\n",
       "hours_per_week          hours_per_week         0.000000\n",
       "age                                age         0.000000\n",
       "n_female                      n_female         0.000000\n",
       "n_male                          n_male         0.000000\n",
       "mode_of_transport    mode_of_transport         0.000000\n",
       "bag_color                    bag_color         0.000000\n",
       "gender                          gender         0.000000\n",
       "student_id                  student_id         0.000000\n",
       "learning_style          learning_style         0.000000\n",
       "CCA                                CCA         0.000000\n",
       "direct_admission      direct_admission         0.000000\n",
       "number_of_siblings  number_of_siblings         0.000000\n",
       "tuition                        tuition         0.000000\n",
       "final_test                  final_test         3.113208\n",
       "attendance_rate        attendance_rate         4.893082"
      ]
     },
     "execution_count": 6,
     "metadata": {},
     "output_type": "execute_result"
    }
   ],
   "source": [
    "percent_missing = df.isnull().sum() * 100 / len(df)\n",
    "missing_value_df = pd.DataFrame({'column_name': df.columns,\n",
    "                                 'percent_missing': percent_missing})\n",
    "missing_value_df.sort_values('percent_missing', inplace =True)\n",
    "missing_value_df"
   ]
  },
  {
   "cell_type": "markdown",
   "metadata": {},
   "source": [
    "We can see that both attendance_rate and final_test has empty values. In order to determine if median or mode fill should be used, a hisotogram plot will determine if each features are filled with outliers"
   ]
  },
  {
   "cell_type": "code",
   "execution_count": 7,
   "metadata": {},
   "outputs": [
    {
     "name": "stderr",
     "output_type": "stream",
     "text": [
      "<ipython-input-7-0667065ac35b>:7: MatplotlibDeprecationWarning: Adding an axes using the same arguments as a previous axes currently reuses the earlier instance.  In a future version, a new instance will always be created and returned.  Meanwhile, this warning can be suppressed, and the future behavior ensured, by passing a unique label to each axes instance.\n",
      "  plt.subplot(1,2,1)\n"
     ]
    },
    {
     "data": {
      "text/plain": [
       "Text(0.5, 1.0, 'attendance_rate Distribution')"
      ]
     },
     "execution_count": 7,
     "metadata": {},
     "output_type": "execute_result"
    },
    {
     "data": {
      "image/png": "[encoded data removed]",
      "text/plain": [
       "<Figure size 1080x360 with 1 Axes>"
      ]
     },
     "metadata": {
      "needs_background": "light"
     },
     "output_type": "display_data"
    },
    {
     "data": {
      "image/png": "[encoded data removed]",
      "text/plain": [
       "<Figure size 1080x360 with 1 Axes>"
      ]
     },
     "metadata": {
      "needs_background": "light"
     },
     "output_type": "display_data"
    }
   ],
   "source": [
    "fig =plt.figure(figsize=(15,5))\n",
    "plt.subplot(1,2,1)\n",
    "sns.distplot(df['final_test'], fit=norm);\n",
    "plt.legend(['Normal dist'],loc='best')\n",
    "plt.ylabel('final_test Frequency')\n",
    "plt.title('final_test Distribution')\n",
    "plt.subplot(1,2,1)\n",
    "\n",
    "fig =plt.figure(figsize=(15,5))\n",
    "plt.subplot(1,2,2)\n",
    "sns.distplot(df['attendance_rate'], fit=norm);\n",
    "plt.legend(['Normal dist'],loc='best')\n",
    "plt.ylabel('attendace_rate Frequency')\n",
    "plt.title('attendance_rate Distribution')"
   ]
  },
  {
   "cell_type": "markdown",
   "metadata": {},
   "source": [
    "There is not need to do any log transformation on the target feature as the feature is already normally ditributed.\n",
    "\n",
    "Conclusion: Use mean fill for final test as the tests are normally distributed and, use median fill for attendace rate as they are negatively skewed."
   ]
  },
  {
   "cell_type": "code",
   "execution_count": 8,
   "metadata": {},
   "outputs": [
    {
     "data": {
      "text/plain": [
       "index                 0\n",
       "number_of_siblings    0\n",
       "direct_admission      0\n",
       "CCA                   0\n",
       "learning_style        0\n",
       "student_id            0\n",
       "gender                0\n",
       "tuition               0\n",
       "final_test            0\n",
       "n_male                0\n",
       "n_female              0\n",
       "age                   0\n",
       "hours_per_week        0\n",
       "attendance_rate       0\n",
       "sleep_time            0\n",
       "wake_time             0\n",
       "mode_of_transport     0\n",
       "bag_color             0\n",
       "dtype: int64"
      ]
     },
     "execution_count": 8,
     "metadata": {},
     "output_type": "execute_result"
    }
   ],
   "source": [
    "df['final_test']=df['final_test'].fillna(df['final_test'].mean())\n",
    "df['attendance_rate']=df['attendance_rate'].fillna(df['attendance_rate'].median())\n",
    "#check if any null left\n",
    "df.isnull().sum()"
   ]
  },
  {
   "cell_type": "markdown",
   "metadata": {},
   "source": [
    "## Check for duplicates\n",
    "\n",
    "It is unlikely that there will be duplicates across every feature, should there be 1, it will liklely be an abnomally."
   ]
  },
  {
   "cell_type": "code",
   "execution_count": 9,
   "metadata": {},
   "outputs": [
    {
     "name": "stdout",
     "output_type": "stream",
     "text": [
      "Empty DataFrame\n",
      "Columns: [index, number_of_siblings, direct_admission, CCA, learning_style, student_id, gender, tuition, final_test, n_male, n_female, age, hours_per_week, attendance_rate, sleep_time, wake_time, mode_of_transport, bag_color]\n",
      "Index: []\n"
     ]
    }
   ],
   "source": [
    "dupdf= df[df.duplicated()]\n",
    "print(dupdf)"
   ]
  },
  {
   "cell_type": "markdown",
   "metadata": {},
   "source": [
    "# Part 2 | Feature visualisation + Engineering\n",
    "\n",
    "Starting off with a heatmap of numerical features. We will analyse each feature individually to see if there are any insights to be derived.\n",
    "\n",
    "In addition, additional features will be engineered that will supposedly help improve the interpretability of the dataset. Optimistically, these features should also help to improve the performance of data."
   ]
  },
  {
   "cell_type": "markdown",
   "metadata": {},
   "source": [
    "## Feature creation: Sleeping time, total hours\n",
    "Since sleep and wake time are both objects, have to convert them to strings then to integer. \n",
    "Studies have also shown that students who have longer sleep tend to do better at school, therefore a new feature hours_slept will be created."
   ]
  },
  {
   "cell_type": "code",
   "execution_count": 10,
   "metadata": {},
   "outputs": [
    {
     "data": {
      "text/html": [
       "<div>\n",
       "<style scoped>\n",
       "    .dataframe tbody tr th:only-of-type {\n",
       "        vertical-align: middle;\n",
       "    }\n",
       "\n",
       "    .dataframe tbody tr th {\n",
       "        vertical-align: top;\n",
       "    }\n",
       "\n",
       "    .dataframe thead th {\n",
       "        text-align: right;\n",
       "    }\n",
       "</style>\n",
       "<table border=\"1\" class=\"dataframe\">\n",
       "  <thead>\n",
       "    <tr style=\"text-align: right;\">\n",
       "      <th></th>\n",
       "      <th>index</th>\n",
       "      <th>number_of_siblings</th>\n",
       "      <th>direct_admission</th>\n",
       "      <th>CCA</th>\n",
       "      <th>learning_style</th>\n",
       "      <th>student_id</th>\n",
       "      <th>gender</th>\n",
       "      <th>tuition</th>\n",
       "      <th>final_test</th>\n",
       "      <th>n_male</th>\n",
       "      <th>n_female</th>\n",
       "      <th>age</th>\n",
       "      <th>hours_per_week</th>\n",
       "      <th>attendance_rate</th>\n",
       "      <th>sleep_time</th>\n",
       "      <th>wake_time</th>\n",
       "      <th>mode_of_transport</th>\n",
       "      <th>bag_color</th>\n",
       "    </tr>\n",
       "  </thead>\n",
       "  <tbody>\n",
       "    <tr>\n",
       "      <th>0</th>\n",
       "      <td>0</td>\n",
       "      <td>0</td>\n",
       "      <td>Yes</td>\n",
       "      <td>Sports</td>\n",
       "      <td>Visual</td>\n",
       "      <td>ACN2BE</td>\n",
       "      <td>Female</td>\n",
       "      <td>No</td>\n",
       "      <td>69.0</td>\n",
       "      <td>14.0</td>\n",
       "      <td>2.0</td>\n",
       "      <td>16.0</td>\n",
       "      <td>10.0</td>\n",
       "      <td>91.0</td>\n",
       "      <td>22:00</td>\n",
       "      <td>6:00</td>\n",
       "      <td>private transport</td>\n",
       "      <td>yellow</td>\n",
       "    </tr>\n",
       "    <tr>\n",
       "      <th>1</th>\n",
       "      <td>1</td>\n",
       "      <td>2</td>\n",
       "      <td>No</td>\n",
       "      <td>Sports</td>\n",
       "      <td>Auditory</td>\n",
       "      <td>FGXIIZ</td>\n",
       "      <td>Female</td>\n",
       "      <td>No</td>\n",
       "      <td>47.0</td>\n",
       "      <td>4.0</td>\n",
       "      <td>19.0</td>\n",
       "      <td>16.0</td>\n",
       "      <td>7.0</td>\n",
       "      <td>94.0</td>\n",
       "      <td>22:30</td>\n",
       "      <td>6:30</td>\n",
       "      <td>private transport</td>\n",
       "      <td>green</td>\n",
       "    </tr>\n",
       "    <tr>\n",
       "      <th>2</th>\n",
       "      <td>2</td>\n",
       "      <td>0</td>\n",
       "      <td>Yes</td>\n",
       "      <td>None</td>\n",
       "      <td>Visual</td>\n",
       "      <td>B9AI9F</td>\n",
       "      <td>Male</td>\n",
       "      <td>No</td>\n",
       "      <td>85.0</td>\n",
       "      <td>14.0</td>\n",
       "      <td>2.0</td>\n",
       "      <td>15.0</td>\n",
       "      <td>8.0</td>\n",
       "      <td>92.0</td>\n",
       "      <td>22:30</td>\n",
       "      <td>6:30</td>\n",
       "      <td>private transport</td>\n",
       "      <td>white</td>\n",
       "    </tr>\n",
       "    <tr>\n",
       "      <th>3</th>\n",
       "      <td>3</td>\n",
       "      <td>1</td>\n",
       "      <td>No</td>\n",
       "      <td>Clubs</td>\n",
       "      <td>Auditory</td>\n",
       "      <td>FEVM1T</td>\n",
       "      <td>Female</td>\n",
       "      <td>Yes</td>\n",
       "      <td>64.0</td>\n",
       "      <td>2.0</td>\n",
       "      <td>20.0</td>\n",
       "      <td>15.0</td>\n",
       "      <td>18.0</td>\n",
       "      <td>95.0</td>\n",
       "      <td>21:00</td>\n",
       "      <td>5:00</td>\n",
       "      <td>public transport</td>\n",
       "      <td>yellow</td>\n",
       "    </tr>\n",
       "    <tr>\n",
       "      <th>4</th>\n",
       "      <td>4</td>\n",
       "      <td>0</td>\n",
       "      <td>No</td>\n",
       "      <td>Sports</td>\n",
       "      <td>Auditory</td>\n",
       "      <td>AXZN2E</td>\n",
       "      <td>Male</td>\n",
       "      <td>No</td>\n",
       "      <td>66.0</td>\n",
       "      <td>24.0</td>\n",
       "      <td>3.0</td>\n",
       "      <td>16.0</td>\n",
       "      <td>7.0</td>\n",
       "      <td>95.0</td>\n",
       "      <td>21:30</td>\n",
       "      <td>5:30</td>\n",
       "      <td>public transport</td>\n",
       "      <td>yellow</td>\n",
       "    </tr>\n",
       "    <tr>\n",
       "      <th>...</th>\n",
       "      <td>...</td>\n",
       "      <td>...</td>\n",
       "      <td>...</td>\n",
       "      <td>...</td>\n",
       "      <td>...</td>\n",
       "      <td>...</td>\n",
       "      <td>...</td>\n",
       "      <td>...</td>\n",
       "      <td>...</td>\n",
       "      <td>...</td>\n",
       "      <td>...</td>\n",
       "      <td>...</td>\n",
       "      <td>...</td>\n",
       "      <td>...</td>\n",
       "      <td>...</td>\n",
       "      <td>...</td>\n",
       "      <td>...</td>\n",
       "      <td>...</td>\n",
       "    </tr>\n",
       "    <tr>\n",
       "      <th>15895</th>\n",
       "      <td>15895</td>\n",
       "      <td>1</td>\n",
       "      <td>No</td>\n",
       "      <td>Clubs</td>\n",
       "      <td>Visual</td>\n",
       "      <td>XPECN2</td>\n",
       "      <td>Female</td>\n",
       "      <td>No</td>\n",
       "      <td>56.0</td>\n",
       "      <td>12.0</td>\n",
       "      <td>14.0</td>\n",
       "      <td>16.0</td>\n",
       "      <td>9.0</td>\n",
       "      <td>96.0</td>\n",
       "      <td>22:00</td>\n",
       "      <td>6:00</td>\n",
       "      <td>private transport</td>\n",
       "      <td>black</td>\n",
       "    </tr>\n",
       "    <tr>\n",
       "      <th>15896</th>\n",
       "      <td>15896</td>\n",
       "      <td>1</td>\n",
       "      <td>Yes</td>\n",
       "      <td>None</td>\n",
       "      <td>Auditory</td>\n",
       "      <td>7AMC7S</td>\n",
       "      <td>Male</td>\n",
       "      <td>Yes</td>\n",
       "      <td>85.0</td>\n",
       "      <td>17.0</td>\n",
       "      <td>5.0</td>\n",
       "      <td>16.0</td>\n",
       "      <td>7.0</td>\n",
       "      <td>91.0</td>\n",
       "      <td>22:30</td>\n",
       "      <td>6:30</td>\n",
       "      <td>private transport</td>\n",
       "      <td>white</td>\n",
       "    </tr>\n",
       "    <tr>\n",
       "      <th>15897</th>\n",
       "      <td>15897</td>\n",
       "      <td>1</td>\n",
       "      <td>Yes</td>\n",
       "      <td>Sports</td>\n",
       "      <td>Auditory</td>\n",
       "      <td>XKZ6VN</td>\n",
       "      <td>Female</td>\n",
       "      <td>Yes</td>\n",
       "      <td>76.0</td>\n",
       "      <td>7.0</td>\n",
       "      <td>10.0</td>\n",
       "      <td>15.0</td>\n",
       "      <td>7.0</td>\n",
       "      <td>93.0</td>\n",
       "      <td>23:00</td>\n",
       "      <td>7:00</td>\n",
       "      <td>walk</td>\n",
       "      <td>red</td>\n",
       "    </tr>\n",
       "    <tr>\n",
       "      <th>15898</th>\n",
       "      <td>15898</td>\n",
       "      <td>1</td>\n",
       "      <td>No</td>\n",
       "      <td>Clubs</td>\n",
       "      <td>Visual</td>\n",
       "      <td>2OU4UQ</td>\n",
       "      <td>Male</td>\n",
       "      <td>Yes</td>\n",
       "      <td>45.0</td>\n",
       "      <td>18.0</td>\n",
       "      <td>12.0</td>\n",
       "      <td>16.0</td>\n",
       "      <td>3.0</td>\n",
       "      <td>94.0</td>\n",
       "      <td>23:00</td>\n",
       "      <td>7:00</td>\n",
       "      <td>walk</td>\n",
       "      <td>yellow</td>\n",
       "    </tr>\n",
       "    <tr>\n",
       "      <th>15899</th>\n",
       "      <td>15899</td>\n",
       "      <td>2</td>\n",
       "      <td>Yes</td>\n",
       "      <td>None</td>\n",
       "      <td>Visual</td>\n",
       "      <td>D9OKLV</td>\n",
       "      <td>Male</td>\n",
       "      <td>No</td>\n",
       "      <td>87.0</td>\n",
       "      <td>11.0</td>\n",
       "      <td>7.0</td>\n",
       "      <td>16.0</td>\n",
       "      <td>9.0</td>\n",
       "      <td>91.0</td>\n",
       "      <td>23:00</td>\n",
       "      <td>7:00</td>\n",
       "      <td>walk</td>\n",
       "      <td>yellow</td>\n",
       "    </tr>\n",
       "  </tbody>\n",
       "</table>\n",
       "<p>15900 rows × 18 columns</p>\n",
       "</div>"
      ],
      "text/plain": [
       "       index  number_of_siblings direct_admission     CCA learning_style  \\\n",
       "0          0                   0              Yes  Sports         Visual   \n",
       "1          1                   2               No  Sports       Auditory   \n",
       "2          2                   0              Yes    None         Visual   \n",
       "3          3                   1               No   Clubs       Auditory   \n",
       "4          4                   0               No  Sports       Auditory   \n",
       "...      ...                 ...              ...     ...            ...   \n",
       "15895  15895                   1               No   Clubs         Visual   \n",
       "15896  15896                   1              Yes    None       Auditory   \n",
       "15897  15897                   1              Yes  Sports       Auditory   \n",
       "15898  15898                   1               No   Clubs         Visual   \n",
       "15899  15899                   2              Yes    None         Visual   \n",
       "\n",
       "      student_id  gender tuition  final_test  n_male  n_female   age  \\\n",
       "0         ACN2BE  Female      No        69.0    14.0       2.0  16.0   \n",
       "1         FGXIIZ  Female      No        47.0     4.0      19.0  16.0   \n",
       "2         B9AI9F    Male      No        85.0    14.0       2.0  15.0   \n",
       "3         FEVM1T  Female     Yes        64.0     2.0      20.0  15.0   \n",
       "4         AXZN2E    Male      No        66.0    24.0       3.0  16.0   \n",
       "...          ...     ...     ...         ...     ...       ...   ...   \n",
       "15895     XPECN2  Female      No        56.0    12.0      14.0  16.0   \n",
       "15896     7AMC7S    Male     Yes        85.0    17.0       5.0  16.0   \n",
       "15897     XKZ6VN  Female     Yes        76.0     7.0      10.0  15.0   \n",
       "15898     2OU4UQ    Male     Yes        45.0    18.0      12.0  16.0   \n",
       "15899     D9OKLV    Male      No        87.0    11.0       7.0  16.0   \n",
       "\n",
       "       hours_per_week  attendance_rate sleep_time wake_time  \\\n",
       "0                10.0             91.0      22:00      6:00   \n",
       "1                 7.0             94.0      22:30      6:30   \n",
       "2                 8.0             92.0      22:30      6:30   \n",
       "3                18.0             95.0      21:00      5:00   \n",
       "4                 7.0             95.0      21:30      5:30   \n",
       "...               ...              ...        ...       ...   \n",
       "15895             9.0             96.0      22:00      6:00   \n",
       "15896             7.0             91.0      22:30      6:30   \n",
       "15897             7.0             93.0      23:00      7:00   \n",
       "15898             3.0             94.0      23:00      7:00   \n",
       "15899             9.0             91.0      23:00      7:00   \n",
       "\n",
       "       mode_of_transport bag_color  \n",
       "0      private transport    yellow  \n",
       "1      private transport     green  \n",
       "2      private transport     white  \n",
       "3       public transport    yellow  \n",
       "4       public transport    yellow  \n",
       "...                  ...       ...  \n",
       "15895  private transport     black  \n",
       "15896  private transport     white  \n",
       "15897               walk       red  \n",
       "15898               walk    yellow  \n",
       "15899               walk    yellow  \n",
       "\n",
       "[15900 rows x 18 columns]"
      ]
     },
     "execution_count": 10,
     "metadata": {},
     "output_type": "execute_result"
    }
   ],
   "source": [
    "df"
   ]
  },
  {
   "cell_type": "code",
   "execution_count": 11,
   "metadata": {},
   "outputs": [],
   "source": [
    "from datetime import datetime, timedelta\n",
    "\n",
    "df['col'] = pd.to_datetime(df['sleep_time'])\n",
    "df['col2'] = pd.to_datetime(df['wake_time'])\n",
    "df['datetime_sleep'] = df['col'].dt.strftime('%H:%M')\n",
    "df['datetime_wake'] = df['col2'].dt.strftime('%H:%M')\n",
    "#(df.fr-df.to).astype('timedelta64[h]')\n",
    "df['col_hr'] = df.col.dt.hour\n",
    "df['col_min'] = df.col.dt.minute\n",
    "df['col2_hr'] = df.col2.dt.hour\n",
    "df['col2_min'] = df.col2.dt.minute\n",
    "\n",
    "#add 24 to wake hours\n",
    "df['col2_hr']=df['col2_hr']+24\n",
    "df['total_sleep_hr']= df[\"col2_hr\"] - df[\"col_hr\"]\n",
    "# mins\n",
    "df['total_sleep_mins']=df[\"col2_min\"] - df[\"col_min\"]"
   ]
  },
  {
   "cell_type": "code",
   "execution_count": 12,
   "metadata": {},
   "outputs": [
    {
     "name": "stderr",
     "output_type": "stream",
     "text": [
      "<ipython-input-12-d0db864fb3c5>:5: DeprecationWarning: The default dtype for empty Series will be 'object' instead of 'float64' in a future version. Specify a dtype explicitly to silence this warning.\n",
      "  Type_new = pd.Series([])\n",
      "C:\\Users\\tan_k\\anaconda3\\lib\\site-packages\\seaborn\\distributions.py:369: UserWarning: Default bandwidth for data is 0; skipping density estimation.\n",
      "  warnings.warn(msg, UserWarning)\n"
     ]
    },
    {
     "data": {
      "text/plain": [
       "<matplotlib.axes._subplots.AxesSubplot at 0x26c38d50f70>"
      ]
     },
     "execution_count": 12,
     "metadata": {},
     "output_type": "execute_result"
    },
    {
     "data": {
      "image/png": "[encoded data removed]",
      "text/plain": [
       "<Figure size 432x288 with 1 Axes>"
      ]
     },
     "metadata": {
      "needs_background": "light"
     },
     "output_type": "display_data"
    }
   ],
   "source": [
    "# importing pandas module\n",
    "import pandas as pd\n",
    " \n",
    "# creating a blank series\n",
    "Type_new = pd.Series([])\n",
    " \n",
    "# running a for loop and assigning some values to series\n",
    "for i in range(len(df)):\n",
    "    if df[\"total_sleep_hr\"][i] > 20 :\n",
    "        Type_new[i]=df[\"total_sleep_hr\"][i] - 24\n",
    "\n",
    "    else:\n",
    "        Type_new[i]= df[\"total_sleep_hr\"][i]\n",
    "        \n",
    "df['total_sleep_hr'] = Type_new\n",
    "sns.distplot(df['total_sleep_hr']) # ensure that there are no abnomallies in total sleeping hours"
   ]
  },
  {
   "cell_type": "code",
   "execution_count": 13,
   "metadata": {},
   "outputs": [],
   "source": [
    "df=df.drop(['col', 'col2','datetime_sleep','datetime_wake','col_min','col_hr','col2_hr','col2_min'], axis=1)"
   ]
  },
  {
   "cell_type": "code",
   "execution_count": 14,
   "metadata": {},
   "outputs": [
    {
     "data": {
      "text/html": [
       "<div>\n",
       "<style scoped>\n",
       "    .dataframe tbody tr th:only-of-type {\n",
       "        vertical-align: middle;\n",
       "    }\n",
       "\n",
       "    .dataframe tbody tr th {\n",
       "        vertical-align: top;\n",
       "    }\n",
       "\n",
       "    .dataframe thead th {\n",
       "        text-align: right;\n",
       "    }\n",
       "</style>\n",
       "<table border=\"1\" class=\"dataframe\">\n",
       "  <thead>\n",
       "    <tr style=\"text-align: right;\">\n",
       "      <th></th>\n",
       "      <th>index</th>\n",
       "      <th>number_of_siblings</th>\n",
       "      <th>direct_admission</th>\n",
       "      <th>CCA</th>\n",
       "      <th>learning_style</th>\n",
       "      <th>student_id</th>\n",
       "      <th>gender</th>\n",
       "      <th>tuition</th>\n",
       "      <th>final_test</th>\n",
       "      <th>n_male</th>\n",
       "      <th>n_female</th>\n",
       "      <th>age</th>\n",
       "      <th>hours_per_week</th>\n",
       "      <th>attendance_rate</th>\n",
       "      <th>sleep_time</th>\n",
       "      <th>wake_time</th>\n",
       "      <th>mode_of_transport</th>\n",
       "      <th>bag_color</th>\n",
       "      <th>total_sleep_hr</th>\n",
       "      <th>total_sleep_mins</th>\n",
       "    </tr>\n",
       "  </thead>\n",
       "  <tbody>\n",
       "    <tr>\n",
       "      <th>0</th>\n",
       "      <td>0</td>\n",
       "      <td>0</td>\n",
       "      <td>Yes</td>\n",
       "      <td>Sports</td>\n",
       "      <td>Visual</td>\n",
       "      <td>ACN2BE</td>\n",
       "      <td>Female</td>\n",
       "      <td>No</td>\n",
       "      <td>69.0</td>\n",
       "      <td>14.0</td>\n",
       "      <td>2.0</td>\n",
       "      <td>16.0</td>\n",
       "      <td>10.0</td>\n",
       "      <td>91.0</td>\n",
       "      <td>22:00</td>\n",
       "      <td>6:00</td>\n",
       "      <td>private transport</td>\n",
       "      <td>yellow</td>\n",
       "      <td>8</td>\n",
       "      <td>0</td>\n",
       "    </tr>\n",
       "    <tr>\n",
       "      <th>1</th>\n",
       "      <td>1</td>\n",
       "      <td>2</td>\n",
       "      <td>No</td>\n",
       "      <td>Sports</td>\n",
       "      <td>Auditory</td>\n",
       "      <td>FGXIIZ</td>\n",
       "      <td>Female</td>\n",
       "      <td>No</td>\n",
       "      <td>47.0</td>\n",
       "      <td>4.0</td>\n",
       "      <td>19.0</td>\n",
       "      <td>16.0</td>\n",
       "      <td>7.0</td>\n",
       "      <td>94.0</td>\n",
       "      <td>22:30</td>\n",
       "      <td>6:30</td>\n",
       "      <td>private transport</td>\n",
       "      <td>green</td>\n",
       "      <td>8</td>\n",
       "      <td>0</td>\n",
       "    </tr>\n",
       "    <tr>\n",
       "      <th>2</th>\n",
       "      <td>2</td>\n",
       "      <td>0</td>\n",
       "      <td>Yes</td>\n",
       "      <td>None</td>\n",
       "      <td>Visual</td>\n",
       "      <td>B9AI9F</td>\n",
       "      <td>Male</td>\n",
       "      <td>No</td>\n",
       "      <td>85.0</td>\n",
       "      <td>14.0</td>\n",
       "      <td>2.0</td>\n",
       "      <td>15.0</td>\n",
       "      <td>8.0</td>\n",
       "      <td>92.0</td>\n",
       "      <td>22:30</td>\n",
       "      <td>6:30</td>\n",
       "      <td>private transport</td>\n",
       "      <td>white</td>\n",
       "      <td>8</td>\n",
       "      <td>0</td>\n",
       "    </tr>\n",
       "    <tr>\n",
       "      <th>3</th>\n",
       "      <td>3</td>\n",
       "      <td>1</td>\n",
       "      <td>No</td>\n",
       "      <td>Clubs</td>\n",
       "      <td>Auditory</td>\n",
       "      <td>FEVM1T</td>\n",
       "      <td>Female</td>\n",
       "      <td>Yes</td>\n",
       "      <td>64.0</td>\n",
       "      <td>2.0</td>\n",
       "      <td>20.0</td>\n",
       "      <td>15.0</td>\n",
       "      <td>18.0</td>\n",
       "      <td>95.0</td>\n",
       "      <td>21:00</td>\n",
       "      <td>5:00</td>\n",
       "      <td>public transport</td>\n",
       "      <td>yellow</td>\n",
       "      <td>8</td>\n",
       "      <td>0</td>\n",
       "    </tr>\n",
       "    <tr>\n",
       "      <th>4</th>\n",
       "      <td>4</td>\n",
       "      <td>0</td>\n",
       "      <td>No</td>\n",
       "      <td>Sports</td>\n",
       "      <td>Auditory</td>\n",
       "      <td>AXZN2E</td>\n",
       "      <td>Male</td>\n",
       "      <td>No</td>\n",
       "      <td>66.0</td>\n",
       "      <td>24.0</td>\n",
       "      <td>3.0</td>\n",
       "      <td>16.0</td>\n",
       "      <td>7.0</td>\n",
       "      <td>95.0</td>\n",
       "      <td>21:30</td>\n",
       "      <td>5:30</td>\n",
       "      <td>public transport</td>\n",
       "      <td>yellow</td>\n",
       "      <td>8</td>\n",
       "      <td>0</td>\n",
       "    </tr>\n",
       "    <tr>\n",
       "      <th>...</th>\n",
       "      <td>...</td>\n",
       "      <td>...</td>\n",
       "      <td>...</td>\n",
       "      <td>...</td>\n",
       "      <td>...</td>\n",
       "      <td>...</td>\n",
       "      <td>...</td>\n",
       "      <td>...</td>\n",
       "      <td>...</td>\n",
       "      <td>...</td>\n",
       "      <td>...</td>\n",
       "      <td>...</td>\n",
       "      <td>...</td>\n",
       "      <td>...</td>\n",
       "      <td>...</td>\n",
       "      <td>...</td>\n",
       "      <td>...</td>\n",
       "      <td>...</td>\n",
       "      <td>...</td>\n",
       "      <td>...</td>\n",
       "    </tr>\n",
       "    <tr>\n",
       "      <th>15895</th>\n",
       "      <td>15895</td>\n",
       "      <td>1</td>\n",
       "      <td>No</td>\n",
       "      <td>Clubs</td>\n",
       "      <td>Visual</td>\n",
       "      <td>XPECN2</td>\n",
       "      <td>Female</td>\n",
       "      <td>No</td>\n",
       "      <td>56.0</td>\n",
       "      <td>12.0</td>\n",
       "      <td>14.0</td>\n",
       "      <td>16.0</td>\n",
       "      <td>9.0</td>\n",
       "      <td>96.0</td>\n",
       "      <td>22:00</td>\n",
       "      <td>6:00</td>\n",
       "      <td>private transport</td>\n",
       "      <td>black</td>\n",
       "      <td>8</td>\n",
       "      <td>0</td>\n",
       "    </tr>\n",
       "    <tr>\n",
       "      <th>15896</th>\n",
       "      <td>15896</td>\n",
       "      <td>1</td>\n",
       "      <td>Yes</td>\n",
       "      <td>None</td>\n",
       "      <td>Auditory</td>\n",
       "      <td>7AMC7S</td>\n",
       "      <td>Male</td>\n",
       "      <td>Yes</td>\n",
       "      <td>85.0</td>\n",
       "      <td>17.0</td>\n",
       "      <td>5.0</td>\n",
       "      <td>16.0</td>\n",
       "      <td>7.0</td>\n",
       "      <td>91.0</td>\n",
       "      <td>22:30</td>\n",
       "      <td>6:30</td>\n",
       "      <td>private transport</td>\n",
       "      <td>white</td>\n",
       "      <td>8</td>\n",
       "      <td>0</td>\n",
       "    </tr>\n",
       "    <tr>\n",
       "      <th>15897</th>\n",
       "      <td>15897</td>\n",
       "      <td>1</td>\n",
       "      <td>Yes</td>\n",
       "      <td>Sports</td>\n",
       "      <td>Auditory</td>\n",
       "      <td>XKZ6VN</td>\n",
       "      <td>Female</td>\n",
       "      <td>Yes</td>\n",
       "      <td>76.0</td>\n",
       "      <td>7.0</td>\n",
       "      <td>10.0</td>\n",
       "      <td>15.0</td>\n",
       "      <td>7.0</td>\n",
       "      <td>93.0</td>\n",
       "      <td>23:00</td>\n",
       "      <td>7:00</td>\n",
       "      <td>walk</td>\n",
       "      <td>red</td>\n",
       "      <td>8</td>\n",
       "      <td>0</td>\n",
       "    </tr>\n",
       "    <tr>\n",
       "      <th>15898</th>\n",
       "      <td>15898</td>\n",
       "      <td>1</td>\n",
       "      <td>No</td>\n",
       "      <td>Clubs</td>\n",
       "      <td>Visual</td>\n",
       "      <td>2OU4UQ</td>\n",
       "      <td>Male</td>\n",
       "      <td>Yes</td>\n",
       "      <td>45.0</td>\n",
       "      <td>18.0</td>\n",
       "      <td>12.0</td>\n",
       "      <td>16.0</td>\n",
       "      <td>3.0</td>\n",
       "      <td>94.0</td>\n",
       "      <td>23:00</td>\n",
       "      <td>7:00</td>\n",
       "      <td>walk</td>\n",
       "      <td>yellow</td>\n",
       "      <td>8</td>\n",
       "      <td>0</td>\n",
       "    </tr>\n",
       "    <tr>\n",
       "      <th>15899</th>\n",
       "      <td>15899</td>\n",
       "      <td>2</td>\n",
       "      <td>Yes</td>\n",
       "      <td>None</td>\n",
       "      <td>Visual</td>\n",
       "      <td>D9OKLV</td>\n",
       "      <td>Male</td>\n",
       "      <td>No</td>\n",
       "      <td>87.0</td>\n",
       "      <td>11.0</td>\n",
       "      <td>7.0</td>\n",
       "      <td>16.0</td>\n",
       "      <td>9.0</td>\n",
       "      <td>91.0</td>\n",
       "      <td>23:00</td>\n",
       "      <td>7:00</td>\n",
       "      <td>walk</td>\n",
       "      <td>yellow</td>\n",
       "      <td>8</td>\n",
       "      <td>0</td>\n",
       "    </tr>\n",
       "  </tbody>\n",
       "</table>\n",
       "<p>15900 rows × 20 columns</p>\n",
       "</div>"
      ],
      "text/plain": [
       "       index  number_of_siblings direct_admission     CCA learning_style  \\\n",
       "0          0                   0              Yes  Sports         Visual   \n",
       "1          1                   2               No  Sports       Auditory   \n",
       "2          2                   0              Yes    None         Visual   \n",
       "3          3                   1               No   Clubs       Auditory   \n",
       "4          4                   0               No  Sports       Auditory   \n",
       "...      ...                 ...              ...     ...            ...   \n",
       "15895  15895                   1               No   Clubs         Visual   \n",
       "15896  15896                   1              Yes    None       Auditory   \n",
       "15897  15897                   1              Yes  Sports       Auditory   \n",
       "15898  15898                   1               No   Clubs         Visual   \n",
       "15899  15899                   2              Yes    None         Visual   \n",
       "\n",
       "      student_id  gender tuition  final_test  n_male  n_female   age  \\\n",
       "0         ACN2BE  Female      No        69.0    14.0       2.0  16.0   \n",
       "1         FGXIIZ  Female      No        47.0     4.0      19.0  16.0   \n",
       "2         B9AI9F    Male      No        85.0    14.0       2.0  15.0   \n",
       "3         FEVM1T  Female     Yes        64.0     2.0      20.0  15.0   \n",
       "4         AXZN2E    Male      No        66.0    24.0       3.0  16.0   \n",
       "...          ...     ...     ...         ...     ...       ...   ...   \n",
       "15895     XPECN2  Female      No        56.0    12.0      14.0  16.0   \n",
       "15896     7AMC7S    Male     Yes        85.0    17.0       5.0  16.0   \n",
       "15897     XKZ6VN  Female     Yes        76.0     7.0      10.0  15.0   \n",
       "15898     2OU4UQ    Male     Yes        45.0    18.0      12.0  16.0   \n",
       "15899     D9OKLV    Male      No        87.0    11.0       7.0  16.0   \n",
       "\n",
       "       hours_per_week  attendance_rate sleep_time wake_time  \\\n",
       "0                10.0             91.0      22:00      6:00   \n",
       "1                 7.0             94.0      22:30      6:30   \n",
       "2                 8.0             92.0      22:30      6:30   \n",
       "3                18.0             95.0      21:00      5:00   \n",
       "4                 7.0             95.0      21:30      5:30   \n",
       "...               ...              ...        ...       ...   \n",
       "15895             9.0             96.0      22:00      6:00   \n",
       "15896             7.0             91.0      22:30      6:30   \n",
       "15897             7.0             93.0      23:00      7:00   \n",
       "15898             3.0             94.0      23:00      7:00   \n",
       "15899             9.0             91.0      23:00      7:00   \n",
       "\n",
       "       mode_of_transport bag_color  total_sleep_hr  total_sleep_mins  \n",
       "0      private transport    yellow               8                 0  \n",
       "1      private transport     green               8                 0  \n",
       "2      private transport     white               8                 0  \n",
       "3       public transport    yellow               8                 0  \n",
       "4       public transport    yellow               8                 0  \n",
       "...                  ...       ...             ...               ...  \n",
       "15895  private transport     black               8                 0  \n",
       "15896  private transport     white               8                 0  \n",
       "15897               walk       red               8                 0  \n",
       "15898               walk    yellow               8                 0  \n",
       "15899               walk    yellow               8                 0  \n",
       "\n",
       "[15900 rows x 20 columns]"
      ]
     },
     "execution_count": 14,
     "metadata": {},
     "output_type": "execute_result"
    }
   ],
   "source": [
    "df"
   ]
  },
  {
   "cell_type": "code",
   "execution_count": 15,
   "metadata": {},
   "outputs": [],
   "source": [
    "#df['sleep_time'] = df['sleep_time'].str.replace(r':', '') #remove all colon\n",
    "#df['wake_time'] = df['wake_time'].str.replace(r':', '') #remove all colon\n",
    "#df['sleep_time']=df['sleep_time'].astype(int) #convert to int\n",
    "#df['wake_time']=df['wake_time'].astype(int) #convert to int"
   ]
  },
  {
   "cell_type": "markdown",
   "metadata": {},
   "source": [
    "## Feature visualisation: Numerical Features"
   ]
  },
  {
   "cell_type": "code",
   "execution_count": 16,
   "metadata": {},
   "outputs": [],
   "source": [
    "numerical=['number_of_siblings','final_test','n_male','n_female','age','hours_per_week','attendance_rate','total_sleep_hr']\n",
    "num_df=df[numerical]"
   ]
  },
  {
   "cell_type": "code",
   "execution_count": 17,
   "metadata": {},
   "outputs": [
    {
     "data": {
      "text/plain": [
       "<matplotlib.axes._subplots.AxesSubplot at 0x26c34932730>"
      ]
     },
     "execution_count": 17,
     "metadata": {},
     "output_type": "execute_result"
    },
    {
     "data": {
      "image/png": "[encoded data removed]",
      "text/plain": [
       "<Figure size 1080x864 with 2 Axes>"
      ]
     },
     "metadata": {
      "needs_background": "light"
     },
     "output_type": "display_data"
    }
   ],
   "source": [
    "plt.figure(figsize=(15,12))\n",
    "sns.heatmap(num_df.corr(), cmap=\"coolwarm\", annot=True)"
   ]
  },
  {
   "cell_type": "markdown",
   "metadata": {},
   "source": [
    "Typically, if features have higher correlation with each other. it will be wise to prevent multi-colinearity. However, in this case, there is no need as there are no feautures that are strongly correlated."
   ]
  },
  {
   "cell_type": "code",
   "execution_count": 18,
   "metadata": {},
   "outputs": [
    {
     "name": "stderr",
     "output_type": "stream",
     "text": [
      "C:\\Users\\tan_k\\anaconda3\\lib\\site-packages\\seaborn\\distributions.py:369: UserWarning: Default bandwidth for data is 0; skipping density estimation.\n",
      "  warnings.warn(msg, UserWarning)\n"
     ]
    },
    {
     "data": {
      "image/png": "[encoded data removed]",
      "text/plain": [
       "<Figure size 1800x360 with 4 Axes>"
      ]
     },
     "metadata": {
      "needs_background": "light"
     },
     "output_type": "display_data"
    },
    {
     "data": {
      "image/png": "[encoded data removed]",
      "text/plain": [
       "<Figure size 1800x360 with 4 Axes>"
      ]
     },
     "metadata": {
      "needs_background": "light"
     },
     "output_type": "display_data"
    }
   ],
   "source": [
    "#vars = df.columns\n",
    "vars = df[numerical].columns\n",
    "figures_per_time = 4\n",
    "count = 0 \n",
    "\n",
    "for var in vars:\n",
    "    x = df[var]\n",
    "#     print(y.shape,x.shape)\n",
    "    plt.figure(count//figures_per_time,figsize=(25,5))\n",
    "    plt.subplot(1,figures_per_time,np.mod(count,4)+1)\n",
    "    sns.distplot(x);\n",
    "    plt.title('f model: T= {}'.format(var))\n",
    "    count+=1"
   ]
  },
  {
   "cell_type": "markdown",
   "metadata": {},
   "source": [
    "## Age\n",
    "there seems to be some abnomalies present in age, as there are values such as 5,6,-4 etc. Removing them would make the data frame cleaner"
   ]
  },
  {
   "cell_type": "code",
   "execution_count": 28,
   "metadata": {},
   "outputs": [
    {
     "name": "stderr",
     "output_type": "stream",
     "text": [
      "<ipython-input-28-38ac8b17f933>:1: SettingWithCopyWarning: \n",
      "A value is trying to be set on a copy of a slice from a DataFrame.\n",
      "Try using .loc[row_indexer,col_indexer] = value instead\n",
      "\n",
      "See the caveats in the documentation: https://pandas.pydata.org/pandas-docs/stable/user_guide/indexing.html#returning-a-view-versus-a-copy\n",
      "  df['age']=df['age'].astype(int)\n"
     ]
    }
   ],
   "source": [
    "df['age']=df['age'].astype(int)\n",
    "df = df[df.age > 14]  "
   ]
  },
  {
   "cell_type": "markdown",
   "metadata": {},
   "source": [
    "## Feature elimination"
   ]
  },
  {
   "cell_type": "markdown",
   "metadata": {},
   "source": [
    "### Index + Student ID\n",
    "\n",
    "The indexes and student ID are unique key identifiers that should not provide much variance to our target feature.\n"
   ]
  },
  {
   "cell_type": "code",
   "execution_count": 20,
   "metadata": {},
   "outputs": [
    {
     "data": {
      "text/html": [
       "<div>\n",
       "<style scoped>\n",
       "    .dataframe tbody tr th:only-of-type {\n",
       "        vertical-align: middle;\n",
       "    }\n",
       "\n",
       "    .dataframe tbody tr th {\n",
       "        vertical-align: top;\n",
       "    }\n",
       "\n",
       "    .dataframe thead th {\n",
       "        text-align: right;\n",
       "    }\n",
       "</style>\n",
       "<table border=\"1\" class=\"dataframe\">\n",
       "  <thead>\n",
       "    <tr style=\"text-align: right;\">\n",
       "      <th></th>\n",
       "      <th>number_of_siblings</th>\n",
       "      <th>direct_admission</th>\n",
       "      <th>CCA</th>\n",
       "      <th>learning_style</th>\n",
       "      <th>gender</th>\n",
       "      <th>tuition</th>\n",
       "      <th>final_test</th>\n",
       "      <th>n_male</th>\n",
       "      <th>n_female</th>\n",
       "      <th>age</th>\n",
       "      <th>hours_per_week</th>\n",
       "      <th>attendance_rate</th>\n",
       "      <th>sleep_time</th>\n",
       "      <th>wake_time</th>\n",
       "      <th>mode_of_transport</th>\n",
       "      <th>bag_color</th>\n",
       "      <th>total_sleep_hr</th>\n",
       "      <th>total_sleep_mins</th>\n",
       "    </tr>\n",
       "  </thead>\n",
       "  <tbody>\n",
       "    <tr>\n",
       "      <th>0</th>\n",
       "      <td>0</td>\n",
       "      <td>Yes</td>\n",
       "      <td>Sports</td>\n",
       "      <td>Visual</td>\n",
       "      <td>Female</td>\n",
       "      <td>No</td>\n",
       "      <td>69.0</td>\n",
       "      <td>14.0</td>\n",
       "      <td>2.0</td>\n",
       "      <td>16</td>\n",
       "      <td>10.0</td>\n",
       "      <td>91.0</td>\n",
       "      <td>22:00</td>\n",
       "      <td>6:00</td>\n",
       "      <td>private transport</td>\n",
       "      <td>yellow</td>\n",
       "      <td>8</td>\n",
       "      <td>0</td>\n",
       "    </tr>\n",
       "    <tr>\n",
       "      <th>1</th>\n",
       "      <td>2</td>\n",
       "      <td>No</td>\n",
       "      <td>Sports</td>\n",
       "      <td>Auditory</td>\n",
       "      <td>Female</td>\n",
       "      <td>No</td>\n",
       "      <td>47.0</td>\n",
       "      <td>4.0</td>\n",
       "      <td>19.0</td>\n",
       "      <td>16</td>\n",
       "      <td>7.0</td>\n",
       "      <td>94.0</td>\n",
       "      <td>22:30</td>\n",
       "      <td>6:30</td>\n",
       "      <td>private transport</td>\n",
       "      <td>green</td>\n",
       "      <td>8</td>\n",
       "      <td>0</td>\n",
       "    </tr>\n",
       "    <tr>\n",
       "      <th>2</th>\n",
       "      <td>0</td>\n",
       "      <td>Yes</td>\n",
       "      <td>None</td>\n",
       "      <td>Visual</td>\n",
       "      <td>Male</td>\n",
       "      <td>No</td>\n",
       "      <td>85.0</td>\n",
       "      <td>14.0</td>\n",
       "      <td>2.0</td>\n",
       "      <td>15</td>\n",
       "      <td>8.0</td>\n",
       "      <td>92.0</td>\n",
       "      <td>22:30</td>\n",
       "      <td>6:30</td>\n",
       "      <td>private transport</td>\n",
       "      <td>white</td>\n",
       "      <td>8</td>\n",
       "      <td>0</td>\n",
       "    </tr>\n",
       "    <tr>\n",
       "      <th>3</th>\n",
       "      <td>1</td>\n",
       "      <td>No</td>\n",
       "      <td>Clubs</td>\n",
       "      <td>Auditory</td>\n",
       "      <td>Female</td>\n",
       "      <td>Yes</td>\n",
       "      <td>64.0</td>\n",
       "      <td>2.0</td>\n",
       "      <td>20.0</td>\n",
       "      <td>15</td>\n",
       "      <td>18.0</td>\n",
       "      <td>95.0</td>\n",
       "      <td>21:00</td>\n",
       "      <td>5:00</td>\n",
       "      <td>public transport</td>\n",
       "      <td>yellow</td>\n",
       "      <td>8</td>\n",
       "      <td>0</td>\n",
       "    </tr>\n",
       "    <tr>\n",
       "      <th>4</th>\n",
       "      <td>0</td>\n",
       "      <td>No</td>\n",
       "      <td>Sports</td>\n",
       "      <td>Auditory</td>\n",
       "      <td>Male</td>\n",
       "      <td>No</td>\n",
       "      <td>66.0</td>\n",
       "      <td>24.0</td>\n",
       "      <td>3.0</td>\n",
       "      <td>16</td>\n",
       "      <td>7.0</td>\n",
       "      <td>95.0</td>\n",
       "      <td>21:30</td>\n",
       "      <td>5:30</td>\n",
       "      <td>public transport</td>\n",
       "      <td>yellow</td>\n",
       "      <td>8</td>\n",
       "      <td>0</td>\n",
       "    </tr>\n",
       "    <tr>\n",
       "      <th>...</th>\n",
       "      <td>...</td>\n",
       "      <td>...</td>\n",
       "      <td>...</td>\n",
       "      <td>...</td>\n",
       "      <td>...</td>\n",
       "      <td>...</td>\n",
       "      <td>...</td>\n",
       "      <td>...</td>\n",
       "      <td>...</td>\n",
       "      <td>...</td>\n",
       "      <td>...</td>\n",
       "      <td>...</td>\n",
       "      <td>...</td>\n",
       "      <td>...</td>\n",
       "      <td>...</td>\n",
       "      <td>...</td>\n",
       "      <td>...</td>\n",
       "      <td>...</td>\n",
       "    </tr>\n",
       "    <tr>\n",
       "      <th>15895</th>\n",
       "      <td>1</td>\n",
       "      <td>No</td>\n",
       "      <td>Clubs</td>\n",
       "      <td>Visual</td>\n",
       "      <td>Female</td>\n",
       "      <td>No</td>\n",
       "      <td>56.0</td>\n",
       "      <td>12.0</td>\n",
       "      <td>14.0</td>\n",
       "      <td>16</td>\n",
       "      <td>9.0</td>\n",
       "      <td>96.0</td>\n",
       "      <td>22:00</td>\n",
       "      <td>6:00</td>\n",
       "      <td>private transport</td>\n",
       "      <td>black</td>\n",
       "      <td>8</td>\n",
       "      <td>0</td>\n",
       "    </tr>\n",
       "    <tr>\n",
       "      <th>15896</th>\n",
       "      <td>1</td>\n",
       "      <td>Yes</td>\n",
       "      <td>None</td>\n",
       "      <td>Auditory</td>\n",
       "      <td>Male</td>\n",
       "      <td>Yes</td>\n",
       "      <td>85.0</td>\n",
       "      <td>17.0</td>\n",
       "      <td>5.0</td>\n",
       "      <td>16</td>\n",
       "      <td>7.0</td>\n",
       "      <td>91.0</td>\n",
       "      <td>22:30</td>\n",
       "      <td>6:30</td>\n",
       "      <td>private transport</td>\n",
       "      <td>white</td>\n",
       "      <td>8</td>\n",
       "      <td>0</td>\n",
       "    </tr>\n",
       "    <tr>\n",
       "      <th>15897</th>\n",
       "      <td>1</td>\n",
       "      <td>Yes</td>\n",
       "      <td>Sports</td>\n",
       "      <td>Auditory</td>\n",
       "      <td>Female</td>\n",
       "      <td>Yes</td>\n",
       "      <td>76.0</td>\n",
       "      <td>7.0</td>\n",
       "      <td>10.0</td>\n",
       "      <td>15</td>\n",
       "      <td>7.0</td>\n",
       "      <td>93.0</td>\n",
       "      <td>23:00</td>\n",
       "      <td>7:00</td>\n",
       "      <td>walk</td>\n",
       "      <td>red</td>\n",
       "      <td>8</td>\n",
       "      <td>0</td>\n",
       "    </tr>\n",
       "    <tr>\n",
       "      <th>15898</th>\n",
       "      <td>1</td>\n",
       "      <td>No</td>\n",
       "      <td>Clubs</td>\n",
       "      <td>Visual</td>\n",
       "      <td>Male</td>\n",
       "      <td>Yes</td>\n",
       "      <td>45.0</td>\n",
       "      <td>18.0</td>\n",
       "      <td>12.0</td>\n",
       "      <td>16</td>\n",
       "      <td>3.0</td>\n",
       "      <td>94.0</td>\n",
       "      <td>23:00</td>\n",
       "      <td>7:00</td>\n",
       "      <td>walk</td>\n",
       "      <td>yellow</td>\n",
       "      <td>8</td>\n",
       "      <td>0</td>\n",
       "    </tr>\n",
       "    <tr>\n",
       "      <th>15899</th>\n",
       "      <td>2</td>\n",
       "      <td>Yes</td>\n",
       "      <td>None</td>\n",
       "      <td>Visual</td>\n",
       "      <td>Male</td>\n",
       "      <td>No</td>\n",
       "      <td>87.0</td>\n",
       "      <td>11.0</td>\n",
       "      <td>7.0</td>\n",
       "      <td>16</td>\n",
       "      <td>9.0</td>\n",
       "      <td>91.0</td>\n",
       "      <td>23:00</td>\n",
       "      <td>7:00</td>\n",
       "      <td>walk</td>\n",
       "      <td>yellow</td>\n",
       "      <td>8</td>\n",
       "      <td>0</td>\n",
       "    </tr>\n",
       "  </tbody>\n",
       "</table>\n",
       "<p>15449 rows × 18 columns</p>\n",
       "</div>"
      ],
      "text/plain": [
       "       number_of_siblings direct_admission     CCA learning_style  gender  \\\n",
       "0                       0              Yes  Sports         Visual  Female   \n",
       "1                       2               No  Sports       Auditory  Female   \n",
       "2                       0              Yes    None         Visual    Male   \n",
       "3                       1               No   Clubs       Auditory  Female   \n",
       "4                       0               No  Sports       Auditory    Male   \n",
       "...                   ...              ...     ...            ...     ...   \n",
       "15895                   1               No   Clubs         Visual  Female   \n",
       "15896                   1              Yes    None       Auditory    Male   \n",
       "15897                   1              Yes  Sports       Auditory  Female   \n",
       "15898                   1               No   Clubs         Visual    Male   \n",
       "15899                   2              Yes    None         Visual    Male   \n",
       "\n",
       "      tuition  final_test  n_male  n_female  age  hours_per_week  \\\n",
       "0          No        69.0    14.0       2.0   16            10.0   \n",
       "1          No        47.0     4.0      19.0   16             7.0   \n",
       "2          No        85.0    14.0       2.0   15             8.0   \n",
       "3         Yes        64.0     2.0      20.0   15            18.0   \n",
       "4          No        66.0    24.0       3.0   16             7.0   \n",
       "...       ...         ...     ...       ...  ...             ...   \n",
       "15895      No        56.0    12.0      14.0   16             9.0   \n",
       "15896     Yes        85.0    17.0       5.0   16             7.0   \n",
       "15897     Yes        76.0     7.0      10.0   15             7.0   \n",
       "15898     Yes        45.0    18.0      12.0   16             3.0   \n",
       "15899      No        87.0    11.0       7.0   16             9.0   \n",
       "\n",
       "       attendance_rate sleep_time wake_time  mode_of_transport bag_color  \\\n",
       "0                 91.0      22:00      6:00  private transport    yellow   \n",
       "1                 94.0      22:30      6:30  private transport     green   \n",
       "2                 92.0      22:30      6:30  private transport     white   \n",
       "3                 95.0      21:00      5:00   public transport    yellow   \n",
       "4                 95.0      21:30      5:30   public transport    yellow   \n",
       "...                ...        ...       ...                ...       ...   \n",
       "15895             96.0      22:00      6:00  private transport     black   \n",
       "15896             91.0      22:30      6:30  private transport     white   \n",
       "15897             93.0      23:00      7:00               walk       red   \n",
       "15898             94.0      23:00      7:00               walk    yellow   \n",
       "15899             91.0      23:00      7:00               walk    yellow   \n",
       "\n",
       "       total_sleep_hr  total_sleep_mins  \n",
       "0                   8                 0  \n",
       "1                   8                 0  \n",
       "2                   8                 0  \n",
       "3                   8                 0  \n",
       "4                   8                 0  \n",
       "...               ...               ...  \n",
       "15895               8                 0  \n",
       "15896               8                 0  \n",
       "15897               8                 0  \n",
       "15898               8                 0  \n",
       "15899               8                 0  \n",
       "\n",
       "[15449 rows x 18 columns]"
      ]
     },
     "execution_count": 20,
     "metadata": {},
     "output_type": "execute_result"
    }
   ],
   "source": [
    "df.drop(['index', 'student_id'], axis=1)"
   ]
  },
  {
   "cell_type": "markdown",
   "metadata": {},
   "source": [
    "## Feature analysis: Categorical Visualisation"
   ]
  },
  {
   "cell_type": "markdown",
   "metadata": {},
   "source": [
    "## Mode of Transport"
   ]
  },
  {
   "cell_type": "code",
   "execution_count": 21,
   "metadata": {},
   "outputs": [
    {
     "data": {
      "image/png": "[encoded data removed]",
      "text/plain": [
       "<Figure size 864x432 with 1 Axes>"
      ]
     },
     "metadata": {
      "needs_background": "light"
     },
     "output_type": "display_data"
    },
    {
     "name": "stdout",
     "output_type": "stream",
     "text": [
      "mode_of_transport\n",
      "private transport    67.165401\n",
      "public transport     67.165401\n",
      "walk                 67.165401\n",
      "Name: final_test, dtype: float64\n",
      "mode_of_transport\n",
      "private transport    190.672309\n",
      "public transport     187.503031\n",
      "walk                 188.773208\n",
      "Name: final_test, dtype: float64\n"
     ]
    }
   ],
   "source": [
    "ranks = df.groupby(\"mode_of_transport\")[\"final_test\"].median().sort_values(ascending=False)[::-1].index\n",
    "\n",
    "var_name = \"mode_of_transport\"\n",
    "col_order = np.sort(df[var_name].unique()).tolist()\n",
    "plt.figure(figsize=(12,6))\n",
    "sns.boxplot(x=var_name, y='final_test', data=df, order=ranks)\n",
    "plt.xlabel(var_name, fontsize=12)\n",
    "plt.ylabel('final_test', fontsize=12)\n",
    "plt.title(\"Distribution of final test variable with \"+var_name, fontsize=15)\n",
    "plt.show()\n",
    "print(df.groupby(\"mode_of_transport\")[\"final_test\"].median())\n",
    "print(df.groupby(\"mode_of_transport\")[\"final_test\"].var())"
   ]
  },
  {
   "cell_type": "markdown",
   "metadata": {},
   "source": [
    "## Gender"
   ]
  },
  {
   "cell_type": "code",
   "execution_count": 22,
   "metadata": {},
   "outputs": [
    {
     "data": {
      "image/png": "[encoded data removed]",
      "text/plain": [
       "<Figure size 864x432 with 1 Axes>"
      ]
     },
     "metadata": {
      "needs_background": "light"
     },
     "output_type": "display_data"
    },
    {
     "name": "stdout",
     "output_type": "stream",
     "text": [
      "gender\n",
      "Female    67.165401\n",
      "Male      67.165401\n",
      "Name: final_test, dtype: float64\n",
      "gender\n",
      "Female    190.557622\n",
      "Male      187.424939\n",
      "Name: final_test, dtype: float64\n"
     ]
    }
   ],
   "source": [
    "ranks = df.groupby(\"gender\")[\"final_test\"].median().sort_values(ascending=False)[::-1].index\n",
    "\n",
    "var_name = \"gender\"\n",
    "col_order = np.sort(df[var_name].unique()).tolist()\n",
    "plt.figure(figsize=(12,6))\n",
    "sns.boxplot(x=var_name, y='final_test', data=df, order=ranks)\n",
    "plt.xlabel(var_name, fontsize=12)\n",
    "plt.ylabel('final_test', fontsize=12)\n",
    "plt.title(\"Distribution of final test variable with \"+var_name, fontsize=15)\n",
    "plt.show()\n",
    "print(df.groupby(\"gender\")[\"final_test\"].median())\n",
    "print(df.groupby(\"gender\")[\"final_test\"].var())"
   ]
  },
  {
   "cell_type": "markdown",
   "metadata": {},
   "source": [
    "## CCA\n",
    "CCA feature has some issues with encoding."
   ]
  },
  {
   "cell_type": "code",
   "execution_count": 22,
   "metadata": {},
   "outputs": [
    {
     "name": "stderr",
     "output_type": "stream",
     "text": [
      "C:\\Users\\tan_k\\anaconda3\\lib\\site-packages\\pandas\\core\\generic.py:6746: SettingWithCopyWarning: \n",
      "A value is trying to be set on a copy of a slice from a DataFrame\n",
      "\n",
      "See the caveats in the documentation: https://pandas.pydata.org/pandas-docs/stable/user_guide/indexing.html#returning-a-view-versus-a-copy\n",
      "  self._update_inplace(new_data)\n"
     ]
    }
   ],
   "source": [
    "df[\"CCA\"].replace({\"CLUBS\": \"Clubs\", \"SPORTS\": \"Sports\", \"ARTS\":\"Arts\",\"NONE\":\"None\"}, inplace=True)"
   ]
  },
  {
   "cell_type": "code",
   "execution_count": 23,
   "metadata": {},
   "outputs": [
    {
     "data": {
      "image/png": "[encoded data removed]",
      "text/plain": [
       "<Figure size 864x432 with 1 Axes>"
      ]
     },
     "metadata": {
      "needs_background": "light"
     },
     "output_type": "display_data"
    },
    {
     "name": "stdout",
     "output_type": "stream",
     "text": [
      "CCA\n",
      "Arts      64.0\n",
      "Clubs     64.0\n",
      "None      78.0\n",
      "Sports    65.0\n",
      "Name: final_test, dtype: float64\n",
      "CCA\n",
      "Arts      168.101351\n",
      "Clubs     164.042161\n",
      "None      145.612971\n",
      "Sports    164.190574\n",
      "Name: final_test, dtype: float64\n"
     ]
    }
   ],
   "source": [
    "ranks = df.groupby(\"CCA\")[\"final_test\"].median().sort_values(ascending=False)[::-1].index\n",
    "\n",
    "var_name = \"CCA\"\n",
    "col_order = np.sort(df[var_name].unique()).tolist()\n",
    "plt.figure(figsize=(12,6))\n",
    "sns.boxplot(x=var_name, y='final_test', data=df, order=ranks)\n",
    "plt.xlabel(var_name, fontsize=12)\n",
    "plt.ylabel('final_test', fontsize=12)\n",
    "plt.title(\"Distribution of final test variable with \"+var_name, fontsize=15)\n",
    "plt.show()\n",
    "print(df.groupby(\"CCA\")[\"final_test\"].median())\n",
    "print(df.groupby(\"CCA\")[\"final_test\"].var())"
   ]
  },
  {
   "cell_type": "markdown",
   "metadata": {},
   "source": [
    "CCA feauture is useful as well in providing information. While it would be good to consider to classify it as having CCA and No CCA. I opted not to do so as there is some context to the features."
   ]
  },
  {
   "cell_type": "markdown",
   "metadata": {},
   "source": [
    "## Direction Admission"
   ]
  },
  {
   "cell_type": "code",
   "execution_count": 24,
   "metadata": {},
   "outputs": [
    {
     "data": {
      "image/png": "[encoded data removed]",
      "text/plain": [
       "<Figure size 864x432 with 1 Axes>"
      ]
     },
     "metadata": {
      "needs_background": "light"
     },
     "output_type": "display_data"
    },
    {
     "name": "stdout",
     "output_type": "stream",
     "text": [
      "direct_admission\n",
      "No     64.0\n",
      "Yes    75.0\n",
      "Name: final_test, dtype: float64\n",
      "direct_admission\n",
      "No     173.033399\n",
      "Yes    191.774755\n",
      "Name: final_test, dtype: float64\n"
     ]
    }
   ],
   "source": [
    "ranks = df.groupby(\"direct_admission\")[\"final_test\"].median().sort_values(ascending=False)[::-1].index\n",
    "\n",
    "var_name = \"direct_admission\"\n",
    "col_order = np.sort(df[var_name].unique()).tolist()\n",
    "plt.figure(figsize=(12,6))\n",
    "sns.boxplot(x=var_name, y='final_test', data=df, order=ranks)\n",
    "plt.xlabel(var_name, fontsize=12)\n",
    "plt.ylabel('final_test', fontsize=12)\n",
    "plt.title(\"Distribution of final test variable with \"+var_name, fontsize=15)\n",
    "plt.show()\n",
    "print(df.groupby(\"direct_admission\")[\"final_test\"].median())\n",
    "print(df.groupby(\"direct_admission\")[\"final_test\"].var())"
   ]
  },
  {
   "cell_type": "markdown",
   "metadata": {},
   "source": [
    "The direct admission feature is useful as it provides some variance to the final_test results."
   ]
  },
  {
   "cell_type": "markdown",
   "metadata": {},
   "source": [
    "## Tuition\n",
    "There were some issues with the encoding so some data cleaning is required. group No and N together and Yes and Y together."
   ]
  },
  {
   "cell_type": "code",
   "execution_count": 25,
   "metadata": {},
   "outputs": [
    {
     "name": "stderr",
     "output_type": "stream",
     "text": [
      "C:\\Users\\tan_k\\anaconda3\\lib\\site-packages\\pandas\\core\\generic.py:6746: SettingWithCopyWarning: \n",
      "A value is trying to be set on a copy of a slice from a DataFrame\n",
      "\n",
      "See the caveats in the documentation: https://pandas.pydata.org/pandas-docs/stable/user_guide/indexing.html#returning-a-view-versus-a-copy\n",
      "  self._update_inplace(new_data)\n"
     ]
    }
   ],
   "source": [
    "df[\"tuition\"].replace({\"No\": \"N\", \"Yes\": \"Y\"}, inplace=True)"
   ]
  },
  {
   "cell_type": "code",
   "execution_count": 26,
   "metadata": {},
   "outputs": [
    {
     "data": {
      "image/png": "[encoded data removed]",
      "text/plain": [
       "<Figure size 864x432 with 1 Axes>"
      ]
     },
     "metadata": {
      "needs_background": "light"
     },
     "output_type": "display_data"
    },
    {
     "name": "stdout",
     "output_type": "stream",
     "text": [
      "tuition\n",
      "N    62.0\n",
      "Y    70.0\n",
      "Name: final_test, dtype: float64\n",
      "tuition\n",
      "N    196.578794\n",
      "Y    159.450994\n",
      "Name: final_test, dtype: float64\n"
     ]
    }
   ],
   "source": [
    "ranks = df.groupby(\"tuition\")[\"final_test\"].median().sort_values(ascending=False)[::-1].index\n",
    "\n",
    "var_name = \"tuition\"\n",
    "col_order = np.sort(df[var_name].unique()).tolist()\n",
    "plt.figure(figsize=(12,6))\n",
    "sns.boxplot(x=var_name, y='final_test', data=df, order=ranks)\n",
    "plt.xlabel(var_name, fontsize=12)\n",
    "plt.ylabel('final_test', fontsize=12)\n",
    "plt.title(\"Distribution of final test variable with \"+var_name, fontsize=15)\n",
    "plt.show()\n",
    "print(df.groupby(\"tuition\")[\"final_test\"].median())\n",
    "print(df.groupby(\"tuition\")[\"final_test\"].var())"
   ]
  },
  {
   "cell_type": "markdown",
   "metadata": {},
   "source": [
    "## Sleep Time"
   ]
  },
  {
   "cell_type": "code",
   "execution_count": 23,
   "metadata": {},
   "outputs": [
    {
     "data": {
      "image/png": "[encoded data removed]",
      "text/plain": [
       "<Figure size 864x432 with 1 Axes>"
      ]
     },
     "metadata": {
      "needs_background": "light"
     },
     "output_type": "display_data"
    },
    {
     "name": "stdout",
     "output_type": "stream",
     "text": [
      "sleep_time\n",
      "0:00     48.0\n",
      "0:30     46.0\n",
      "1:00     44.0\n",
      "1:30     45.0\n",
      "21:00    69.0\n",
      "21:30    68.0\n",
      "22:00    68.0\n",
      "22:30    68.0\n",
      "23:00    68.0\n",
      "23:30    53.0\n",
      "2:00     45.0\n",
      "2:30     45.0\n",
      "3:00     44.5\n",
      "Name: final_test, dtype: float64\n",
      "sleep_time\n",
      "0:00     177.901012\n",
      "0:30      39.660969\n",
      "1:00      33.248250\n",
      "1:30      35.478886\n",
      "21:00    164.414363\n",
      "21:30    172.517316\n",
      "22:00    172.964670\n",
      "22:30    182.363805\n",
      "23:00    181.654764\n",
      "23:30    262.122414\n",
      "2:00      18.985347\n",
      "2:30      13.021645\n",
      "3:00      33.632063\n",
      "Name: final_test, dtype: float64\n"
     ]
    }
   ],
   "source": [
    "ranks = df.groupby(\"sleep_time\")[\"final_test\"].median().sort_values(ascending=False)[::-1].index\n",
    "\n",
    "var_name = \"sleep_time\"\n",
    "col_order = np.sort(df[var_name].unique()).tolist()\n",
    "plt.figure(figsize=(12,6))\n",
    "sns.boxplot(x=var_name, y='final_test', data=df, order=ranks)\n",
    "plt.xlabel(var_name, fontsize=12)\n",
    "plt.ylabel('final_test', fontsize=12)\n",
    "plt.title(\"Distribution of final test variable with \"+var_name, fontsize=15)\n",
    "plt.show()\n",
    "print(df.groupby(\"sleep_time\")[\"final_test\"].median())\n",
    "print(df.groupby(\"sleep_time\")[\"final_test\"].var())"
   ]
  },
  {
   "cell_type": "markdown",
   "metadata": {},
   "source": [
    "As there is a distinct difference in the median test scores between the pre and post midnight category, i will group them into before midnight and after midnight."
   ]
  },
  {
   "cell_type": "code",
   "execution_count": 24,
   "metadata": {},
   "outputs": [
    {
     "name": "stderr",
     "output_type": "stream",
     "text": [
      "C:\\Users\\tan_k\\anaconda3\\lib\\site-packages\\pandas\\core\\generic.py:6746: SettingWithCopyWarning: \n",
      "A value is trying to be set on a copy of a slice from a DataFrame\n",
      "\n",
      "See the caveats in the documentation: https://pandas.pydata.org/pandas-docs/stable/user_guide/indexing.html#returning-a-view-versus-a-copy\n",
      "  self._update_inplace(new_data)\n"
     ]
    }
   ],
   "source": [
    "df[\"sleep_time\"].replace({\"1:00\": \"Past_midnight\", \"3:00\": \"Past_midnight\", \"1:30\":\"Past_midnight\",\"2:00\":\"Past_midnight\",\"2:30\":\"Past_midnight\",\"0:30\":\"Past_midnight\",\"23:30\": \"Pre_midnight\", \"21:30\": \"Pre_midnight\", \"22:00\":\"Pre_midnight\",\"21:00\":\"Pre_midnight\",\"23:00\":\"Pre_midnight\",\"0:00\":\"Pre_midnight\",\"22:30\":\"Pre_midnight\"}, inplace=True)"
   ]
  },
  {
   "cell_type": "code",
   "execution_count": 25,
   "metadata": {},
   "outputs": [
    {
     "data": {
      "image/png": "[encoded data removed]",
      "text/plain": [
       "<Figure size 864x432 with 1 Axes>"
      ]
     },
     "metadata": {
      "needs_background": "light"
     },
     "output_type": "display_data"
    },
    {
     "name": "stdout",
     "output_type": "stream",
     "text": [
      "sleep_time\n",
      "Past_midnight    45.0\n",
      "Pre_midnight     68.0\n",
      "Name: final_test, dtype: float64\n",
      "sleep_time\n",
      "Past_midnight     31.124727\n",
      "Pre_midnight     180.141713\n",
      "Name: final_test, dtype: float64\n"
     ]
    }
   ],
   "source": [
    "ranks = df.groupby(\"sleep_time\")[\"final_test\"].median().sort_values(ascending=False)[::-1].index\n",
    "\n",
    "var_name = \"sleep_time\"\n",
    "col_order = np.sort(df[var_name].unique()).tolist()\n",
    "plt.figure(figsize=(12,6))\n",
    "sns.boxplot(x=var_name, y='final_test', data=df, order=ranks)\n",
    "plt.xlabel(var_name, fontsize=12)\n",
    "plt.ylabel('final_test', fontsize=12)\n",
    "plt.title(\"Distribution of final test variable with \"+var_name, fontsize=15)\n",
    "plt.show()\n",
    "print(df.groupby(\"sleep_time\")[\"final_test\"].median())\n",
    "print(df.groupby(\"sleep_time\")[\"final_test\"].var())"
   ]
  },
  {
   "cell_type": "markdown",
   "metadata": {},
   "source": [
    "We can see that this new feature created shows a sharp distincition in both categories."
   ]
  },
  {
   "cell_type": "markdown",
   "metadata": {},
   "source": [
    "## Wake Time"
   ]
  },
  {
   "cell_type": "code",
   "execution_count": 28,
   "metadata": {},
   "outputs": [
    {
     "data": {
      "image/png": "[encoded data removed]",
      "text/plain": [
       "<Figure size 864x432 with 1 Axes>"
      ]
     },
     "metadata": {
      "needs_background": "light"
     },
     "output_type": "display_data"
    },
    {
     "name": "stdout",
     "output_type": "stream",
     "text": [
      "wake_time\n",
      "5:00    67.165401\n",
      "5:30    67.165401\n",
      "6:00    67.165401\n",
      "6:30    67.165401\n",
      "7:00    67.165401\n",
      "Name: final_test, dtype: float64\n",
      "wake_time\n",
      "5:00    186.074121\n",
      "5:30    189.036915\n",
      "6:00    185.642592\n",
      "6:30    195.741764\n",
      "7:00    188.773208\n",
      "Name: final_test, dtype: float64\n"
     ]
    }
   ],
   "source": [
    "ranks = df.groupby(\"wake_time\")[\"final_test\"].median().sort_values(ascending=False)[::-1].index\n",
    "\n",
    "var_name = \"wake_time\"\n",
    "col_order = np.sort(df[var_name].unique()).tolist()\n",
    "plt.figure(figsize=(12,6))\n",
    "sns.boxplot(x=var_name, y='final_test', data=df, order=ranks)\n",
    "plt.xlabel(var_name, fontsize=12)\n",
    "plt.ylabel('final_test', fontsize=12)\n",
    "plt.title(\"Distribution of final test variable with \"+var_name, fontsize=15)\n",
    "plt.show()\n",
    "print(df.groupby(\"wake_time\")[\"final_test\"].median())\n",
    "print(df.groupby(\"wake_time\")[\"final_test\"].var())"
   ]
  },
  {
   "cell_type": "markdown",
   "metadata": {},
   "source": [
    "The variance across multiple waking times do not contribute to any large variance in the final score. Further more we have already created a new feature utilizing waking time. Therefore, wake _time can be removed."
   ]
  },
  {
   "cell_type": "code",
   "execution_count": 34,
   "metadata": {},
   "outputs": [
    {
     "data": {
      "image/png": "[encoded data removed]",
      "text/plain": [
       "<Figure size 864x432 with 1 Axes>"
      ]
     },
     "metadata": {
      "needs_background": "light"
     },
     "output_type": "display_data"
    },
    {
     "name": "stdout",
     "output_type": "stream",
     "text": [
      "sleep_time\n",
      "0:00     48.0\n",
      "0:30     46.0\n",
      "1:00     44.0\n",
      "1:30     45.0\n",
      "21:00    69.0\n",
      "21:30    68.0\n",
      "22:00    68.0\n",
      "22:30    68.0\n",
      "23:00    68.0\n",
      "23:30    53.0\n",
      "2:00     45.0\n",
      "2:30     45.0\n",
      "3:00     44.5\n",
      "Name: final_test, dtype: float64\n",
      "sleep_time\n",
      "0:00     177.901012\n",
      "0:30      39.660969\n",
      "1:00      33.248250\n",
      "1:30      35.478886\n",
      "21:00    164.414363\n",
      "21:30    172.517316\n",
      "22:00    172.964670\n",
      "22:30    182.363805\n",
      "23:00    181.654764\n",
      "23:30    262.122414\n",
      "2:00      18.985347\n",
      "2:30      13.021645\n",
      "3:00      33.632063\n",
      "Name: final_test, dtype: float64\n"
     ]
    }
   ],
   "source": [
    "ranks = df.groupby(\"bag_color\")[\"final_test\"].median().sort_values(ascending=False)[::-1].index\n",
    "\n",
    "var_name = \"bag_color\"\n",
    "col_order = np.sort(df[var_name].unique()).tolist()\n",
    "plt.figure(figsize=(12,6))\n",
    "sns.boxplot(x=var_name, y='final_test', data=df, order=ranks)\n",
    "plt.xlabel(var_name, fontsize=12)\n",
    "plt.ylabel('final_test', fontsize=12)\n",
    "plt.title(\"Distribution of final test variable with \"+var_name, fontsize=15)\n",
    "plt.show()\n",
    "print(df.groupby(\"bag_color\")[\"final_test\"].median())\n",
    "print(df.groupby(\"bag_color\")[\"final_test\"].var())"
   ]
  },
  {
   "cell_type": "markdown",
   "metadata": {},
   "source": [
    "Since the variance does not change across multiple bag colors it shows that bag colors is not significant as a feature. In addition, intuitively bag color has no relevance to final grades. Therefore, bag color feature can be removed."
   ]
  },
  {
   "cell_type": "code",
   "execution_count": null,
   "metadata": {},
   "outputs": [],
   "source": []
  }
 ],
 "metadata": {
  "kernelspec": {
   "display_name": "Python 3",
   "language": "python",
   "name": "python3"
  },
  "language_info": {
   "codemirror_mode": {
    "name": "ipython",
    "version": 3
   },
   "file_extension": ".py",
   "mimetype": "text/x-python",
   "name": "python",
   "nbconvert_exporter": "python",
   "pygments_lexer": "ipython3",
   "version": "3.8.3"
  }
 },
 "nbformat": 4,
 "nbformat_minor": 4
}
